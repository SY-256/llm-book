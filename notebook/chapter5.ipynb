{
 "cells": [
  {
   "cell_type": "code",
   "execution_count": 1,
   "metadata": {},
   "outputs": [],
   "source": [
    "import os\n",
    "os.environ['HF_HOME'] = \"/workspaces/LLM/huggingface_cache\"\n",
    "cache_dir = \"/workspaces/LLM/huggingface_cache\""
   ]
  },
  {
   "cell_type": "code",
   "execution_count": 2,
   "metadata": {},
   "outputs": [
    {
     "name": "stderr",
     "output_type": "stream",
     "text": [
      "/usr/local/lib/python3.10/dist-packages/tqdm/auto.py:21: TqdmWarning: IProgress not found. Please update jupyter and ipywidgets. See https://ipywidgets.readthedocs.io/en/stable/user_install.html\n",
      "  from .autonotebook import tqdm as notebook_tqdm\n"
     ]
    },
    {
     "name": "stdout",
     "output_type": "stream",
     "text": [
      "Current HuggingFace cache directory: /workspaces/LLM/huggingface_cache/transformers\n"
     ]
    }
   ],
   "source": [
    "from transformers import file_utils\n",
    "\n",
    "# 現在のキャッシュディレクトリを取得\n",
    "cache_dir = file_utils.default_cache_path\n",
    "print(f\"Current HuggingFace cache directory: {cache_dir}\")"
   ]
  },
  {
   "cell_type": "code",
   "execution_count": 3,
   "metadata": {},
   "outputs": [],
   "source": [
    "# !pip install japanize-matplotlib"
   ]
  },
  {
   "cell_type": "code",
   "execution_count": 4,
   "metadata": {},
   "outputs": [],
   "source": [
    "from transformers.trainer_utils import set_seed\n",
    "# 乱数シードの固定\n",
    "set_seed(42)"
   ]
  },
  {
   "cell_type": "code",
   "execution_count": 5,
   "metadata": {},
   "outputs": [
    {
     "name": "stderr",
     "output_type": "stream",
     "text": [
      "Using custom data configuration MARC-ja\n",
      "Reusing dataset wrime-sentiment (/workspaces/LLM/huggingface_cache/datasets/llm-book___wrime-sentiment/MARC-ja/0.0.0/c49a65171c421f2ae4dd3db82595f499cf0d289ca6780a2aeddf710f22dd8a37)\n",
      "Using custom data configuration MARC-ja\n",
      "Reusing dataset wrime-sentiment (/workspaces/LLM/huggingface_cache/datasets/llm-book___wrime-sentiment/MARC-ja/0.0.0/c49a65171c421f2ae4dd3db82595f499cf0d289ca6780a2aeddf710f22dd8a37)\n"
     ]
    },
    {
     "name": "stdout",
     "output_type": "stream",
     "text": [
      "{'datetime': '2012/7/31 23:48',\n",
      " 'label': 1,\n",
      " 'sentence': 'ぼけっとしてたらこんな時間。チャリあるから食べにでたいのに…',\n",
      " 'user_id': 1}\n"
     ]
    }
   ],
   "source": [
    "### データセットの準備\n",
    "from pprint import pprint\n",
    "from datasets import load_dataset\n",
    "\n",
    "# HuggingFaceHubのllm-book/JGLUEのリポジトリから\n",
    "# MARC-jaデータを読み込む\n",
    "train_dataset = load_dataset(\n",
    "    \"llm-book/wrime-sentiment\", name=\"MARC-ja\", split=\"train\"\n",
    ")\n",
    "valid_dataset = load_dataset(\n",
    "    \"llm-book/wrime-sentiment\", name=\"MARC-ja\", split=\"validation\"\n",
    ")\n",
    "# pprintで見やすくする\n",
    "pprint(train_dataset[0])\n"
   ]
  },
  {
   "cell_type": "code",
   "execution_count": 6,
   "metadata": {},
   "outputs": [
    {
     "name": "stdout",
     "output_type": "stream",
     "text": [
      "{'datetime': Value(dtype='string', id=None),\n",
      " 'label': ClassLabel(num_classes=2, names=['positive', 'negative'], id=None),\n",
      " 'sentence': Value(dtype='string', id=None),\n",
      " 'user_id': Value(dtype='int64', id=None)}\n"
     ]
    }
   ],
   "source": [
    "pprint(train_dataset.features)"
   ]
  },
  {
   "cell_type": "markdown",
   "metadata": {},
   "source": [
    "### トークナイザー"
   ]
  },
  {
   "cell_type": "code",
   "execution_count": 7,
   "metadata": {},
   "outputs": [],
   "source": [
    "# !pip install transformers[ja,sentencepice]"
   ]
  },
  {
   "cell_type": "code",
   "execution_count": 8,
   "metadata": {},
   "outputs": [
    {
     "name": "stdout",
     "output_type": "stream",
     "text": [
      "BertJapaneseTokenizer\n"
     ]
    }
   ],
   "source": [
    "from transformers import AutoTokenizer\n",
    "\n",
    "# HuggingFaceHub上のモデル名を指定\n",
    "model_name = \"tohoku-nlp/bert-base-japanese-v3\"\n",
    "# モデル名からトークナイザを読み込む\n",
    "tokenizer = AutoTokenizer.from_pretrained(model_name)\n",
    "print(type(tokenizer).__name__)"
   ]
  },
  {
   "cell_type": "code",
   "execution_count": 9,
   "metadata": {},
   "outputs": [
    {
     "data": {
      "text/plain": [
       "['これ', 'は', 'テスト', 'です']"
      ]
     },
     "execution_count": 9,
     "metadata": {},
     "output_type": "execute_result"
    }
   ],
   "source": [
    "tokenizer.tokenize(\"これはテストです\")"
   ]
  },
  {
   "cell_type": "code",
   "execution_count": 10,
   "metadata": {},
   "outputs": [
    {
     "name": "stdout",
     "output_type": "stream",
     "text": [
      "BatchEncoding\n"
     ]
    }
   ],
   "source": [
    "encoded_input = tokenizer(\"これはテストです。\")\n",
    "# 出力されたオブジェクトのクラスを表示\n",
    "print(type(encoded_input).__name__)"
   ]
  },
  {
   "cell_type": "code",
   "execution_count": 11,
   "metadata": {},
   "outputs": [
    {
     "name": "stdout",
     "output_type": "stream",
     "text": [
      "{'attention_mask': [1, 1, 1, 1, 1, 1, 1],\n",
      " 'input_ids': [2, 12538, 465, 14985, 13037, 385, 3],\n",
      " 'token_type_ids': [0, 0, 0, 0, 0, 0, 0]}\n"
     ]
    }
   ],
   "source": [
    "pprint(encoded_input)"
   ]
  },
  {
   "cell_type": "code",
   "execution_count": 12,
   "metadata": {},
   "outputs": [
    {
     "data": {
      "text/plain": [
       "['[CLS]', 'これ', 'は', 'テスト', 'です', '。', '[SEP]']"
      ]
     },
     "execution_count": 12,
     "metadata": {},
     "output_type": "execute_result"
    }
   ],
   "source": [
    "# 特殊トークンの確認\n",
    "tokenizer.convert_ids_to_tokens(encoded_input[\"input_ids\"])"
   ]
  },
  {
   "cell_type": "markdown",
   "metadata": {},
   "source": [
    "### データセット統計の可視化"
   ]
  },
  {
   "cell_type": "code",
   "execution_count": 17,
   "metadata": {},
   "outputs": [
    {
     "name": "stderr",
     "output_type": "stream",
     "text": [
      "100%|██████████| 20149/20149 [00:05<00:00, 3794.49it/s]\n"
     ]
    },
    {
     "data": {
      "image/png": "[encoded data removed]",
      "text/plain": [
       "<Figure size 640x480 with 1 Axes>"
      ]
     },
     "metadata": {},
     "output_type": "display_data"
    },
    {
     "name": "stderr",
     "output_type": "stream",
     "text": [
      "100%|██████████| 1608/1608 [00:00<00:00, 3643.89it/s]\n"
     ]
    },
    {
     "data": {
      "image/png": "[encoded data removed]",
      "text/plain": [
       "<Figure size 640x480 with 1 Axes>"
      ]
     },
     "metadata": {},
     "output_type": "display_data"
    }
   ],
   "source": [
    "from collections import Counter\n",
    "import japanize_matplotlib\n",
    "import matplotlib.pyplot as plt\n",
    "from datasets import Dataset\n",
    "from tqdm import tqdm\n",
    "\n",
    "plt.rcParams[\"font.size\"] = 18\n",
    "\n",
    "def visualize_text_length(dataset: Dataset):\n",
    "    \"\"\"データセット中のテキストのトークン数の分布をグラフとして描画\"\"\"\n",
    "    # データセット中のテキストの長さを数える\n",
    "    length_counter = Counter()\n",
    "    for data in tqdm(dataset):\n",
    "        length = len(tokenizer.tokenize(data[\"sentence\"]))\n",
    "        length_counter[length] += 1\n",
    "    # length_counterの値から棒グラフを描画する\n",
    "    plt.bar(length_counter.keys(), length_counter.values(), width=1.0)\n",
    "    plt.xlabel(\"トークン数\")\n",
    "    plt.ylabel(\"事例数\")\n",
    "    plt.show()\n",
    "    \n",
    "visualize_text_length(train_dataset)\n",
    "visualize_text_length(valid_dataset)"
   ]
  },
  {
   "cell_type": "code",
   "execution_count": 18,
   "metadata": {},
   "outputs": [
    {
     "name": "stdout",
     "output_type": "stream",
     "text": [
      "{'datetime': '2020/5/15 17:35',\n",
      " 'label': 1,\n",
      " 'sentence': 'よくわからない連携。',\n",
      " 'user_id': 26}\n",
      "{'datetime': '2020/5/15 17:47',\n",
      " 'label': 1,\n",
      " 'sentence': 'この3年が無駄になった。',\n",
      " 'user_id': 26}\n",
      "{'datetime': '2020/5/15 17:48',\n",
      " 'label': 1,\n",
      " 'sentence': '空気を読んでなくて。',\n",
      " 'user_id': 26}\n",
      "{'datetime': '2020/5/15 17:52',\n",
      " 'label': 1,\n",
      " 'sentence': 'っていうか、英語の聞きすぎ',\n",
      " 'user_id': 26}\n",
      "{'datetime': '2020/5/18 16:31',\n",
      " 'label': 0,\n",
      " 'sentence': '明日は楽しみかも。',\n",
      " 'user_id': 26}\n",
      "{'datetime': '2020/5/19 11:55',\n",
      " 'label': 1,\n",
      " 'sentence': '今日は誤字だらけ。',\n",
      " 'user_id': 26}\n",
      "{'datetime': '2020/5/21 8:29',\n",
      " 'label': 0,\n",
      " 'sentence': 'SUNがいいなと思った。',\n",
      " 'user_id': 26}\n",
      "{'datetime': '2020/5/5 6:50',\n",
      " 'label': 0,\n",
      " 'sentence': 'わさび醤油、結構合う。',\n",
      " 'user_id': 28}\n",
      "{'datetime': '2020/5/6 6:13',\n",
      " 'label': 1,\n",
      " 'sentence': '朝から本当に腹立たしい。',\n",
      " 'user_id': 28}\n",
      "{'datetime': '2020/5/6 6:27',\n",
      " 'label': 1,\n",
      " 'sentence': 'しかも本人は反省の色なし',\n",
      " 'user_id': 28}\n",
      "{'datetime': '2020/5/6 8:18', 'label': 1, 'sentence': '書けない', 'user_id': 28}\n",
      "{'datetime': '2020/3/2 19:32',\n",
      " 'label': 1,\n",
      " 'sentence': 'タバコ吸ってるやつ全員死んでほしい',\n",
      " 'user_id': 33}\n",
      "{'datetime': '2020/3/24 20:00', 'label': 1, 'sentence': '詐欺じゃん。', 'user_id': 33}\n",
      "{'datetime': '2020/4/7 14:27',\n",
      " 'label': 1,\n",
      " 'sentence': '全員死んでください',\n",
      " 'user_id': 33}\n",
      "{'datetime': '2013/9/25 22:16',\n",
      " 'label': 1,\n",
      " 'sentence': 'あの高音安定してだせん',\n",
      " 'user_id': 37}\n",
      "{'datetime': '2013/9/26 0:06', 'label': 0, 'sentence': '携帯復活', 'user_id': 37}\n",
      "{'datetime': '2013/9/26 0:33',\n",
      " 'label': 0,\n",
      " 'sentence': 'あー最近バレエ熱やばい',\n",
      " 'user_id': 37}\n",
      "{'datetime': '2013/9/29 21:07', 'label': 0, 'sentence': '相葉さーん', 'user_id': 37}\n",
      "{'datetime': '2013/9/29 21:28',\n",
      " 'label': 0,\n",
      " 'sentence': '相葉さん残ってらっしゃる',\n",
      " 'user_id': 37}\n",
      "{'datetime': '2013/9/29 21:31',\n",
      " 'label': 0,\n",
      " 'sentence': 'ピカチュウ様は永遠',\n",
      " 'user_id': 37}\n",
      "{'datetime': '2013/9/29 21:40',\n",
      " 'label': 0,\n",
      " 'sentence': 'ばっちいいいいいいいい！',\n",
      " 'user_id': 37}\n",
      "{'datetime': '2013/10/5 15:54',\n",
      " 'label': 0,\n",
      " 'sentence': '何これ。メンツ豪華すぎる',\n",
      " 'user_id': 37}\n",
      "{'datetime': '2013/10/6 21:36',\n",
      " 'label': 0,\n",
      " 'sentence': '王子！王子！王子！',\n",
      " 'user_id': 37}\n",
      "{'datetime': '2013/10/9 22:41',\n",
      " 'label': 1,\n",
      " 'sentence': '突発的にキャパ越え起こした',\n",
      " 'user_id': 37}\n",
      "{'datetime': '2013/10/9 22:42',\n",
      " 'label': 1,\n",
      " 'sentence': 'ちょっと辛いのです',\n",
      " 'user_id': 37}\n",
      "{'datetime': '2013/10/27 8:08',\n",
      " 'label': 0,\n",
      " 'sentence': 'ニートかwwww',\n",
      " 'user_id': 37}\n",
      "{'datetime': '2013/10/27 8:16',\n",
      " 'label': 0,\n",
      " 'sentence': '豊さんがテレビで見れて幸せです',\n",
      " 'user_id': 37}\n",
      "{'datetime': '2013/10/27 8:20',\n",
      " 'label': 0,\n",
      " 'sentence': 'おいザックさん笑ってたぞwww',\n",
      " 'user_id': 37}\n",
      "{'datetime': '2013/10/27 8:23',\n",
      " 'label': 0,\n",
      " 'sentence': '薔薇wwwwwwwwww',\n",
      " 'user_id': 37}\n",
      "{'datetime': '2013/10/27 8:24',\n",
      " 'label': 0,\n",
      " 'sentence': '草がとても生えるwwwww',\n",
      " 'user_id': 37}\n",
      "{'datetime': '2013/10/27 8:34',\n",
      " 'label': 1,\n",
      " 'sentence': 'ミッチー死にそう',\n",
      " 'user_id': 37}\n",
      "{'datetime': '2013/10/27 8:36',\n",
      " 'label': 0,\n",
      " 'sentence': 'いやあ久保田かっこいいわ',\n",
      " 'user_id': 37}\n",
      "{'datetime': '2013/10/27 8:37',\n",
      " 'label': 0,\n",
      " 'sentence': 'メロンはかっこよかった',\n",
      " 'user_id': 37}\n",
      "{'datetime': '2013/11/5 20:39',\n",
      " 'label': 1,\n",
      " 'sentence': 'すいまでんでした',\n",
      " 'user_id': 37}\n",
      "{'datetime': '2013/11/8 1:28',\n",
      " 'label': 1,\n",
      " 'sentence': 'きらわれてるじゃないかと辛い',\n",
      " 'user_id': 37}\n",
      "{'datetime': '2013/11/8 3:56',\n",
      " 'label': 0,\n",
      " 'sentence': '折角良い環境にいるのですから',\n",
      " 'user_id': 37}\n",
      "{'datetime': '2013/11/18 16:45',\n",
      " 'label': 0,\n",
      " 'sentence': 'フワンテとタツベイも育てるか',\n",
      " 'user_id': 37}\n",
      "{'datetime': '2013/11/20 17:07',\n",
      " 'label': 0,\n",
      " 'sentence': '久しぶりだああ',\n",
      " 'user_id': 37}\n",
      "{'datetime': '2013/12/4 0:31', 'label': 0, 'sentence': 'あー四天楽しみ', 'user_id': 37}\n",
      "{'datetime': '2013/12/4 0:33',\n",
      " 'label': 1,\n",
      " 'sentence': '本当に体動かんくてつらい',\n",
      " 'user_id': 37}\n",
      "{'datetime': '2013/12/4 0:35',\n",
      " 'label': 1,\n",
      " 'sentence': '関東にいるからなあ私だけ',\n",
      " 'user_id': 37}\n",
      "{'datetime': '2013/12/7 2:18',\n",
      " 'label': 1,\n",
      " 'sentence': 'そりゃあ罰も当たりますよ',\n",
      " 'user_id': 37}\n",
      "{'datetime': '2013/12/7 2:19',\n",
      " 'label': 1,\n",
      " 'sentence': 'すみませんでした',\n",
      " 'user_id': 37}\n",
      "{'datetime': '2013/12/7 2:19',\n",
      " 'label': 1,\n",
      " 'sentence': 'どうすれば反省が伝わるだろうか',\n",
      " 'user_id': 37}\n",
      "{'datetime': '2013/12/7 2:20',\n",
      " 'label': 1,\n",
      " 'sentence': 'お経くらい覚えるか…',\n",
      " 'user_id': 37}\n",
      "{'datetime': '2013/12/7 2:21',\n",
      " 'label': 1,\n",
      " 'sentence': '涙とまんない....',\n",
      " 'user_id': 37}\n",
      "{'datetime': '2013/12/7 2:22',\n",
      " 'label': 1,\n",
      " 'sentence': 'この時期はこれだから',\n",
      " 'user_id': 37}\n",
      "{'datetime': '2013/12/10 23:09',\n",
      " 'label': 0,\n",
      " 'sentence': 'ブレイブリーデフォルト楽しい',\n",
      " 'user_id': 37}\n",
      "{'datetime': '2013/12/30 18:23',\n",
      " 'label': 0,\n",
      " 'sentence': 'PS3欲しいお…',\n",
      " 'user_id': 37}\n",
      "{'datetime': '2013/12/30 23:57',\n",
      " 'label': 0,\n",
      " 'sentence': '明日は歴史的な日ですぞ！',\n",
      " 'user_id': 37}\n",
      "{'datetime': '2013/12/31 3:38',\n",
      " 'label': 0,\n",
      " 'sentence': '未だにクロウ熱は再熱を繰り返す',\n",
      " 'user_id': 37}\n",
      "{'datetime': '2013/12/31 3:46',\n",
      " 'label': 0,\n",
      " 'sentence': 'クロウさんの遠回復は萌えポイント',\n",
      " 'user_id': 37}\n",
      "{'datetime': '2014/1/6 8:07',\n",
      " 'label': 1,\n",
      " 'sentence': 'ふざけるなよじじい',\n",
      " 'user_id': 37}\n",
      "{'datetime': '2014/1/6 21:32', 'label': 1, 'sentence': '腹はいたい。', 'user_id': 37}\n",
      "{'datetime': '2014/1/16 18:22',\n",
      " 'label': 0,\n",
      " 'sentence': '真田十勇士いってきます！',\n",
      " 'user_id': 37}\n",
      "{'datetime': '2014/2/7 2:29',\n",
      " 'label': 0,\n",
      " 'sentence': 'FEでこれは感動...',\n",
      " 'user_id': 37}\n",
      "{'datetime': '2014/2/7 2:29',\n",
      " 'label': 0,\n",
      " 'sentence': 'ふおおおおムービー綺麗！',\n",
      " 'user_id': 37}\n",
      "{'datetime': '2014/2/9 11:29',\n",
      " 'label': 0,\n",
      " 'sentence': '四天昼公演いってきます！',\n",
      " 'user_id': 37}\n",
      "{'datetime': '2014/6/22 15:28',\n",
      " 'label': 0,\n",
      " 'sentence': 'すごい楽しそうだった',\n",
      " 'user_id': 37}\n",
      "{'datetime': '2020/10/28 15:10',\n",
      " 'label': 0,\n",
      " 'sentence': '旅に出たいなあ。',\n",
      " 'user_id': 56}\n",
      "{'datetime': '2020/10/28 17:01',\n",
      " 'label': 1,\n",
      " 'sentence': '執行猶予が伸びました。',\n",
      " 'user_id': 56}\n",
      "{'datetime': '2020/7/10 20:26', 'label': 1, 'sentence': 'クソツイ削除', 'user_id': 62}\n",
      "{'datetime': '2020/7/15 0:41',\n",
      " 'label': 1,\n",
      " 'sentence': '不敬ツイート削除',\n",
      " 'user_id': 62}\n",
      "{'datetime': '2020/7/18 5:30',\n",
      " 'label': 1,\n",
      " 'sentence': 'キモツイート削除',\n",
      " 'user_id': 62}\n",
      "{'datetime': '2020/7/21 18:15',\n",
      " 'label': 0,\n",
      " 'sentence': 'ツイッター早朝部〜 いくわよ！！',\n",
      " 'user_id': 62}\n",
      "{'datetime': '2020/8/21 2:34', 'label': 1, 'sentence': 'たすけて〜〜〜', 'user_id': 62}\n",
      "{'datetime': '2020/8/23 4:49',\n",
      " 'label': 0,\n",
      " 'sentence': 'フォロワーと無事会えた',\n",
      " 'user_id': 62}\n",
      "{'datetime': '2020/8/30 7:03',\n",
      " 'label': 0,\n",
      " 'sentence': 'ツイッター早朝部、いくわよ！！',\n",
      " 'user_id': 62}\n",
      "{'datetime': '2020/9/1 22:35',\n",
      " 'label': 1,\n",
      " 'sentence': 'テストへのモチベ/zero',\n",
      " 'user_id': 62}\n",
      "{'datetime': '2020/9/6 3:36',\n",
      " 'label': 1,\n",
      " 'sentence': 'オレってどうすればE？',\n",
      " 'user_id': 62}\n",
      "{'datetime': '2020/9/16 2:13', 'label': 1, 'sentence': 'うつ病', 'user_id': 62}\n",
      "{'datetime': '2020/9/27 4:32',\n",
      " 'label': 0,\n",
      " 'sentence': 'ツイッター早朝部、いくわよ！！',\n",
      " 'user_id': 62}\n",
      "{'datetime': '2020/10/1 1:18', 'label': 1, 'sentence': 'オエー', 'user_id': 62}\n",
      "{'datetime': '2020/10/1 15:03',\n",
      " 'label': 1,\n",
      " 'sentence': 'クソメールを送ってしまった',\n",
      " 'user_id': 62}\n",
      "{'datetime': '2020/10/7 6:24',\n",
      " 'label': 0,\n",
      " 'sentence': 'ツイッター早朝部、いくわよ！！',\n",
      " 'user_id': 62}\n",
      "{'datetime': '2020/10/8 10:04',\n",
      " 'label': 1,\n",
      " 'sentence': 'わたしってどうすればE？',\n",
      " 'user_id': 62}\n",
      "{'datetime': '2020/10/11 12:57',\n",
      " 'label': 1,\n",
      " 'sentence': 'た、タスケテ〜',\n",
      " 'user_id': 62}\n",
      "{'datetime': '2020/10/14 17:40',\n",
      " 'label': 0,\n",
      " 'sentence': 'ツイッター早朝部、いくわよ！！',\n",
      " 'user_id': 62}\n",
      "{'datetime': '2020/10/23 3:20',\n",
      " 'label': 1,\n",
      " 'sentence': '人間仮免試験落ちた',\n",
      " 'user_id': 62}\n",
      "{'datetime': '2020/10/24 8:57',\n",
      " 'label': 0,\n",
      " 'sentence': 'かにパルサーさん生き返ったな',\n",
      " 'user_id': 62}\n",
      "{'datetime': '2020/10/25 5:23',\n",
      " 'label': 0,\n",
      " 'sentence': 'ツイッター早朝部、いくわよ！！',\n",
      " 'user_id': 62}\n",
      "{'datetime': '2020/6/13 9:43',\n",
      " 'label': 0,\n",
      " 'sentence': '旅に出たい。\\n\\n',\n",
      " 'user_id': 63}\n",
      "{'datetime': '2020/8/11 23:59',\n",
      " 'label': 1,\n",
      " 'sentence': 'とかくこの世は生きづらい。\\n\\n',\n",
      " 'user_id': 63}\n",
      "{'datetime': '2020/9/20 12:28',\n",
      " 'label': 0,\n",
      " 'sentence': 'ブルーハーツが好きです',\n",
      " 'user_id': 63}\n",
      "{'datetime': '2020/9/28 21:19',\n",
      " 'label': 0,\n",
      " 'sentence': '今日Gardenに帰ります！\\n\\n',\n",
      " 'user_id': 63}\n",
      "{'datetime': '2020/10/26 2:54',\n",
      " 'label': 1,\n",
      " 'sentence': 'あかん完全に昼夜逆転してる\\n\\n',\n",
      " 'user_id': 63}\n",
      "{'datetime': '2019/8/31 10:03',\n",
      " 'label': 0,\n",
      " 'sentence': '美しいものを摂取しないと。',\n",
      " 'user_id': 75}\n",
      "{'datetime': '2019/9/2 23:59',\n",
      " 'label': 0,\n",
      " 'sentence': '洋楽ではMIKAが好き',\n",
      " 'user_id': 75}\n",
      "{'datetime': '2019/9/24 23:42',\n",
      " 'label': 1,\n",
      " 'sentence': '猫アレルギーにとっては地獄だな',\n",
      " 'user_id': 75}\n",
      "{'datetime': '2019/9/25 14:21',\n",
      " 'label': 1,\n",
      " 'sentence': '確実に狂ってるなぁって。',\n",
      " 'user_id': 75}\n",
      "{'datetime': '2019/10/4 14:46',\n",
      " 'label': 0,\n",
      " 'sentence': '月見は今日はケーキ焼きチャレンジです',\n",
      " 'user_id': 75}\n",
      "{'datetime': '2019/10/12 18:24',\n",
      " 'label': 1,\n",
      " 'sentence': '踏んだり蹴ったりじゃないですか',\n",
      " 'user_id': 75}\n",
      "{'datetime': '2019/10/18 22:03',\n",
      " 'label': 0,\n",
      " 'sentence': '吉四六さん好きだったな',\n",
      " 'user_id': 75}\n",
      "{'datetime': '2019/12/15 12:33',\n",
      " 'label': 1,\n",
      " 'sentence': 'コメダ近くにないな…',\n",
      " 'user_id': 75}\n",
      "{'datetime': '2019/12/16 13:30',\n",
      " 'label': 0,\n",
      " 'sentence': 'ラブホ女子会楽しげ',\n",
      " 'user_id': 75}\n",
      "{'datetime': '2019/12/29 23:06',\n",
      " 'label': 0,\n",
      " 'sentence': '嬉しかったのでスクショした',\n",
      " 'user_id': 75}\n",
      "{'datetime': '2020/1/7 21:54',\n",
      " 'label': 0,\n",
      " 'sentence': 'れんこんの天ぷら好き',\n",
      " 'user_id': 75}\n",
      "{'datetime': '2020/1/8 13:30',\n",
      " 'label': 0,\n",
      " 'sentence': 'ハリネズミかわいいよね…',\n",
      " 'user_id': 75}\n",
      "{'datetime': '2020/1/13 16:38',\n",
      " 'label': 0,\n",
      " 'sentence': '白系統の柔らかい色好き',\n",
      " 'user_id': 75}\n",
      "{'datetime': '2020/1/28 19:21',\n",
      " 'label': 1,\n",
      " 'sentence': 'ワ、新型ウイルス関西に…',\n",
      " 'user_id': 75}\n",
      "{'datetime': '2020/1/30 20:17', 'label': 0, 'sentence': '推しが可愛い', 'user_id': 75}\n",
      "{'datetime': '2020/2/3 8:46',\n",
      " 'label': 0,\n",
      " 'sentence': 'サスペンダーって良いよね。',\n",
      " 'user_id': 75}\n",
      "{'datetime': '2020/2/18 18:27',\n",
      " 'label': 0,\n",
      " 'sentence': 'YANKEE推しわかる',\n",
      " 'user_id': 75}\n",
      "{'datetime': '2020/3/6 8:24',\n",
      " 'label': 1,\n",
      " 'sentence': '身体が最近バキバキ',\n",
      " 'user_id': 75}\n",
      "{'datetime': '2020/4/14 0:42', 'label': 0, 'sentence': '玄米茶が好き', 'user_id': 75}\n",
      "{'datetime': '2020/4/26 18:54',\n",
      " 'label': 0,\n",
      " 'sentence': 'アメリ良いですよね…',\n",
      " 'user_id': 75}\n",
      "{'datetime': '2020/5/5 16:32',\n",
      " 'label': 1,\n",
      " 'sentence': 'ちょっとベッド破壊してました。',\n",
      " 'user_id': 75}\n",
      "{'datetime': '2020/5/19 21:24',\n",
      " 'label': 0,\n",
      " 'sentence': '鮭のムニエルって美味しい',\n",
      " 'user_id': 75}\n",
      "{'datetime': '2020/5/19 23:17',\n",
      " 'label': 0,\n",
      " 'sentence': '指の綺麗な人は憧れ',\n",
      " 'user_id': 75}\n",
      "{'datetime': '2020/5/24 0:54',\n",
      " 'label': 1,\n",
      " 'sentence': '漫画読んでたらこんな時間ですよ',\n",
      " 'user_id': 75}\n",
      "{'datetime': '2020/5/26 13:23',\n",
      " 'label': 1,\n",
      " 'sentence': '眠くてブチ切れそう\\u3000切れない',\n",
      " 'user_id': 75}\n",
      "{'datetime': '2020/5/27 0:51',\n",
      " 'label': 0,\n",
      " 'sentence': 'えるれ、好きです',\n",
      " 'user_id': 75}\n",
      "{'datetime': '2020/6/8 18:15',\n",
      " 'label': 1,\n",
      " 'sentence': 'なんかずっと気分悪いのよね',\n",
      " 'user_id': 75}\n",
      "{'datetime': '2020/6/18 21:11',\n",
      " 'label': 1,\n",
      " 'sentence': 'カレーパン最近食べてないなぁ',\n",
      " 'user_id': 75}\n",
      "{'datetime': '2020/6/30 8:21',\n",
      " 'label': 1,\n",
      " 'sentence': '腹が筋肉痛ですわ',\n",
      " 'user_id': 75}\n",
      "{'datetime': '2020/7/23 0:40', 'label': 0, 'sentence': 'Kawaii', 'user_id': 75}\n",
      "{'datetime': '2020/7/27 10:02',\n",
      " 'label': 1,\n",
      " 'sentence': 'フォロワー怖いわぁ',\n",
      " 'user_id': 75}\n",
      "{'datetime': '2020/7/27 16:20',\n",
      " 'label': 1,\n",
      " 'sentence': 'とうとうほんだに勝てなかった',\n",
      " 'user_id': 75}\n",
      "{'datetime': '2020/7/30 9:49',\n",
      " 'label': 0,\n",
      " 'sentence': '誤報ならまぁ、良かったね',\n",
      " 'user_id': 75}\n",
      "{'datetime': '2020/7/30 23:03',\n",
      " 'label': 0,\n",
      " 'sentence': '映画観た\\u3000happy',\n",
      " 'user_id': 75}\n",
      "{'datetime': '2020/9/12 23:39',\n",
      " 'label': 1,\n",
      " 'sentence': 'Twitter仕様が使いにくくなってて',\n",
      " 'user_id': 75}\n",
      "{'datetime': '2020/9/25 7:39',\n",
      " 'label': 1,\n",
      " 'sentence': 'ゴミ出しの日の雨は許さない',\n",
      " 'user_id': 75}\n",
      "{'datetime': '2020/10/5 22:02',\n",
      " 'label': 1,\n",
      " 'sentence': '他人と一緒も楽しいけど疲れるし',\n",
      " 'user_id': 75}\n",
      "{'datetime': '2020/10/14 17:57',\n",
      " 'label': 1,\n",
      " 'sentence': '睡魔さん飛んでけ',\n",
      " 'user_id': 75}\n",
      "{'datetime': '2020/10/16 10:25',\n",
      " 'label': 1,\n",
      " 'sentence': 'あ？画像欄もぶっこわ',\n",
      " 'user_id': 75}\n",
      "{'datetime': '2020/10/17 0:54',\n",
      " 'label': 0,\n",
      " 'sentence': 'かわいいダイレクトアタック',\n",
      " 'user_id': 75}\n",
      "{'datetime': '2020/10/21 7:18',\n",
      " 'label': 1,\n",
      " 'sentence': '喉がパリパリって感じ',\n",
      " 'user_id': 75}\n",
      "{'datetime': '2018/4/30 9:32', 'label': 0, 'sentence': '無事、帰国。', 'user_id': 80}\n",
      "{'datetime': '2018/11/3 15:31',\n",
      " 'label': 0,\n",
      " 'sentence': '早く東京に行きたいな',\n",
      " 'user_id': 80}\n",
      "{'datetime': '2019/4/16 20:54',\n",
      " 'label': 0,\n",
      " 'sentence': 'レッスンが、楽しい',\n",
      " 'user_id': 80}\n",
      "{'datetime': '2019/5/11 8:51',\n",
      " 'label': 0,\n",
      " 'sentence': 'ちょいとフィンランド行ってきます',\n",
      " 'user_id': 80}\n",
      "{'datetime': '2019/9/10 19:29',\n",
      " 'label': 0,\n",
      " 'sentence': 'おー渋滞抜けたー',\n",
      " 'user_id': 80}\n",
      "{'datetime': '2020/7/18 15:31', 'label': 1, 'sentence': 'な…そんな…', 'user_id': 80}\n"
     ]
    }
   ],
   "source": [
    "# レビュー内容サンプル確認\n",
    "for data in valid_dataset:\n",
    "    if len(tokenizer.tokenize(data[\"sentence\"])) < 10:\n",
    "        pprint(data)"
   ]
  },
  {
   "cell_type": "code",
   "execution_count": 19,
   "metadata": {},
   "outputs": [
    {
     "name": "stderr",
     "output_type": "stream",
     "text": [
      "100%|██████████| 20149/20149 [00:01<00:00, 15501.33it/s]\n"
     ]
    },
    {
     "data": {
      "image/png": "[encoded data removed]",
      "text/plain": [
       "<Figure size 640x480 with 1 Axes>"
      ]
     },
     "metadata": {},
     "output_type": "display_data"
    },
    {
     "name": "stderr",
     "output_type": "stream",
     "text": [
      "100%|██████████| 1608/1608 [00:00<00:00, 15332.39it/s]\n"
     ]
    },
    {
     "data": {
      "image/png": "[encoded data removed]",
      "text/plain": [
       "<Figure size 640x480 with 1 Axes>"
      ]
     },
     "metadata": {},
     "output_type": "display_data"
    }
   ],
   "source": [
    "# ラベルの分布確認\n",
    "def  visualize_label(dataset: Dataset):\n",
    "    \"\"\"データセット中のラベル分布をグラフとして描画\"\"\"\n",
    "    # データセット中のラベルの数を数える\n",
    "    label_counter = Counter()\n",
    "    for data in tqdm(dataset):\n",
    "        label_id = data[\"label\"]\n",
    "        label_name = dataset.features[\"label\"].names[label_id]\n",
    "        label_counter[label_name] += 1\n",
    "    # label_counterを棒グラフとして描画する\n",
    "    plt.bar(label_counter.keys(), label_counter.values(), width=1.0)\n",
    "    plt.xlabel(\"ラベル\")\n",
    "    plt.ylabel(\"事例数\")\n",
    "    plt.show()\n",
    "    \n",
    "visualize_label(train_dataset)\n",
    "visualize_label(valid_dataset)"
   ]
  },
  {
   "cell_type": "markdown",
   "metadata": {},
   "source": [
    "### データセットの前処理"
   ]
  },
  {
   "cell_type": "code",
   "execution_count": 20,
   "metadata": {},
   "outputs": [],
   "source": [
    "from transformers import BatchEncoding\n",
    "\n",
    "def preprocess_text_classification(\n",
    "    example: dict[str, str | int]\n",
    ") -> BatchEncoding:\n",
    "    \"\"\"文章分類の事例のテキストをトークナイズし、IDに変換\"\"\"\n",
    "    encoded_example = tokenizer(example[\"sentence\"], max_length=512)\n",
    "    # モデルの入力引数である\"labels\"をキーとして格納する\n",
    "    encoded_example[\"labels\"] = example[\"label\"]\n",
    "    return encoded_example"
   ]
  },
  {
   "cell_type": "code",
   "execution_count": 21,
   "metadata": {},
   "outputs": [
    {
     "name": "stderr",
     "output_type": "stream",
     "text": [
      "Loading cached processed dataset at /workspaces/LLM/huggingface_cache/datasets/llm-book___wrime-sentiment/MARC-ja/0.0.0/c49a65171c421f2ae4dd3db82595f499cf0d289ca6780a2aeddf710f22dd8a37/cache-25b9488f706c3063.arrow\n",
      "Loading cached processed dataset at /workspaces/LLM/huggingface_cache/datasets/llm-book___wrime-sentiment/MARC-ja/0.0.0/c49a65171c421f2ae4dd3db82595f499cf0d289ca6780a2aeddf710f22dd8a37/cache-1852e9b08f832331.arrow\n"
     ]
    }
   ],
   "source": [
    "# データセット全体をトークナイゼーション\n",
    "encoded_train_dataset = train_dataset.map(\n",
    "    preprocess_text_classification,\n",
    "    remove_columns=train_dataset.column_names\n",
    ")\n",
    "encoded_valid_dataset = valid_dataset.map(\n",
    "    preprocess_text_classification,\n",
    "    remove_columns=valid_dataset.column_names\n",
    ")"
   ]
  },
  {
   "cell_type": "code",
   "execution_count": 22,
   "metadata": {},
   "outputs": [
    {
     "name": "stdout",
     "output_type": "stream",
     "text": [
      "{'attention_mask': [1,\n",
      "                    1,\n",
      "                    1,\n",
      "                    1,\n",
      "                    1,\n",
      "                    1,\n",
      "                    1,\n",
      "                    1,\n",
      "                    1,\n",
      "                    1,\n",
      "                    1,\n",
      "                    1,\n",
      "                    1,\n",
      "                    1,\n",
      "                    1,\n",
      "                    1,\n",
      "                    1,\n",
      "                    1,\n",
      "                    1,\n",
      "                    1,\n",
      "                    1,\n",
      "                    1,\n",
      "                    1,\n",
      "                    1],\n",
      " 'input_ids': [2,\n",
      "               478,\n",
      "               7139,\n",
      "               15269,\n",
      "               441,\n",
      "               456,\n",
      "               13123,\n",
      "               21311,\n",
      "               12671,\n",
      "               385,\n",
      "               12651,\n",
      "               7065,\n",
      "               12485,\n",
      "               12488,\n",
      "               13781,\n",
      "               461,\n",
      "               457,\n",
      "               13030,\n",
      "               464,\n",
      "               461,\n",
      "               29,\n",
      "               29,\n",
      "               29,\n",
      "               3],\n",
      " 'labels': 1,\n",
      " 'token_type_ids': [0,\n",
      "                    0,\n",
      "                    0,\n",
      "                    0,\n",
      "                    0,\n",
      "                    0,\n",
      "                    0,\n",
      "                    0,\n",
      "                    0,\n",
      "                    0,\n",
      "                    0,\n",
      "                    0,\n",
      "                    0,\n",
      "                    0,\n",
      "                    0,\n",
      "                    0,\n",
      "                    0,\n",
      "                    0,\n",
      "                    0,\n",
      "                    0,\n",
      "                    0,\n",
      "                    0,\n",
      "                    0,\n",
      "                    0]}\n"
     ]
    }
   ],
   "source": [
    "pprint(encoded_train_dataset[0])"
   ]
  },
  {
   "cell_type": "markdown",
   "metadata": {},
   "source": [
    "### ミニバッチ構築"
   ]
  },
  {
   "cell_type": "code",
   "execution_count": 23,
   "metadata": {},
   "outputs": [],
   "source": [
    "# ミニバッチとパディングの実装\n",
    "from transformers import DataCollatorWithPadding\n",
    "\n",
    "data_collaor = DataCollatorWithPadding(tokenizer=tokenizer) # パディングに用いるダミーのトークンIDを取得するため"
   ]
  },
  {
   "cell_type": "code",
   "execution_count": 24,
   "metadata": {},
   "outputs": [
    {
     "name": "stdout",
     "output_type": "stream",
     "text": [
      "{'attention_mask': torch.Size([4, 36]),\n",
      " 'input_ids': torch.Size([4, 36]),\n",
      " 'labels': torch.Size([4]),\n",
      " 'token_type_ids': torch.Size([4, 36])}\n"
     ]
    }
   ],
   "source": [
    "# data_collatorの挙動確認\n",
    "batch_inputs = data_collaor(encoded_train_dataset[0:4])\n",
    "pprint({name: tensor.size() for name, tensor in batch_inputs.items()})"
   ]
  },
  {
   "cell_type": "markdown",
   "metadata": {},
   "source": [
    "### モデルの準備"
   ]
  },
  {
   "cell_type": "code",
   "execution_count": 25,
   "metadata": {},
   "outputs": [
    {
     "name": "stderr",
     "output_type": "stream",
     "text": [
      "Some weights of the model checkpoint at tohoku-nlp/bert-base-japanese-v3 were not used when initializing BertForSequenceClassification: ['cls.seq_relationship.weight', 'cls.predictions.transform.LayerNorm.weight', 'cls.predictions.bias', 'cls.seq_relationship.bias', 'cls.predictions.decoder.bias', 'cls.predictions.transform.dense.bias', 'cls.predictions.transform.LayerNorm.bias', 'cls.predictions.decoder.weight', 'cls.predictions.transform.dense.weight']\n",
      "- This IS expected if you are initializing BertForSequenceClassification from the checkpoint of a model trained on another task or with another architecture (e.g. initializing a BertForSequenceClassification model from a BertForPreTraining model).\n",
      "- This IS NOT expected if you are initializing BertForSequenceClassification from the checkpoint of a model that you expect to be exactly identical (initializing a BertForSequenceClassification model from a BertForSequenceClassification model).\n",
      "Some weights of BertForSequenceClassification were not initialized from the model checkpoint at tohoku-nlp/bert-base-japanese-v3 and are newly initialized: ['classifier.weight', 'classifier.bias']\n",
      "You should probably TRAIN this model on a down-stream task to be able to use it for predictions and inference.\n"
     ]
    },
    {
     "name": "stdout",
     "output_type": "stream",
     "text": [
      "BertForSequenceClassification\n"
     ]
    }
   ],
   "source": [
    "from transformers import AutoModelForSequenceClassification\n",
    "\n",
    "class_label = train_dataset.features[\"label\"]\n",
    "label2id = {label: id for id, label in enumerate(class_label.names)}\n",
    "id2label = {id: label for id, label in enumerate(class_label.names)}\n",
    "model = AutoModelForSequenceClassification.from_pretrained(\n",
    "    model_name,\n",
    "    num_labels=class_label.num_classes, \n",
    "    label2id=label2id, # ラベル名からIDへの対応を指定\n",
    "    id2label=id2label # IDからラベルへの対応を指定\n",
    ")\n",
    "print(type(model).__name__)"
   ]
  },
  {
   "cell_type": "code",
   "execution_count": 26,
   "metadata": {},
   "outputs": [
    {
     "name": "stdout",
     "output_type": "stream",
     "text": [
      "SequenceClassifierOutput(loss=tensor(0.7499, grad_fn=<NllLossBackward0>), logits=tensor([[ 0.0755,  0.1869],\n",
      "        [ 0.3045,  0.0093],\n",
      "        [ 0.4099, -0.2517],\n",
      "        [ 0.3643,  0.2986]], grad_fn=<AddmmBackward0>), hidden_states=None, attentions=None)\n"
     ]
    }
   ],
   "source": [
    "# forward\n",
    "print(model.forward(**data_collaor(encoded_train_dataset[0:4])))"
   ]
  },
  {
   "cell_type": "markdown",
   "metadata": {},
   "source": [
    "### 訓練の実施"
   ]
  },
  {
   "cell_type": "code",
   "execution_count": 27,
   "metadata": {},
   "outputs": [],
   "source": [
    "from transformers import TrainingArguments\n",
    "\n",
    "training_args = TrainingArguments(\n",
    "    output_dir=\"output_marc_ja\", # 結果保存のフォルダ\n",
    "    per_device_train_batch_size=32, # 訓練時のバッチサイズ\n",
    "    per_device_eval_batch_size=32, # 評価時のバッチサイズ\n",
    "    learning_rate=2e-5, # 学習率\n",
    "    lr_scheduler_type=\"linear\", # 学習率スケジューラーの種類\n",
    "    warmup_ratio=0.1, # 学習率のウォームアップの長さを指定\n",
    "    num_train_epochs=3, # エポック数\n",
    "    save_strategy=\"epoch\", # チェックポイントの保存タイミング\n",
    "    logging_strategy=\"epoch\", # ロギングのタイミング\n",
    "    evaluation_strategy=\"epoch\", # 検証セットによる評価のタイミング\n",
    "    load_best_model_at_end=True, # 訓練後に開発セットで最良モデルをロード\n",
    "    metric_for_best_model=\"accuracy\", # 最良モデルを決定する評価指標\n",
    "    fp16=True, # 自動混合精度演算の有効化\n",
    ")"
   ]
  },
  {
   "cell_type": "code",
   "execution_count": 28,
   "metadata": {},
   "outputs": [],
   "source": [
    "# モデル評価方法の定義\n",
    "import numpy as np\n",
    "\n",
    "def compute_accuracy(\n",
    "    eval_pred: tuple[np.ndarray, np.ndarray]\n",
    ") -> dict[str, float]:\n",
    "    \"\"\"予測ラベルと正解ラベルから正解率を計算\"\"\"\n",
    "    predictions, labels = eval_pred\n",
    "    # predictionsは各ラベルにについてのスコア\n",
    "    # 最もスコアの高いインデックスを予測ラベルとする\n",
    "    predictions = np.argmax(predictions, axis=1)\n",
    "    return {\"accuracy\": (predictions == labels).mean()}"
   ]
  },
  {
   "cell_type": "code",
   "execution_count": 29,
   "metadata": {},
   "outputs": [
    {
     "name": "stderr",
     "output_type": "stream",
     "text": [
      "Using cuda_amp half precision backend\n",
      "/usr/local/lib/python3.10/dist-packages/transformers/optimization.py:306: FutureWarning: This implementation of AdamW is deprecated and will be removed in a future version. Use the PyTorch implementation torch.optim.AdamW instead, or set `no_deprecation_warning=True` to disable this warning\n",
      "  warnings.warn(\n",
      "***** Running training *****\n",
      "  Num examples = 20149\n",
      "  Num Epochs = 3\n",
      "  Instantaneous batch size per device = 32\n",
      "  Total train batch size (w. parallel, distributed & accumulation) = 32\n",
      "  Gradient Accumulation steps = 1\n",
      "  Total optimization steps = 1890\n"
     ]
    },
    {
     "data": {
      "text/html": [
       "\n",
       "    <div>\n",
       "      \n",
       "      <progress value='1890' max='1890' style='width:300px; height:20px; vertical-align: middle;'></progress>\n",
       "      [1890/1890 03:05, Epoch 3/3]\n",
       "    </div>\n",
       "    <table border=\"1\" class=\"dataframe\">\n",
       "  <thead>\n",
       " <tr style=\"text-align: left;\">\n",
       "      <th>Epoch</th>\n",
       "      <th>Training Loss</th>\n",
       "      <th>Validation Loss</th>\n",
       "      <th>Accuracy</th>\n",
       "    </tr>\n",
       "  </thead>\n",
       "  <tbody>\n",
       "    <tr>\n",
       "      <td>1</td>\n",
       "      <td>0.305400</td>\n",
       "      <td>0.172170</td>\n",
       "      <td>0.937811</td>\n",
       "    </tr>\n",
       "    <tr>\n",
       "      <td>2</td>\n",
       "      <td>0.139200</td>\n",
       "      <td>0.186074</td>\n",
       "      <td>0.935323</td>\n",
       "    </tr>\n",
       "    <tr>\n",
       "      <td>3</td>\n",
       "      <td>0.066900</td>\n",
       "      <td>0.236570</td>\n",
       "      <td>0.942164</td>\n",
       "    </tr>\n",
       "  </tbody>\n",
       "</table><p>"
      ],
      "text/plain": [
       "<IPython.core.display.HTML object>"
      ]
     },
     "metadata": {},
     "output_type": "display_data"
    },
    {
     "name": "stderr",
     "output_type": "stream",
     "text": [
      "***** Running Evaluation *****\n",
      "  Num examples = 1608\n",
      "  Batch size = 32\n",
      "Saving model checkpoint to output_marc_ja/checkpoint-630\n",
      "Configuration saved in output_marc_ja/checkpoint-630/config.json\n",
      "Model weights saved in output_marc_ja/checkpoint-630/pytorch_model.bin\n",
      "***** Running Evaluation *****\n",
      "  Num examples = 1608\n",
      "  Batch size = 32\n",
      "Saving model checkpoint to output_marc_ja/checkpoint-1260\n",
      "Configuration saved in output_marc_ja/checkpoint-1260/config.json\n",
      "Model weights saved in output_marc_ja/checkpoint-1260/pytorch_model.bin\n",
      "***** Running Evaluation *****\n",
      "  Num examples = 1608\n",
      "  Batch size = 32\n",
      "Saving model checkpoint to output_marc_ja/checkpoint-1890\n",
      "Configuration saved in output_marc_ja/checkpoint-1890/config.json\n",
      "Model weights saved in output_marc_ja/checkpoint-1890/pytorch_model.bin\n",
      "\n",
      "\n",
      "Training completed. Do not forget to share your model on huggingface.co/models =)\n",
      "\n",
      "\n",
      "Loading best model from output_marc_ja/checkpoint-1890 (score: 0.9421641791044776).\n"
     ]
    },
    {
     "data": {
      "text/plain": [
       "TrainOutput(global_step=1890, training_loss=0.17051666098296958, metrics={'train_runtime': 187.8866, 'train_samples_per_second': 321.721, 'train_steps_per_second': 10.059, 'total_flos': 2736062573028180.0, 'train_loss': 0.17051666098296958, 'epoch': 3.0})"
      ]
     },
     "execution_count": 29,
     "metadata": {},
     "output_type": "execute_result"
    }
   ],
   "source": [
    "# 学習の開始\n",
    "from transformers import Trainer\n",
    "\n",
    "trainer = Trainer(\n",
    "    model=model,\n",
    "    train_dataset=encoded_train_dataset,\n",
    "    eval_dataset=encoded_valid_dataset,\n",
    "    data_collator=data_collaor,\n",
    "    args=training_args,\n",
    "    compute_metrics=compute_accuracy,\n",
    ")\n",
    "trainer.train()"
   ]
  },
  {
   "cell_type": "markdown",
   "metadata": {},
   "source": [
    "### 訓練後のモデル評価"
   ]
  },
  {
   "cell_type": "code",
   "execution_count": 30,
   "metadata": {},
   "outputs": [
    {
     "name": "stderr",
     "output_type": "stream",
     "text": [
      "***** Running Evaluation *****\n",
      "  Num examples = 1608\n",
      "  Batch size = 32\n"
     ]
    },
    {
     "data": {
      "text/html": [
       "\n",
       "    <div>\n",
       "      \n",
       "      <progress value='51' max='51' style='width:300px; height:20px; vertical-align: middle;'></progress>\n",
       "      [51/51 00:01]\n",
       "    </div>\n",
       "    "
      ],
      "text/plain": [
       "<IPython.core.display.HTML object>"
      ]
     },
     "metadata": {},
     "output_type": "display_data"
    },
    {
     "name": "stdout",
     "output_type": "stream",
     "text": [
      "{'epoch': 3.0,\n",
      " 'eval_accuracy': 0.9421641791044776,\n",
      " 'eval_loss': 0.23656997084617615,\n",
      " 'eval_runtime': 1.4448,\n",
      " 'eval_samples_per_second': 1112.961,\n",
      " 'eval_steps_per_second': 35.299}\n"
     ]
    }
   ],
   "source": [
    "# 検証セットでモデル評価\n",
    "eval_metrics = trainer.evaluate(encoded_valid_dataset)\n",
    "pprint(eval_metrics)"
   ]
  },
  {
   "cell_type": "markdown",
   "metadata": {},
   "source": [
    "## 感情分析モデルのエラー分析"
   ]
  },
  {
   "cell_type": "markdown",
   "metadata": {},
   "source": [
    "### モデルの予測結果の取得"
   ]
  },
  {
   "cell_type": "code",
   "execution_count": 2,
   "metadata": {},
   "outputs": [
    {
     "data": {
      "text/plain": [
       "0"
      ]
     },
     "execution_count": 2,
     "metadata": {},
     "output_type": "execute_result"
    }
   ],
   "source": [
    "import torch\n",
    "device = 0 if torch.cuda.is_available() else -1\n",
    "device"
   ]
  },
  {
   "cell_type": "code",
   "execution_count": 44,
   "metadata": {},
   "outputs": [
    {
     "name": "stderr",
     "output_type": "stream",
     "text": [
      "loading configuration file https://huggingface.co/llm-book/bert-base-japanese-v3-wrime-sentiment/resolve/main/config.json from cache at /workspaces/LLM/huggingface_cache/transformers/d017da05388cb51a002e5f5e997a0deb642aeab41b7abe15fa569542bdcb03b9.fc6acbaccc6ba34b5fa5e1741a66f105ebf02c89a21234678ab24deb1f65b769\n",
      "Model config BertConfig {\n",
      "  \"_name_or_path\": \"llm-book/bert-base-japanese-v3-wrime-sentiment\",\n",
      "  \"architectures\": [\n",
      "    \"BertForSequenceClassification\"\n",
      "  ],\n",
      "  \"attention_probs_dropout_prob\": 0.1,\n",
      "  \"classifier_dropout\": null,\n",
      "  \"hidden_act\": \"gelu\",\n",
      "  \"hidden_dropout_prob\": 0.1,\n",
      "  \"hidden_size\": 768,\n",
      "  \"id2label\": {\n",
      "    \"0\": \"positive\",\n",
      "    \"1\": \"negative\"\n",
      "  },\n",
      "  \"initializer_range\": 0.02,\n",
      "  \"intermediate_size\": 3072,\n",
      "  \"label2id\": {\n",
      "    \"negative\": 1,\n",
      "    \"positive\": 0\n",
      "  },\n",
      "  \"layer_norm_eps\": 1e-12,\n",
      "  \"max_position_embeddings\": 512,\n",
      "  \"model_type\": \"bert\",\n",
      "  \"num_attention_heads\": 12,\n",
      "  \"num_hidden_layers\": 12,\n",
      "  \"pad_token_id\": 0,\n",
      "  \"position_embedding_type\": \"absolute\",\n",
      "  \"problem_type\": \"single_label_classification\",\n",
      "  \"torch_dtype\": \"float32\",\n",
      "  \"transformers_version\": \"4.21.2\",\n",
      "  \"type_vocab_size\": 2,\n",
      "  \"use_cache\": true,\n",
      "  \"vocab_size\": 32768\n",
      "}\n",
      "\n",
      "Downloading: 100%|██████████| 1.16k/1.16k [00:00<00:00, 9.41MB/s]\n",
      "loading configuration file https://huggingface.co/llm-book/bert-base-japanese-v3-wrime-sentiment/resolve/main/config.json from cache at /workspaces/LLM/huggingface_cache/transformers/d017da05388cb51a002e5f5e997a0deb642aeab41b7abe15fa569542bdcb03b9.fc6acbaccc6ba34b5fa5e1741a66f105ebf02c89a21234678ab24deb1f65b769\n",
      "Model config BertConfig {\n",
      "  \"_name_or_path\": \"llm-book/bert-base-japanese-v3-wrime-sentiment\",\n",
      "  \"architectures\": [\n",
      "    \"BertForSequenceClassification\"\n",
      "  ],\n",
      "  \"attention_probs_dropout_prob\": 0.1,\n",
      "  \"classifier_dropout\": null,\n",
      "  \"hidden_act\": \"gelu\",\n",
      "  \"hidden_dropout_prob\": 0.1,\n",
      "  \"hidden_size\": 768,\n",
      "  \"id2label\": {\n",
      "    \"0\": \"positive\",\n",
      "    \"1\": \"negative\"\n",
      "  },\n",
      "  \"initializer_range\": 0.02,\n",
      "  \"intermediate_size\": 3072,\n",
      "  \"label2id\": {\n",
      "    \"negative\": 1,\n",
      "    \"positive\": 0\n",
      "  },\n",
      "  \"layer_norm_eps\": 1e-12,\n",
      "  \"max_position_embeddings\": 512,\n",
      "  \"model_type\": \"bert\",\n",
      "  \"num_attention_heads\": 12,\n",
      "  \"num_hidden_layers\": 12,\n",
      "  \"pad_token_id\": 0,\n",
      "  \"position_embedding_type\": \"absolute\",\n",
      "  \"problem_type\": \"single_label_classification\",\n",
      "  \"torch_dtype\": \"float32\",\n",
      "  \"transformers_version\": \"4.21.2\",\n",
      "  \"type_vocab_size\": 2,\n",
      "  \"use_cache\": true,\n",
      "  \"vocab_size\": 32768\n",
      "}\n",
      "\n",
      "loading weights file https://huggingface.co/llm-book/bert-base-japanese-v3-wrime-sentiment/resolve/main/pytorch_model.bin from cache at /workspaces/LLM/huggingface_cache/transformers/386c989a4f16b4a0c87a28593fb49475681273382ea5e5a4a0a2a71b5c76ae6b.f3e0b39dd9517826a3f625cfa979821b5818e6b5a2f67573ef1c9ce8fe0bd565\n",
      "All model checkpoint weights were used when initializing BertForSequenceClassification.\n",
      "\n",
      "All the weights of BertForSequenceClassification were initialized from the model checkpoint at llm-book/bert-base-japanese-v3-wrime-sentiment.\n",
      "If your task is similar to the task the model of the checkpoint was trained on, you can already use BertForSequenceClassification for predictions without further training.\n",
      "loading file https://huggingface.co/llm-book/bert-base-japanese-v3-wrime-sentiment/resolve/main/vocab.txt from cache at /workspaces/LLM/huggingface_cache/transformers/46e0dcfc49ebf38d6618f5794011189f0802ad73f330e46ee7258442fbdb78b4.e89607f19c59d268d8bab3289700c482c617a74844664e4996544f3e1a647db4\n",
      "loading file https://huggingface.co/llm-book/bert-base-japanese-v3-wrime-sentiment/resolve/main/added_tokens.json from cache at None\n",
      "loading file https://huggingface.co/llm-book/bert-base-japanese-v3-wrime-sentiment/resolve/main/special_tokens_map.json from cache at /workspaces/LLM/huggingface_cache/transformers/835726a57bbc462db46f3ed52b345848586d56987c3b1c7c5641dffb5b336924.7da70648c6cb9951e284c9685f9ba7ae083dd59ed1d6d84bdfc0584a4ea94b6d\n",
      "loading file https://huggingface.co/llm-book/bert-base-japanese-v3-wrime-sentiment/resolve/main/tokenizer_config.json from cache at /workspaces/LLM/huggingface_cache/transformers/8558c5b1903a6e4c1b0fd7146d2a5b5cc5be4d41f674a4e7b5d4eb5f85985a88.3d59ff263a3645e35edd50fa255d426f1ba3578ae01b494e7518e5f82d396f25\n"
     ]
    }
   ],
   "source": [
    "from transformers import pipeline\n",
    "\n",
    "import torch\n",
    "device = 0 if torch.cuda.is_available() else -1\n",
    "\n",
    "model_name = \"llm-book/bert-base-japanese-v3-wrime-sentiment\"\n",
    "sentiment_pipeline = pipeline(model=model_name, device=device)"
   ]
  },
  {
   "cell_type": "code",
   "execution_count": 42,
   "metadata": {},
   "outputs": [
    {
     "name": "stderr",
     "output_type": "stream",
     "text": [
      "WARNING: Logging before flag parsing goes to stderr.\n",
      "W1014 09:08:01.500471 140004139278336 builder.py:463] Using custom data configuration default\n"
     ]
    },
    {
     "name": "stdout",
     "output_type": "stream",
     "text": [
      "Downloading and preparing dataset wrime-sentiment/default to /workspaces/LLM/huggingface_cache/datasets/llm-book___wrime-sentiment/default/0.0.0/c49a65171c421f2ae4dd3db82595f499cf0d289ca6780a2aeddf710f22dd8a37...\n"
     ]
    },
    {
     "name": "stderr",
     "output_type": "stream",
     "text": [
      "                                                                      \r"
     ]
    },
    {
     "name": "stdout",
     "output_type": "stream",
     "text": [
      "Dataset wrime-sentiment downloaded and prepared to /workspaces/LLM/huggingface_cache/datasets/llm-book___wrime-sentiment/default/0.0.0/c49a65171c421f2ae4dd3db82595f499cf0d289ca6780a2aeddf710f22dd8a37. Subsequent calls will reuse this data.\n"
     ]
    }
   ],
   "source": [
    "# データセットの読み込み\n",
    "from datasets import load_dataset\n",
    "\n",
    "valid_dataset = load_dataset(\"llm-book/wrime-sentiment\", split=\"validation\")"
   ]
  },
  {
   "cell_type": "code",
   "execution_count": 45,
   "metadata": {},
   "outputs": [
    {
     "name": "stderr",
     "output_type": "stream",
     "text": [
      "8it [00:00, 25.39it/s]/usr/local/lib/python3.10/dist-packages/transformers/pipelines/base.py:1036: UserWarning: You seem to be using the pipelines sequentially on GPU. In order to maximize efficiency please use a dataset\n",
      "  warnings.warn(\n",
      "1608it [00:15, 103.51it/s]\n"
     ]
    }
   ],
   "source": [
    "from tqdm import tqdm\n",
    "\n",
    "# クラス名の情報を取得するためのClassLabelインスタンス\n",
    "class_label = valid_dataset.features[\"label\"]\n",
    "\n",
    "results: list[dict[str, float | str]] = []\n",
    "for i, example in tqdm(enumerate(valid_dataset)):\n",
    "    # モデルの予測結果を取得\n",
    "    model_prediction = sentiment_pipeline(example[\"sentence\"])[0]\n",
    "    # 正解ラベルIDをラベル名に変更\n",
    "    true_label = class_label.int2str(example[\"label\"])\n",
    "    \n",
    "    # resultに分析に必要な情報を格納\n",
    "    results.append(\n",
    "        {\n",
    "            \"example_id\": i,\n",
    "            \"pred_prob\": model_prediction[\"score\"],\n",
    "            \"pred_label\": model_prediction[\"label\"],\n",
    "            \"true_label\": true_label,\n",
    "        }\n",
    "    )\n",
    "    "
   ]
  },
  {
   "cell_type": "markdown",
   "metadata": {},
   "source": [
    "### 全体的な傾向の分析"
   ]
  },
  {
   "cell_type": "code",
   "execution_count": 46,
   "metadata": {},
   "outputs": [
    {
     "data": {
      "text/plain": [
       "<sklearn.metrics._plot.confusion_matrix.ConfusionMatrixDisplay at 0x7f53bdef8af0>"
      ]
     },
     "execution_count": 46,
     "metadata": {},
     "output_type": "execute_result"
    },
    {
     "data": {
      "image/png": "[encoded data removed]",
      "text/plain": [
       "<Figure size 640x480 with 2 Axes>"
      ]
     },
     "metadata": {},
     "output_type": "display_data"
    }
   ],
   "source": [
    "import matplotlib.pyplot as plt\n",
    "from sklearn.metrics import ConfusionMatrixDisplay, confusion_matrix\n",
    "\n",
    "plt.rcParams[\"font.size\"] = 18\n",
    "\n",
    "# 混合行列の作成\n",
    "confusion_matrix = confusion_matrix(\n",
    "    y_true=[result[\"true_label\"] for result in results],\n",
    "    y_pred=[result[\"pred_label\"] for result in results],\n",
    "    labels=class_label.names,\n",
    ")\n",
    "# 混合行列を画像をして表示\n",
    "ConfusionMatrixDisplay(\n",
    "    confusion_matrix, display_labels=class_label.names\n",
    ").plot()"
   ]
  },
  {
   "cell_type": "markdown",
   "metadata": {},
   "source": [
    "### モデルのショートカットに注意"
   ]
  },
  {
   "cell_type": "code",
   "execution_count": 49,
   "metadata": {},
   "outputs": [
    {
     "name": "stdout",
     "output_type": "stream",
     "text": [
      "レビュー文: 何のこれしき会社員だった頃の辛さに比べれば。まあ種類が違うけど。\n",
      "\n",
      "\n",
      "予測: negative\n",
      "正解: positive\n",
      "予測確率: 0.9993\n",
      "-------------\n",
      "レビュー文: 今年のプリキュアの決め台詞が、\n",
      " \n",
      "「お大事に」\n",
      "\n",
      "今年にマッチングし過ぎてて、プリキュアスタッフの先見の明がすご過ぎるし、何が言いたいかと言うと変身する棒を買わされました。\n",
      "予測: positive\n",
      "正解: negative\n",
      "予測確率: 0.9993\n",
      "-------------\n",
      "レビュー文: ツイッター早朝部、いくわよ！！ あと諸事情により数人ブロックさせて頂きました…申し訳ない……\n",
      "予測: negative\n",
      "正解: positive\n",
      "予測確率: 0.9992\n",
      "-------------\n",
      "レビュー文: 酒はぬるめの 燗がいい 肴は炙った イカでいい←もっといいもの食えよ\n",
      "予測: positive\n",
      "正解: negative\n",
      "予測確率: 0.9992\n",
      "-------------\n",
      "レビュー文: できれば今すぐお線香あげにいきたい\n",
      "予測: positive\n",
      "正解: negative\n",
      "予測確率: 0.9992\n",
      "-------------\n"
     ]
    }
   ],
   "source": [
    "# 予測が誤った事例を収集\n",
    "failed_results = [\n",
    "    res for res in results if res[\"pred_label\"] != res[\"true_label\"]\n",
    "]\n",
    "# モデルの予測確率が高い順にソート\n",
    "sorted_failed_results = sorted(\n",
    "    failed_results, key=lambda x: -x[\"pred_prob\"]\n",
    ")\n",
    "# 高い確率で予測しながら誤った事例の上位2件を表示\n",
    "for top_result in sorted_failed_results[:5]:\n",
    "    review_text = valid_dataset[top_result[\"example_id\"]][\"sentence\"]\n",
    "    print(f\"レビュー文: {review_text}\")\n",
    "    print(f\"予測: {top_result['pred_label']}\")\n",
    "    print(f\"正解: {top_result['true_label']}\")\n",
    "    print(f\"予測確率: {top_result['pred_prob']:.4f}\")\n",
    "    print(\"-------------\")"
   ]
  },
  {
   "cell_type": "markdown",
   "metadata": {},
   "source": [
    "### 自然言語推論"
   ]
  },
  {
   "cell_type": "markdown",
   "metadata": {},
   "source": [
    "#### データセットの準備"
   ]
  },
  {
   "cell_type": "code",
   "execution_count": 5,
   "metadata": {},
   "outputs": [
    {
     "name": "stderr",
     "output_type": "stream",
     "text": [
      "Reusing dataset jglue (/workspaces/LLM/huggingface_cache/datasets/llm-book___jglue/JNLI/1.1.0/b394a8dbefe82fb1dc2724c1eb79bb1ea3062df2037f91a69a27c089f3ff685f)\n",
      "Reusing dataset jglue (/workspaces/LLM/huggingface_cache/datasets/llm-book___jglue/JNLI/1.1.0/b394a8dbefe82fb1dc2724c1eb79bb1ea3062df2037f91a69a27c089f3ff685f)\n"
     ]
    },
    {
     "name": "stdout",
     "output_type": "stream",
     "text": [
      "{'label': 2,\n",
      " 'sentence1': '二人の男性がジャンボジェット機を見ています。',\n",
      " 'sentence2': '2人の男性が、白い飛行機を眺めています。',\n",
      " 'sentence_pair_id': '0',\n",
      " 'yjcaptions_id': '100124-104404-104405'}\n"
     ]
    }
   ],
   "source": [
    "from pprint import pprint\n",
    "from datasets import load_dataset\n",
    "\n",
    "# Hugging Face Hub上のllm-book/JGLUEのリポジトリから\n",
    "# JNLIのデータセットを読み込む\n",
    "train_dataset = load_dataset(\n",
    "    \"llm-book/JGLUE\", name=\"JNLI\", split=\"train\"\n",
    ")\n",
    "valid_dataset = load_dataset(\n",
    "    \"llm-book/JGLUE\", name=\"JNLI\", split=\"validation\"\n",
    ")\n",
    "pprint(train_dataset[0])"
   ]
  },
  {
   "cell_type": "code",
   "execution_count": 6,
   "metadata": {},
   "outputs": [
    {
     "name": "stdout",
     "output_type": "stream",
     "text": [
      "{'label': ClassLabel(num_classes=3,\n",
      "                     names=['entailment', 'contradiction', 'neutral'],\n",
      "                     id=None),\n",
      " 'sentence1': Value(dtype='string', id=None),\n",
      " 'sentence2': Value(dtype='string', id=None),\n",
      " 'sentence_pair_id': Value(dtype='string', id=None),\n",
      " 'yjcaptions_id': Value(dtype='string', id=None)}\n"
     ]
    }
   ],
   "source": [
    "pprint(train_dataset.features)"
   ]
  },
  {
   "cell_type": "markdown",
   "metadata": {},
   "source": [
    "#### トークナイザー"
   ]
  },
  {
   "cell_type": "code",
   "execution_count": 7,
   "metadata": {},
   "outputs": [],
   "source": [
    "from transformers import AutoTokenizer\n",
    "\n",
    "# Hugging Face Hub上のモデル名を指定\n",
    "model_name = \"tohoku-nlp/bert-base-japanese-v3\"\n",
    "# モデル名からトークナイザーを読み込む\n",
    "tokenizer = AutoTokenizer.from_pretrained(model_name)"
   ]
  },
  {
   "cell_type": "markdown",
   "metadata": {},
   "source": [
    "#### データセット統計の可視化"
   ]
  },
  {
   "cell_type": "code",
   "execution_count": 8,
   "metadata": {},
   "outputs": [
    {
     "name": "stderr",
     "output_type": "stream",
     "text": [
      "100%|██████████| 20073/20073 [00:05<00:00, 3514.88it/s]\n"
     ]
    },
    {
     "data": {
      "image/png": "[encoded data removed]",
      "text/plain": [
       "<Figure size 640x480 with 1 Axes>"
      ]
     },
     "metadata": {},
     "output_type": "display_data"
    },
    {
     "name": "stderr",
     "output_type": "stream",
     "text": [
      "100%|██████████| 2434/2434 [00:00<00:00, 3884.38it/s]\n"
     ]
    },
    {
     "data": {
      "image/png": "[encoded data removed]",
      "text/plain": [
       "<Figure size 640x480 with 1 Axes>"
      ]
     },
     "metadata": {},
     "output_type": "display_data"
    }
   ],
   "source": [
    "from collections import Counter\n",
    "import japanize_matplotlib\n",
    "import matplotlib.pyplot as plt\n",
    "from datasets import Dataset\n",
    "from tqdm import tqdm\n",
    "\n",
    "plt.rcParams[\"font.size\"] = 18\n",
    "\n",
    "def visualize_text_length(dataset: Dataset):\n",
    "    \"\"\"データセット中のテキストのトークン数の分布をグラフとして描画\"\"\"\n",
    "    # データセット中のテキストの長さを整える\n",
    "    length_counter1 = Counter()\n",
    "    length_counter2 = Counter()\n",
    "    for data in tqdm(dataset):\n",
    "        length1 = len(tokenizer.tokenize(data[\"sentence1\"]))\n",
    "        length_counter1[length1] += 1\n",
    "        length2 = len(tokenizer.tokenize(data[\"sentence2\"]))\n",
    "        length_counter2[length2] += 1\n",
    "    # length_counterの値から棒グラフを描画する\n",
    "    plt.bar(length_counter1.keys(), length_counter1.values(), width=1.0, alpha=0.5)\n",
    "    plt.bar(length_counter2.keys(), length_counter2.values(), width=1.0, alpha=0.5)\n",
    "    plt.xlabel(\"トークン数\")\n",
    "    plt.ylabel(\"事例数\")\n",
    "    plt.show()\n",
    "    \n",
    "visualize_text_length(train_dataset)\n",
    "visualize_text_length(valid_dataset)"
   ]
  },
  {
   "cell_type": "code",
   "execution_count": 9,
   "metadata": {},
   "outputs": [
    {
     "data": {
      "image/png": "[encoded data removed]",
      "text/plain": [
       "<Figure size 640x480 with 1 Axes>"
      ]
     },
     "metadata": {},
     "output_type": "display_data"
    },
    {
     "data": {
      "image/png": "[encoded data removed]",
      "text/plain": [
       "<Figure size 640x480 with 1 Axes>"
      ]
     },
     "metadata": {},
     "output_type": "display_data"
    }
   ],
   "source": [
    "def visualize_labels(dataset: Dataset):\n",
    "    \"\"\"データセット中のラベル分布をグラフとして描画\"\"\"\n",
    "    # データセット中のラベル数を数える\n",
    "    label_counter = Counter()\n",
    "    for data in dataset:\n",
    "        label_id = data[\"label\"]\n",
    "        label_name = dataset.features[\"label\"].names[label_id]\n",
    "        label_counter[label_name] += 1\n",
    "    # label_counterを棒グラフとして描画する\n",
    "    plt.bar(label_counter.keys(), label_counter.values(), width=1.0)\n",
    "    plt.xlabel(\"ラベル\")\n",
    "    plt.ylabel(\"事例数\")\n",
    "    plt.show()\n",
    "    \n",
    "visualize_labels(train_dataset)\n",
    "visualize_labels(valid_dataset)"
   ]
  },
  {
   "cell_type": "markdown",
   "metadata": {},
   "source": [
    "#### データセットの前処理"
   ]
  },
  {
   "cell_type": "code",
   "execution_count": 11,
   "metadata": {},
   "outputs": [],
   "source": [
    "from transformers import BatchEncoding\n",
    "\n",
    "def preprocess_text_pair_classification(\n",
    "    example: dict[str, str | int]\n",
    ") -> BatchEncoding:\n",
    "    \"\"\"文ペア関係予測の事項をトークナイズし、IDに変換\"\"\"\n",
    "    # 出力は\"input_ids\", \"token_type_ids\", \"attention_mask\"をkeyとし、\n",
    "    # list[int]をvalueとするBatchEncodingオブジェクト\n",
    "    encoded_example = tokenizer(\n",
    "        example[\"sentence1\"], example[\"sentence2\"], max_length=128\n",
    "    )\n",
    "    \n",
    "    # 以降で使うモデルのBertForSequenceClassificationのforwardメソッドが\n",
    "    # list[int]をvalueとするBatchEncodingオブジェクト\n",
    "    encoded_example[\"labels\"] = example[\"label\"]\n",
    "    return encoded_example"
   ]
  },
  {
   "cell_type": "code",
   "execution_count": 12,
   "metadata": {},
   "outputs": [
    {
     "name": "stderr",
     "output_type": "stream",
     "text": [
      "Truncation was not explicitly activated but `max_length` is provided a specific value, please use `truncation=True` to explicitly truncate examples to max length. Defaulting to 'longest_first' truncation strategy. If you encode pairs of sequences (GLUE-style) with the tokenizer you can select this strategy more precisely by providing a specific strategy to `truncation`.\n"
     ]
    },
    {
     "name": "stdout",
     "output_type": "stream",
     "text": [
      "['[CLS]', '二人', 'の', '男性', 'が', 'ジャンボ', 'ジェット', '機', 'を', '見', 'て', 'い', 'ます', '。', '[SEP]', '2', '人', 'の', '男性', 'が', '、', '白い', '飛行', '機', 'を', '眺め', 'て', 'い', 'ます', '。', '[SEP]']\n"
     ]
    }
   ],
   "source": [
    "# 2つのテキストのトークンが出力されること確認\n",
    "from transformers import AutoTokenizer\n",
    "\n",
    "transformers_model_name = model_name\n",
    "tokenizer = AutoTokenizer.from_pretrained(transformers_model_name)\n",
    "\n",
    "example = train_dataset[0]\n",
    "encoded_example = preprocess_text_pair_classification(example)\n",
    "print(tokenizer.convert_ids_to_tokens(encoded_example[\"input_ids\"]))"
   ]
  },
  {
   "cell_type": "code",
   "execution_count": 13,
   "metadata": {},
   "outputs": [
    {
     "name": "stderr",
     "output_type": "stream",
     "text": [
      "100%|██████████| 20073/20073 [00:06<00:00, 3099.28ex/s]\n",
      "100%|██████████| 2434/2434 [00:00<00:00, 3199.21ex/s]\n"
     ]
    }
   ],
   "source": [
    "### 前処理\n",
    "encoded_train_dataset = train_dataset.map(\n",
    "    preprocess_text_pair_classification,\n",
    "    remove_columns=train_dataset.column_names,\n",
    ")\n",
    "encoded_valid_dataset = valid_dataset.map(\n",
    "    preprocess_text_pair_classification,\n",
    "    remove_columns=valid_dataset.column_names,\n",
    ")"
   ]
  },
  {
   "cell_type": "code",
   "execution_count": 14,
   "metadata": {},
   "outputs": [
    {
     "name": "stdout",
     "output_type": "stream",
     "text": [
      "{'input_ids': [2, 14269, 464, 13341, 430, 27914, 16753, 3107, 500, 5538, 456, 422, 12995, 385, 3, 33, 680, 464, 13341, 430, 384, 16517, 13208, 3107, 500, 29887, 456, 422, 12995, 385, 3], 'token_type_ids': [0, 0, 0, 0, 0, 0, 0, 0, 0, 0, 0, 0, 0, 0, 0, 1, 1, 1, 1, 1, 1, 1, 1, 1, 1, 1, 1, 1, 1, 1, 1], 'attention_mask': [1, 1, 1, 1, 1, 1, 1, 1, 1, 1, 1, 1, 1, 1, 1, 1, 1, 1, 1, 1, 1, 1, 1, 1, 1, 1, 1, 1, 1, 1, 1], 'labels': 2}\n"
     ]
    }
   ],
   "source": [
    "print(encoded_train_dataset[0])"
   ]
  },
  {
   "cell_type": "markdown",
   "metadata": {},
   "source": [
    "#### ミニバッチ構築"
   ]
  },
  {
   "cell_type": "code",
   "execution_count": 17,
   "metadata": {},
   "outputs": [],
   "source": [
    "from transformers import DataCollatorWithPadding\n",
    "\n",
    "data_collator = DataCollatorWithPadding(tokenizer=tokenizer)"
   ]
  },
  {
   "cell_type": "code",
   "execution_count": 18,
   "metadata": {},
   "outputs": [
    {
     "name": "stdout",
     "output_type": "stream",
     "text": [
      "{'attention_mask': torch.Size([4, 31]),\n",
      " 'input_ids': torch.Size([4, 31]),\n",
      " 'labels': torch.Size([4]),\n",
      " 'token_type_ids': torch.Size([4, 31])}\n"
     ]
    }
   ],
   "source": [
    "batch_inputs = data_collator(encoded_train_dataset[0:4])\n",
    "pprint({name: tensor.size() for name, tensor in batch_inputs.items()})"
   ]
  },
  {
   "cell_type": "markdown",
   "metadata": {},
   "source": [
    "#### モデルの準備"
   ]
  },
  {
   "cell_type": "code",
   "execution_count": 19,
   "metadata": {},
   "outputs": [
    {
     "name": "stderr",
     "output_type": "stream",
     "text": [
      "Some weights of the model checkpoint at tohoku-nlp/bert-base-japanese-v3 were not used when initializing BertForSequenceClassification: ['cls.seq_relationship.weight', 'cls.predictions.transform.LayerNorm.bias', 'cls.predictions.decoder.bias', 'cls.predictions.transform.dense.bias', 'cls.seq_relationship.bias', 'cls.predictions.decoder.weight', 'cls.predictions.transform.LayerNorm.weight', 'cls.predictions.bias', 'cls.predictions.transform.dense.weight']\n",
      "- This IS expected if you are initializing BertForSequenceClassification from the checkpoint of a model trained on another task or with another architecture (e.g. initializing a BertForSequenceClassification model from a BertForPreTraining model).\n",
      "- This IS NOT expected if you are initializing BertForSequenceClassification from the checkpoint of a model that you expect to be exactly identical (initializing a BertForSequenceClassification model from a BertForSequenceClassification model).\n",
      "Some weights of BertForSequenceClassification were not initialized from the model checkpoint at tohoku-nlp/bert-base-japanese-v3 and are newly initialized: ['classifier.bias', 'classifier.weight']\n",
      "You should probably TRAIN this model on a down-stream task to be able to use it for predictions and inference.\n"
     ]
    },
    {
     "name": "stdout",
     "output_type": "stream",
     "text": [
      "BertForSequenceClassification\n"
     ]
    }
   ],
   "source": [
    "from transformers import AutoModelForSequenceClassification\n",
    "\n",
    "class_label = train_dataset.features[\"label\"]\n",
    "label2id = {label: id for id, label in enumerate(class_label.names)}\n",
    "id2label = {id: label for id, label in enumerate(class_label.names)}\n",
    "model = AutoModelForSequenceClassification.from_pretrained(\n",
    "    model_name,\n",
    "    num_labels=class_label.num_classes,\n",
    "    label2id=label2id, # ラベル名からIDへの対応を指定\n",
    "    id2label=id2label, # IDからラベル名への対応を指定\n",
    ")\n",
    "print(type(model).__name__)\n",
    "\n",
    "# パラメータをメモリ上に隣接した形で記憶\n",
    "# これを実行しない場合、モデルの保存でエラーになる場合がある\n",
    "for param in model.parameters():\n",
    "    param.data = param.data.contiguous()"
   ]
  },
  {
   "cell_type": "code",
   "execution_count": 20,
   "metadata": {},
   "outputs": [
    {
     "name": "stdout",
     "output_type": "stream",
     "text": [
      "SequenceClassifierOutput(loss=tensor(1.3709, grad_fn=<NllLossBackward0>), logits=tensor([[ 0.5438, -0.6999, -0.6652],\n",
      "        [ 0.5443, -0.6911, -0.6591],\n",
      "        [ 0.5689, -0.7136, -0.6473],\n",
      "        [ 0.5303, -0.7133, -0.6069]], grad_fn=<AddmmBackward0>), hidden_states=None, attentions=None)\n"
     ]
    }
   ],
   "source": [
    "print(model.forward(**data_collator(encoded_train_dataset[0:4])))"
   ]
  },
  {
   "cell_type": "markdown",
   "metadata": {},
   "source": [
    "#### 訓練の実行"
   ]
  },
  {
   "cell_type": "code",
   "execution_count": 21,
   "metadata": {},
   "outputs": [],
   "source": [
    "from transformers import TrainingArguments\n",
    "\n",
    "training_args = TrainingArguments(\n",
    "    output_dir=\"output_jnli\",\n",
    "    per_device_train_batch_size=32,\n",
    "    per_device_eval_batch_size=32,\n",
    "    learning_rate=2e-5,\n",
    "    lr_scheduler_type=\"linear\",\n",
    "    warmup_ratio=0.1,\n",
    "    num_train_epochs=3,\n",
    "    save_strategy=\"epoch\",\n",
    "    evaluation_strategy=\"epoch\",\n",
    "    logging_strategy=\"epoch\",\n",
    "    load_best_model_at_end=True,\n",
    "    metric_for_best_model=\"accuracy\",\n",
    "    fp16=True,\n",
    "    report_to=\"none\", # 外部ツールへのログを無効化\n",
    ")"
   ]
  },
  {
   "cell_type": "code",
   "execution_count": 22,
   "metadata": {},
   "outputs": [],
   "source": [
    "import numpy as np\n",
    "\n",
    "def compute_accuracy(\n",
    "    eval_pred: tuple[np.ndarray, np.ndarray]\n",
    ") -> dict[str, int]:\n",
    "    predictions, label = eval_pred\n",
    "    # predictionsは各ラベルについてのスコア\n",
    "    # 最もスコアの高いインデックスを予測ラベルとする\n",
    "    predictions = np.argmax(predictions, axis=1)\n",
    "    return {\"accuracy\": (predictions==label).mean()}"
   ]
  },
  {
   "cell_type": "code",
   "execution_count": 23,
   "metadata": {},
   "outputs": [
    {
     "name": "stderr",
     "output_type": "stream",
     "text": [
      "Using cuda_amp half precision backend\n",
      "/usr/local/lib/python3.10/dist-packages/transformers/optimization.py:306: FutureWarning: This implementation of AdamW is deprecated and will be removed in a future version. Use the PyTorch implementation torch.optim.AdamW instead, or set `no_deprecation_warning=True` to disable this warning\n",
      "  warnings.warn(\n",
      "***** Running training *****\n",
      "  Num examples = 20073\n",
      "  Num Epochs = 3\n",
      "  Instantaneous batch size per device = 32\n",
      "  Total train batch size (w. parallel, distributed & accumulation) = 32\n",
      "  Gradient Accumulation steps = 1\n",
      "  Total optimization steps = 1884\n"
     ]
    },
    {
     "data": {
      "text/html": [
       "\n",
       "    <div>\n",
       "      \n",
       "      <progress value='1884' max='1884' style='width:300px; height:20px; vertical-align: middle;'></progress>\n",
       "      [1884/1884 02:56, Epoch 3/3]\n",
       "    </div>\n",
       "    <table border=\"1\" class=\"dataframe\">\n",
       "  <thead>\n",
       " <tr style=\"text-align: left;\">\n",
       "      <th>Epoch</th>\n",
       "      <th>Training Loss</th>\n",
       "      <th>Validation Loss</th>\n",
       "      <th>Accuracy</th>\n",
       "    </tr>\n",
       "  </thead>\n",
       "  <tbody>\n",
       "    <tr>\n",
       "      <td>1</td>\n",
       "      <td>0.500100</td>\n",
       "      <td>0.318159</td>\n",
       "      <td>0.886606</td>\n",
       "    </tr>\n",
       "    <tr>\n",
       "      <td>2</td>\n",
       "      <td>0.213300</td>\n",
       "      <td>0.305609</td>\n",
       "      <td>0.901397</td>\n",
       "    </tr>\n",
       "    <tr>\n",
       "      <td>3</td>\n",
       "      <td>0.128300</td>\n",
       "      <td>0.355679</td>\n",
       "      <td>0.898932</td>\n",
       "    </tr>\n",
       "  </tbody>\n",
       "</table><p>"
      ],
      "text/plain": [
       "<IPython.core.display.HTML object>"
      ]
     },
     "metadata": {},
     "output_type": "display_data"
    },
    {
     "name": "stderr",
     "output_type": "stream",
     "text": [
      "***** Running Evaluation *****\n",
      "  Num examples = 2434\n",
      "  Batch size = 32\n",
      "Saving model checkpoint to output_jnli/checkpoint-628\n",
      "Configuration saved in output_jnli/checkpoint-628/config.json\n",
      "Model weights saved in output_jnli/checkpoint-628/pytorch_model.bin\n",
      "***** Running Evaluation *****\n",
      "  Num examples = 2434\n",
      "  Batch size = 32\n",
      "Saving model checkpoint to output_jnli/checkpoint-1256\n",
      "Configuration saved in output_jnli/checkpoint-1256/config.json\n",
      "Model weights saved in output_jnli/checkpoint-1256/pytorch_model.bin\n",
      "***** Running Evaluation *****\n",
      "  Num examples = 2434\n",
      "  Batch size = 32\n",
      "Saving model checkpoint to output_jnli/checkpoint-1884\n",
      "Configuration saved in output_jnli/checkpoint-1884/config.json\n",
      "Model weights saved in output_jnli/checkpoint-1884/pytorch_model.bin\n",
      "\n",
      "\n",
      "Training completed. Do not forget to share your model on huggingface.co/models =)\n",
      "\n",
      "\n",
      "Loading best model from output_jnli/checkpoint-1256 (score: 0.9013968775677896).\n"
     ]
    },
    {
     "data": {
      "text/plain": [
       "TrainOutput(global_step=1884, training_loss=0.2806084302833379, metrics={'train_runtime': 177.1105, 'train_samples_per_second': 340.008, 'train_steps_per_second': 10.637, 'total_flos': 1651171850205822.0, 'train_loss': 0.2806084302833379, 'epoch': 3.0})"
      ]
     },
     "execution_count": 23,
     "metadata": {},
     "output_type": "execute_result"
    }
   ],
   "source": [
    "### 学習\n",
    "from transformers import Trainer\n",
    "\n",
    "trainer = Trainer(\n",
    "    model=model,\n",
    "    train_dataset=encoded_train_dataset,\n",
    "    eval_dataset=encoded_valid_dataset,\n",
    "    data_collator=data_collator,\n",
    "    args=training_args,\n",
    "    compute_metrics=compute_accuracy,\n",
    ")\n",
    "trainer.train()"
   ]
  },
  {
   "cell_type": "markdown",
   "metadata": {},
   "source": [
    "#### 訓練後のモデルの評価"
   ]
  },
  {
   "cell_type": "code",
   "execution_count": 24,
   "metadata": {},
   "outputs": [
    {
     "name": "stderr",
     "output_type": "stream",
     "text": [
      "***** Running Evaluation *****\n",
      "  Num examples = 2434\n",
      "  Batch size = 32\n"
     ]
    },
    {
     "data": {
      "text/html": [
       "\n",
       "    <div>\n",
       "      \n",
       "      <progress value='77' max='77' style='width:300px; height:20px; vertical-align: middle;'></progress>\n",
       "      [77/77 00:01]\n",
       "    </div>\n",
       "    "
      ],
      "text/plain": [
       "<IPython.core.display.HTML object>"
      ]
     },
     "metadata": {},
     "output_type": "display_data"
    },
    {
     "name": "stdout",
     "output_type": "stream",
     "text": [
      "{'epoch': 3.0,\n",
      " 'eval_accuracy': 0.9013968775677896,\n",
      " 'eval_loss': 0.30560895800590515,\n",
      " 'eval_runtime': 2.1831,\n",
      " 'eval_samples_per_second': 1114.926,\n",
      " 'eval_steps_per_second': 35.271}\n"
     ]
    }
   ],
   "source": [
    "# 検証セットでモデル評価\n",
    "eval_metrics = trainer.evaluate(encoded_valid_dataset)\n",
    "pprint(eval_metrics)"
   ]
  },
  {
   "cell_type": "markdown",
   "metadata": {},
   "source": [
    "### 意味的類似度計算"
   ]
  },
  {
   "cell_type": "markdown",
   "metadata": {},
   "source": [
    "#### 意味的類似度計算"
   ]
  },
  {
   "cell_type": "code",
   "execution_count": 2,
   "metadata": {},
   "outputs": [],
   "source": [
    "# 乱数シードの固定\n",
    "from transformers.trainer_utils import set_seed\n",
    "\n",
    "# 乱数シードを42に固定\n",
    "set_seed(42)"
   ]
  },
  {
   "cell_type": "markdown",
   "metadata": {},
   "source": [
    "#### データセットの準備"
   ]
  },
  {
   "cell_type": "code",
   "execution_count": 4,
   "metadata": {},
   "outputs": [
    {
     "name": "stdout",
     "output_type": "stream",
     "text": [
      "Downloading and preparing dataset jglue/JSTS to /root/.cache/huggingface/datasets/llm-book___jglue/JSTS/1.1.0/b394a8dbefe82fb1dc2724c1eb79bb1ea3062df2037f91a69a27c089f3ff685f...\n"
     ]
    },
    {
     "name": "stderr",
     "output_type": "stream",
     "text": [
      "Downloading data: 3.16MB [00:00, 57.4MB/s]                  ]\n",
      "Downloading data: 372kB [00:00, 18.6MB/s]                    .43it/s]\n",
      "Downloading data files: 100%|██████████| 2/2 [00:01<00:00,  1.59it/s]\n",
      "Extracting data files: 100%|██████████| 2/2 [00:00<00:00, 1546.57it/s]\n",
      "                                                                   \r"
     ]
    },
    {
     "name": "stdout",
     "output_type": "stream",
     "text": [
      "Dataset jglue downloaded and prepared to /root/.cache/huggingface/datasets/llm-book___jglue/JSTS/1.1.0/b394a8dbefe82fb1dc2724c1eb79bb1ea3062df2037f91a69a27c089f3ff685f. Subsequent calls will reuse this data.\n"
     ]
    },
    {
     "name": "stderr",
     "output_type": "stream",
     "text": [
      "WARNING: Logging before flag parsing goes to stderr.\n",
      "W1027 06:15:07.709398 139717496147968 builder.py:641] Reusing dataset jglue (/root/.cache/huggingface/datasets/llm-book___jglue/JSTS/1.1.0/b394a8dbefe82fb1dc2724c1eb79bb1ea3062df2037f91a69a27c089f3ff685f)\n"
     ]
    }
   ],
   "source": [
    "from pprint import pprint\n",
    "from datasets import load_dataset\n",
    "\n",
    "# Hugging Face Hub上のllm-book/JGLUEのリポジトリから\n",
    "# JSTSのデータセット読み込む\n",
    "train_dataset = load_dataset(\n",
    "    \"llm-book/JGLUE\", name=\"JSTS\", split=\"train\"\n",
    ")\n",
    "valid_dataset = load_dataset(\n",
    "    \"llm-book/JGLUE\", name=\"JSTS\", split=\"validation\"\n",
    ")"
   ]
  },
  {
   "cell_type": "code",
   "execution_count": 5,
   "metadata": {},
   "outputs": [
    {
     "name": "stdout",
     "output_type": "stream",
     "text": [
      "{'label': 0.0,\n",
      " 'sentence1': '川べりでサーフボードを持った人たちがいます。',\n",
      " 'sentence2': 'トイレの壁に黒いタオルがかけられています。',\n",
      " 'sentence_pair_id': '0',\n",
      " 'yjcaptions_id': '10005_480798-10996-92616'}\n"
     ]
    }
   ],
   "source": [
    "# pprintで見やすく表示\n",
    "pprint(train_dataset[0])"
   ]
  },
  {
   "cell_type": "code",
   "execution_count": 6,
   "metadata": {},
   "outputs": [
    {
     "name": "stdout",
     "output_type": "stream",
     "text": [
      "{'label': Value(dtype='float32', id=None),\n",
      " 'sentence1': Value(dtype='string', id=None),\n",
      " 'sentence2': Value(dtype='string', id=None),\n",
      " 'sentence_pair_id': Value(dtype='string', id=None),\n",
      " 'yjcaptions_id': Value(dtype='string', id=None)}\n"
     ]
    }
   ],
   "source": [
    "pprint(train_dataset.features)"
   ]
  },
  {
   "cell_type": "markdown",
   "metadata": {},
   "source": [
    "#### トークンナイザ"
   ]
  },
  {
   "cell_type": "code",
   "execution_count": 7,
   "metadata": {},
   "outputs": [
    {
     "name": "stderr",
     "output_type": "stream",
     "text": [
      "https://huggingface.co/tohoku-nlp/bert-base-japanese-v3/resolve/main/tokenizer_config.json not found in cache or force_download set to True, downloading to /root/.cache/huggingface/transformers/tmpj7o28hxk\n",
      "Downloading tokenizer_config.json: 100%|██████████| 251/251 [00:00<00:00, 1.91MB/s]\n",
      "storing https://huggingface.co/tohoku-nlp/bert-base-japanese-v3/resolve/main/tokenizer_config.json in cache at /root/.cache/huggingface/transformers/8043b59e7a9639c56214adaed095b3cbf0d5092149be4d1f965b6acb30b8d3e1.4808e98b4c322931918efdb7a04a39d4791c7057a124ebb424f0c33b64ff0b04\n",
      "creating metadata file for /root/.cache/huggingface/transformers/8043b59e7a9639c56214adaed095b3cbf0d5092149be4d1f965b6acb30b8d3e1.4808e98b4c322931918efdb7a04a39d4791c7057a124ebb424f0c33b64ff0b04\n",
      "https://huggingface.co/tohoku-nlp/bert-base-japanese-v3/resolve/main/vocab.txt not found in cache or force_download set to True, downloading to /root/.cache/huggingface/transformers/tmp17ebxk86\n",
      "Downloading vocab.txt: 100%|██████████| 226k/226k [00:00<00:00, 813kB/s] \n",
      "storing https://huggingface.co/tohoku-nlp/bert-base-japanese-v3/resolve/main/vocab.txt in cache at /root/.cache/huggingface/transformers/c9bc9ea10e626449e8b1e495b7732b9731759975f019624c92aa6360a07c72d7.e89607f19c59d268d8bab3289700c482c617a74844664e4996544f3e1a647db4\n",
      "creating metadata file for /root/.cache/huggingface/transformers/c9bc9ea10e626449e8b1e495b7732b9731759975f019624c92aa6360a07c72d7.e89607f19c59d268d8bab3289700c482c617a74844664e4996544f3e1a647db4\n",
      "loading file https://huggingface.co/tohoku-nlp/bert-base-japanese-v3/resolve/main/vocab.txt from cache at /root/.cache/huggingface/transformers/c9bc9ea10e626449e8b1e495b7732b9731759975f019624c92aa6360a07c72d7.e89607f19c59d268d8bab3289700c482c617a74844664e4996544f3e1a647db4\n",
      "loading file https://huggingface.co/tohoku-nlp/bert-base-japanese-v3/resolve/main/added_tokens.json from cache at None\n",
      "loading file https://huggingface.co/tohoku-nlp/bert-base-japanese-v3/resolve/main/special_tokens_map.json from cache at None\n",
      "loading file https://huggingface.co/tohoku-nlp/bert-base-japanese-v3/resolve/main/tokenizer_config.json from cache at /root/.cache/huggingface/transformers/8043b59e7a9639c56214adaed095b3cbf0d5092149be4d1f965b6acb30b8d3e1.4808e98b4c322931918efdb7a04a39d4791c7057a124ebb424f0c33b64ff0b04\n"
     ]
    }
   ],
   "source": [
    "from transformers import AutoTokenizer\n",
    "# Hugging Face Hub上のモデル名を指定\n",
    "model_name = \"tohoku-nlp/bert-base-japanese-v3\"\n",
    "# モデル名からトークナイザを読み込む\n",
    "tokenizer = AutoTokenizer.from_pretrained(model_name)"
   ]
  },
  {
   "cell_type": "code",
   "execution_count": 8,
   "metadata": {},
   "outputs": [
    {
     "name": "stderr",
     "output_type": "stream",
     "text": [
      "100%|██████████| 12451/12451 [00:03<00:00, 3933.20it/s]\n"
     ]
    },
    {
     "data": {
      "image/png": "[encoded data removed]",
      "text/plain": [
       "<Figure size 640x480 with 1 Axes>"
      ]
     },
     "metadata": {},
     "output_type": "display_data"
    },
    {
     "name": "stderr",
     "output_type": "stream",
     "text": [
      "100%|██████████| 1457/1457 [00:00<00:00, 4062.45it/s]\n"
     ]
    },
    {
     "data": {
      "image/png": "[encoded data removed]",
      "text/plain": [
       "<Figure size 640x480 with 1 Axes>"
      ]
     },
     "metadata": {},
     "output_type": "display_data"
    }
   ],
   "source": [
    "#### データセット統計の可視化\n",
    "from collections import Counter\n",
    "import japanize_matplotlib\n",
    "import matplotlib.pyplot as plt\n",
    "from datasets import Dataset\n",
    "from tqdm import tqdm\n",
    "\n",
    "plt.rcParams[\"font.size\"] = 18\n",
    "\n",
    "def visualize_text_length(dataset: Dataset):\n",
    "    \"\"\"データセット中のテキストのトークン数の分布をグラフとして描画\"\"\"\n",
    "    # データセット中のテキストの長さを数える\n",
    "    length_counter1 = Counter()\n",
    "    length_counter2 = Counter()\n",
    "    for data in tqdm(dataset):\n",
    "        length1 = len(tokenizer.tokenize(data[\"sentence1\"]))\n",
    "        length_counter1[length1] += 1\n",
    "        length2 = len(tokenizer.tokenize(data[\"sentence2\"]))\n",
    "        length_counter2[length2] += 1\n",
    "        \n",
    "    # length_counterの値から棒グラフを描画する\n",
    "    plt.bar(length_counter1.keys(), length_counter1.values(), width=1.0, alpha=0.5)\n",
    "    plt.bar(length_counter2.keys(), length_counter2.values(), width=1.0, alpha=0.5)\n",
    "    plt.xlabel(\"トークン数\")\n",
    "    plt.ylabel(\"事例数\")\n",
    "    plt.show()\n",
    "    \n",
    "visualize_text_length(train_dataset)\n",
    "visualize_text_length(valid_dataset)"
   ]
  },
  {
   "cell_type": "code",
   "execution_count": 9,
   "metadata": {},
   "outputs": [
    {
     "data": {
      "image/png": "[encoded data removed]",
      "text/plain": [
       "<Figure size 640x480 with 1 Axes>"
      ]
     },
     "metadata": {},
     "output_type": "display_data"
    }
   ],
   "source": [
    "def visualize_scores(dataset: Dataset):\n",
    "    \"\"\"データセット中のスコア分布をグラフとして描画\"\"\"\n",
    "    # データセット中のスコアを抽出\n",
    "    scores = []\n",
    "    for data in dataset:\n",
    "        scores.append(data[\"label\"])\n",
    "        \n",
    "    # label_counterを棒グラフとして描画する\n",
    "    plt.hist(scores, width=1.0)\n",
    "    plt.xlabel(\"スコア\")\n",
    "    plt.ylabel(\"事例集\")\n",
    "    plt.show()\n",
    "    \n",
    "visualize_scores(valid_dataset)"
   ]
  },
  {
   "cell_type": "markdown",
   "metadata": {},
   "source": [
    "#### データセットの前処理"
   ]
  },
  {
   "cell_type": "code",
   "execution_count": 10,
   "metadata": {},
   "outputs": [],
   "source": [
    "from transformers import BatchEncoding\n",
    "\n",
    "def preprocess_text_pair_classification(\n",
    "    example: dict[str, str | int]\n",
    ") -> BatchEncoding:\n",
    "    \"\"\"文ペア関係予測の事例をトークナイズし、IDに変換\"\"\"\n",
    "    # 出力は\"input_ids\", \"token_type_ids\", \"attention_mask\"をkeyとし、\n",
    "    # list[int]をvalueとするBatchEncodingオブジェクト\n",
    "    encoded_example = tokenizer(\n",
    "        example[\"sentence1\"], example[\"sentence2\"], max_length=128\n",
    "    )\n",
    "    \n",
    "    # 以降で使うモデルのBertForSequenceClassificationのforwardメソッドが\n",
    "    # 受け取るラベルの引数名に合わせて\"labels\"をキーにする\n",
    "    encoded_example[\"labels\"] = example[\"label\"]\n",
    "    return encoded_example\n",
    "    "
   ]
  },
  {
   "cell_type": "code",
   "execution_count": 12,
   "metadata": {},
   "outputs": [
    {
     "name": "stderr",
     "output_type": "stream",
     "text": [
      "100%|██████████| 12451/12451 [00:04<00:00, 3040.52ex/s]\n",
      "W1027 06:34:10.325295 139717496147968 arrow_dataset.py:2608] Loading cached processed dataset at /root/.cache/huggingface/datasets/llm-book___jglue/JSTS/1.1.0/b394a8dbefe82fb1dc2724c1eb79bb1ea3062df2037f91a69a27c089f3ff685f/cache-8178bab62d7a102a.arrow\n"
     ]
    }
   ],
   "source": [
    "### 前処理の適用\n",
    "encoded_train_dataset = train_dataset.map(\n",
    "    preprocess_text_pair_classification,\n",
    "    remove_columns=train_dataset.column_names,\n",
    ")\n",
    "encoded_valid_dataset = valid_dataset.map(\n",
    "    preprocess_text_pair_classification,\n",
    "    remove_columns=valid_dataset.column_names,\n",
    ")"
   ]
  },
  {
   "cell_type": "code",
   "execution_count": 13,
   "metadata": {},
   "outputs": [
    {
     "name": "stdout",
     "output_type": "stream",
     "text": [
      "{'input_ids': [2, 1943, 7740, 7234, 457, 12840, 7076, 15950, 500, 13008, 449, 680, 12626, 430, 422, 12995, 385, 3, 17884, 464, 1549, 461, 16568, 32500, 430, 12790, 12504, 456, 422, 12995, 385, 3], 'token_type_ids': [0, 0, 0, 0, 0, 0, 0, 0, 0, 0, 0, 0, 0, 0, 0, 0, 0, 0, 1, 1, 1, 1, 1, 1, 1, 1, 1, 1, 1, 1, 1, 1], 'attention_mask': [1, 1, 1, 1, 1, 1, 1, 1, 1, 1, 1, 1, 1, 1, 1, 1, 1, 1, 1, 1, 1, 1, 1, 1, 1, 1, 1, 1, 1, 1, 1, 1], 'labels': 0.0}\n"
     ]
    }
   ],
   "source": [
    "print(encoded_train_dataset[0])"
   ]
  },
  {
   "cell_type": "markdown",
   "metadata": {},
   "source": [
    "#### ミニバッチ構築"
   ]
  },
  {
   "cell_type": "code",
   "execution_count": 14,
   "metadata": {},
   "outputs": [],
   "source": [
    "from transformers import DataCollatorWithPadding\n",
    "\n",
    "data_collator = DataCollatorWithPadding(tokenizer=tokenizer)"
   ]
  },
  {
   "cell_type": "code",
   "execution_count": 15,
   "metadata": {},
   "outputs": [
    {
     "name": "stdout",
     "output_type": "stream",
     "text": [
      "{'attention_mask': torch.Size([4, 32]),\n",
      " 'input_ids': torch.Size([4, 32]),\n",
      " 'labels': torch.Size([4]),\n",
      " 'token_type_ids': torch.Size([4, 32])}\n"
     ]
    }
   ],
   "source": [
    "batch_inputs = data_collator(encoded_train_dataset[0:4])\n",
    "pprint({name: tensor.size() for name, tensor in batch_inputs.items()})"
   ]
  },
  {
   "cell_type": "markdown",
   "metadata": {},
   "source": [
    "#### モデルの準備"
   ]
  },
  {
   "cell_type": "code",
   "execution_count": 16,
   "metadata": {},
   "outputs": [
    {
     "name": "stderr",
     "output_type": "stream",
     "text": [
      "https://huggingface.co/tohoku-nlp/bert-base-japanese-v3/resolve/main/config.json not found in cache or force_download set to True, downloading to /root/.cache/huggingface/transformers/tmpch4znfom\n",
      "Downloading config.json: 100%|██████████| 472/472 [00:00<00:00, 3.82MB/s]\n",
      "storing https://huggingface.co/tohoku-nlp/bert-base-japanese-v3/resolve/main/config.json in cache at /root/.cache/huggingface/transformers/2c9ec44dde23b6b02ec9f34997dd1595677490da33cc6f7f5931a82fea500ef1.fa452780f4f534fd5a9a500fd6dc0ab2b41b7f3a87fde31e4e439dacbbe6eea3\n",
      "creating metadata file for /root/.cache/huggingface/transformers/2c9ec44dde23b6b02ec9f34997dd1595677490da33cc6f7f5931a82fea500ef1.fa452780f4f534fd5a9a500fd6dc0ab2b41b7f3a87fde31e4e439dacbbe6eea3\n",
      "loading configuration file https://huggingface.co/tohoku-nlp/bert-base-japanese-v3/resolve/main/config.json from cache at /root/.cache/huggingface/transformers/2c9ec44dde23b6b02ec9f34997dd1595677490da33cc6f7f5931a82fea500ef1.fa452780f4f534fd5a9a500fd6dc0ab2b41b7f3a87fde31e4e439dacbbe6eea3\n",
      "Model config BertConfig {\n",
      "  \"_name_or_path\": \"tohoku-nlp/bert-base-japanese-v3\",\n",
      "  \"architectures\": [\n",
      "    \"BertForPreTraining\"\n",
      "  ],\n",
      "  \"attention_probs_dropout_prob\": 0.1,\n",
      "  \"classifier_dropout\": null,\n",
      "  \"hidden_act\": \"gelu\",\n",
      "  \"hidden_dropout_prob\": 0.1,\n",
      "  \"hidden_size\": 768,\n",
      "  \"id2label\": {\n",
      "    \"0\": \"LABEL_0\"\n",
      "  },\n",
      "  \"initializer_range\": 0.02,\n",
      "  \"intermediate_size\": 3072,\n",
      "  \"label2id\": {\n",
      "    \"LABEL_0\": 0\n",
      "  },\n",
      "  \"layer_norm_eps\": 1e-12,\n",
      "  \"max_position_embeddings\": 512,\n",
      "  \"model_type\": \"bert\",\n",
      "  \"num_attention_heads\": 12,\n",
      "  \"num_hidden_layers\": 12,\n",
      "  \"pad_token_id\": 0,\n",
      "  \"position_embedding_type\": \"absolute\",\n",
      "  \"problem_type\": \"regression\",\n",
      "  \"transformers_version\": \"4.21.2\",\n",
      "  \"type_vocab_size\": 2,\n",
      "  \"use_cache\": true,\n",
      "  \"vocab_size\": 32768\n",
      "}\n",
      "\n",
      "https://huggingface.co/tohoku-nlp/bert-base-japanese-v3/resolve/main/pytorch_model.bin not found in cache or force_download set to True, downloading to /root/.cache/huggingface/transformers/tmpkyslwa2w\n",
      "Downloading pytorch_model.bin: 100%|██████████| 427M/427M [00:10<00:00, 42.7MB/s] \n",
      "storing https://huggingface.co/tohoku-nlp/bert-base-japanese-v3/resolve/main/pytorch_model.bin in cache at /root/.cache/huggingface/transformers/201a1f23c0452ac363a0cdb3cc22b8c35e0e0919dff8808adf6fc9074a02518a.b69711e2b1dad158d9a7b14bc7bacc1155d9c924a3bcd47d0ba6db6d23ddc0f9\n",
      "creating metadata file for /root/.cache/huggingface/transformers/201a1f23c0452ac363a0cdb3cc22b8c35e0e0919dff8808adf6fc9074a02518a.b69711e2b1dad158d9a7b14bc7bacc1155d9c924a3bcd47d0ba6db6d23ddc0f9\n",
      "loading weights file https://huggingface.co/tohoku-nlp/bert-base-japanese-v3/resolve/main/pytorch_model.bin from cache at /root/.cache/huggingface/transformers/201a1f23c0452ac363a0cdb3cc22b8c35e0e0919dff8808adf6fc9074a02518a.b69711e2b1dad158d9a7b14bc7bacc1155d9c924a3bcd47d0ba6db6d23ddc0f9\n",
      "Some weights of the model checkpoint at tohoku-nlp/bert-base-japanese-v3 were not used when initializing BertForSequenceClassification: ['cls.predictions.bias', 'cls.predictions.decoder.bias', 'cls.predictions.transform.LayerNorm.bias', 'cls.seq_relationship.bias', 'cls.predictions.transform.dense.weight', 'cls.predictions.transform.dense.bias', 'cls.predictions.decoder.weight', 'cls.seq_relationship.weight', 'cls.predictions.transform.LayerNorm.weight']\n",
      "- This IS expected if you are initializing BertForSequenceClassification from the checkpoint of a model trained on another task or with another architecture (e.g. initializing a BertForSequenceClassification model from a BertForPreTraining model).\n",
      "- This IS NOT expected if you are initializing BertForSequenceClassification from the checkpoint of a model that you expect to be exactly identical (initializing a BertForSequenceClassification model from a BertForSequenceClassification model).\n",
      "Some weights of BertForSequenceClassification were not initialized from the model checkpoint at tohoku-nlp/bert-base-japanese-v3 and are newly initialized: ['classifier.weight', 'classifier.bias']\n",
      "You should probably TRAIN this model on a down-stream task to be able to use it for predictions and inference.\n"
     ]
    }
   ],
   "source": [
    "from transformers import AutoModelForSequenceClassification\n",
    "\n",
    "transformers_model_name = \"tohoku-nlp/bert-base-japanese-v3\"\n",
    "\n",
    "model = AutoModelForSequenceClassification.from_pretrained(\n",
    "    transformers_model_name,\n",
    "    num_labels=1,\n",
    "    problem_type=\"regression\"\n",
    ")"
   ]
  },
  {
   "cell_type": "code",
   "execution_count": 17,
   "metadata": {},
   "outputs": [
    {
     "name": "stdout",
     "output_type": "stream",
     "text": [
      "SequenceClassifierOutput(loss=tensor(6.4943, grad_fn=<MseLossBackward0>), logits=tensor([[0.2608],\n",
      "        [0.3047],\n",
      "        [0.2998],\n",
      "        [0.1691]], grad_fn=<AddmmBackward0>), hidden_states=None, attentions=None)\n"
     ]
    }
   ],
   "source": [
    "print(model.forward(**data_collator(encoded_train_dataset[0:4])))"
   ]
  },
  {
   "cell_type": "markdown",
   "metadata": {},
   "source": [
    "#### 訓練の実行"
   ]
  },
  {
   "cell_type": "code",
   "execution_count": 18,
   "metadata": {},
   "outputs": [
    {
     "name": "stderr",
     "output_type": "stream",
     "text": [
      "PyTorch: setting up devices\n"
     ]
    }
   ],
   "source": [
    "### 訓練時のパラメータ設定\n",
    "from transformers import TrainingArguments\n",
    "\n",
    "training_args = TrainingArguments(\n",
    "    output_dir=\"../model/output_jsts\",\n",
    "    per_device_train_batch_size=32,\n",
    "    per_device_eval_batch_size=32,\n",
    "    learning_rate=2e-5,\n",
    "    lr_scheduler_type=\"linear\",\n",
    "    warmup_ratio=0.1,\n",
    "    num_train_epochs=3,\n",
    "    save_strategy=\"epoch\",\n",
    "    logging_strategy=\"epoch\",\n",
    "    evaluation_strategy=\"epoch\",\n",
    "    load_best_model_at_end=True,\n",
    "    metric_for_best_model=\"spearmanr\",\n",
    "    fp16=True,\n",
    "    report_to=\"none\",\n",
    ")"
   ]
  },
  {
   "cell_type": "code",
   "execution_count": 25,
   "metadata": {},
   "outputs": [],
   "source": [
    "### 評価関数\n",
    "import numpy as np\n",
    "from scipy.stats import pearsonr, spearmanr\n",
    "\n",
    "def compute_correlation_metrics(\n",
    "    eval_pred: tuple[np.ndarray, np.ndarray]\n",
    ") -> dict[str, float]:\n",
    "    \"\"\"予測スコアと正解スコアから各種相関係数を計算\"\"\"\n",
    "    predictions, labels = eval_pred\n",
    "    predictions = predictions.squeeze(1)\n",
    "    \n",
    "    # pearsonrとspearmanrは (相関係数, p値) のタプルを返す\n",
    "    pearson_corr, _ = pearsonr(predictions, labels)\n",
    "    spearman_corr, _ = spearmanr(predictions, labels)\n",
    "    \n",
    "    return {\n",
    "        \"pearsonr\": pearson_corr,\n",
    "        \"spearmanr\": spearman_corr,\n",
    "    }"
   ]
  },
  {
   "cell_type": "code",
   "execution_count": 26,
   "metadata": {},
   "outputs": [
    {
     "name": "stderr",
     "output_type": "stream",
     "text": [
      "Using cuda_amp half precision backend\n",
      "***** Running training *****\n",
      "  Num examples = 12451\n",
      "  Num Epochs = 3\n",
      "  Instantaneous batch size per device = 32\n",
      "  Total train batch size (w. parallel, distributed & accumulation) = 32\n",
      "  Gradient Accumulation steps = 1\n",
      "  Total optimization steps = 1170\n"
     ]
    },
    {
     "data": {
      "text/html": [
       "\n",
       "    <div>\n",
       "      \n",
       "      <progress value='1170' max='1170' style='width:300px; height:20px; vertical-align: middle;'></progress>\n",
       "      [1170/1170 01:56, Epoch 3/3]\n",
       "    </div>\n",
       "    <table border=\"1\" class=\"dataframe\">\n",
       "  <thead>\n",
       " <tr style=\"text-align: left;\">\n",
       "      <th>Epoch</th>\n",
       "      <th>Training Loss</th>\n",
       "      <th>Validation Loss</th>\n",
       "      <th>Pearsonr</th>\n",
       "      <th>Spearmanr</th>\n",
       "    </tr>\n",
       "  </thead>\n",
       "  <tbody>\n",
       "    <tr>\n",
       "      <td>1</td>\n",
       "      <td>0.117300</td>\n",
       "      <td>0.389991</td>\n",
       "      <td>0.902292</td>\n",
       "      <td>0.864971</td>\n",
       "    </tr>\n",
       "    <tr>\n",
       "      <td>2</td>\n",
       "      <td>0.225900</td>\n",
       "      <td>0.332706</td>\n",
       "      <td>0.914415</td>\n",
       "      <td>0.873066</td>\n",
       "    </tr>\n",
       "    <tr>\n",
       "      <td>3</td>\n",
       "      <td>0.156700</td>\n",
       "      <td>0.342210</td>\n",
       "      <td>0.914347</td>\n",
       "      <td>0.874876</td>\n",
       "    </tr>\n",
       "  </tbody>\n",
       "</table><p>"
      ],
      "text/plain": [
       "<IPython.core.display.HTML object>"
      ]
     },
     "metadata": {},
     "output_type": "display_data"
    },
    {
     "name": "stderr",
     "output_type": "stream",
     "text": [
      "***** Running Evaluation *****\n",
      "  Num examples = 1457\n",
      "  Batch size = 32\n",
      "Saving model checkpoint to ../model/output_jsts/checkpoint-390\n",
      "Configuration saved in ../model/output_jsts/checkpoint-390/config.json\n",
      "Model weights saved in ../model/output_jsts/checkpoint-390/pytorch_model.bin\n",
      "***** Running Evaluation *****\n",
      "  Num examples = 1457\n",
      "  Batch size = 32\n",
      "Saving model checkpoint to ../model/output_jsts/checkpoint-780\n",
      "Configuration saved in ../model/output_jsts/checkpoint-780/config.json\n",
      "Model weights saved in ../model/output_jsts/checkpoint-780/pytorch_model.bin\n",
      "***** Running Evaluation *****\n",
      "  Num examples = 1457\n",
      "  Batch size = 32\n",
      "Saving model checkpoint to ../model/output_jsts/checkpoint-1170\n",
      "Configuration saved in ../model/output_jsts/checkpoint-1170/config.json\n",
      "Model weights saved in ../model/output_jsts/checkpoint-1170/pytorch_model.bin\n",
      "\n",
      "\n",
      "Training completed. Do not forget to share your model on huggingface.co/models =)\n",
      "\n",
      "\n",
      "Loading best model from ../model/output_jsts/checkpoint-1170 (score: 0.8748760708118822).\n"
     ]
    },
    {
     "data": {
      "text/plain": [
       "TrainOutput(global_step=1170, training_loss=0.16661641373593583, metrics={'train_runtime': 116.6566, 'train_samples_per_second': 320.196, 'train_steps_per_second': 10.029, 'total_flos': 1012209974990184.0, 'train_loss': 0.16661641373593583, 'epoch': 3.0})"
      ]
     },
     "execution_count": 26,
     "metadata": {},
     "output_type": "execute_result"
    }
   ],
   "source": [
    "### モデル学習\n",
    "from transformers import Trainer\n",
    "\n",
    "trainer = Trainer(\n",
    "    model=model,\n",
    "    train_dataset=encoded_train_dataset,\n",
    "    eval_dataset=encoded_valid_dataset,\n",
    "    data_collator=data_collator,\n",
    "    args=training_args,\n",
    "    compute_metrics=compute_correlation_metrics\n",
    ")\n",
    "\n",
    "trainer.train()"
   ]
  },
  {
   "cell_type": "markdown",
   "metadata": {},
   "source": [
    "#### 訓練後のモデルの評価"
   ]
  },
  {
   "cell_type": "code",
   "execution_count": 27,
   "metadata": {},
   "outputs": [
    {
     "name": "stderr",
     "output_type": "stream",
     "text": [
      "***** Running Evaluation *****\n",
      "  Num examples = 1457\n",
      "  Batch size = 32\n"
     ]
    },
    {
     "data": {
      "text/html": [
       "\n",
       "    <div>\n",
       "      \n",
       "      <progress value='46' max='46' style='width:300px; height:20px; vertical-align: middle;'></progress>\n",
       "      [46/46 00:00]\n",
       "    </div>\n",
       "    "
      ],
      "text/plain": [
       "<IPython.core.display.HTML object>"
      ]
     },
     "metadata": {},
     "output_type": "display_data"
    },
    {
     "name": "stdout",
     "output_type": "stream",
     "text": [
      "{'epoch': 3.0,\n",
      " 'eval_loss': 0.3422102928161621,\n",
      " 'eval_pearsonr': 0.9143472987266228,\n",
      " 'eval_runtime': 1.2279,\n",
      " 'eval_samples_per_second': 1186.557,\n",
      " 'eval_spearmanr': 0.8748760708118822,\n",
      " 'eval_steps_per_second': 37.462}\n"
     ]
    }
   ],
   "source": [
    "# 検証セットでモデルを評価\n",
    "eval_metrics = trainer.evaluate(encoded_valid_dataset)\n",
    "pprint(eval_metrics)"
   ]
  },
  {
   "cell_type": "code",
   "execution_count": 35,
   "metadata": {},
   "outputs": [
    {
     "name": "stderr",
     "output_type": "stream",
     "text": [
      "loading configuration file https://huggingface.co/llm-book/bert-base-japanese-v3-jsts/resolve/main/config.json from cache at /root/.cache/huggingface/transformers/7416e18f43074b8a4059dd2a18c5812eb25ea29ea24198f571aa9db78b219e7b.9e91c324b28864465f8b22c7b8bb2288549254690364c4e88d6eb9396b3ee6a6\n",
      "Model config BertConfig {\n",
      "  \"_name_or_path\": \"llm-book/bert-base-japanese-v3-jsts\",\n",
      "  \"architectures\": [\n",
      "    \"BertForSequenceClassification\"\n",
      "  ],\n",
      "  \"attention_probs_dropout_prob\": 0.1,\n",
      "  \"classifier_dropout\": null,\n",
      "  \"hidden_act\": \"gelu\",\n",
      "  \"hidden_dropout_prob\": 0.1,\n",
      "  \"hidden_size\": 768,\n",
      "  \"id2label\": {\n",
      "    \"0\": \"LABEL_0\"\n",
      "  },\n",
      "  \"initializer_range\": 0.02,\n",
      "  \"intermediate_size\": 3072,\n",
      "  \"label2id\": {\n",
      "    \"LABEL_0\": 0\n",
      "  },\n",
      "  \"layer_norm_eps\": 1e-12,\n",
      "  \"max_position_embeddings\": 512,\n",
      "  \"model_type\": \"bert\",\n",
      "  \"num_attention_heads\": 12,\n",
      "  \"num_hidden_layers\": 12,\n",
      "  \"pad_token_id\": 0,\n",
      "  \"position_embedding_type\": \"absolute\",\n",
      "  \"problem_type\": \"regression\",\n",
      "  \"torch_dtype\": \"float32\",\n",
      "  \"transformers_version\": \"4.21.2\",\n",
      "  \"type_vocab_size\": 2,\n",
      "  \"use_cache\": true,\n",
      "  \"vocab_size\": 32768\n",
      "}\n",
      "\n",
      "Downloading: 100%|██████████| 1.30k/1.30k [00:00<00:00, 7.76MB/s]\n",
      "loading configuration file https://huggingface.co/llm-book/bert-base-japanese-v3-jsts/resolve/main/config.json from cache at /root/.cache/huggingface/transformers/7416e18f43074b8a4059dd2a18c5812eb25ea29ea24198f571aa9db78b219e7b.9e91c324b28864465f8b22c7b8bb2288549254690364c4e88d6eb9396b3ee6a6\n",
      "Model config BertConfig {\n",
      "  \"_name_or_path\": \"llm-book/bert-base-japanese-v3-jsts\",\n",
      "  \"architectures\": [\n",
      "    \"BertForSequenceClassification\"\n",
      "  ],\n",
      "  \"attention_probs_dropout_prob\": 0.1,\n",
      "  \"classifier_dropout\": null,\n",
      "  \"hidden_act\": \"gelu\",\n",
      "  \"hidden_dropout_prob\": 0.1,\n",
      "  \"hidden_size\": 768,\n",
      "  \"id2label\": {\n",
      "    \"0\": \"LABEL_0\"\n",
      "  },\n",
      "  \"initializer_range\": 0.02,\n",
      "  \"intermediate_size\": 3072,\n",
      "  \"label2id\": {\n",
      "    \"LABEL_0\": 0\n",
      "  },\n",
      "  \"layer_norm_eps\": 1e-12,\n",
      "  \"max_position_embeddings\": 512,\n",
      "  \"model_type\": \"bert\",\n",
      "  \"num_attention_heads\": 12,\n",
      "  \"num_hidden_layers\": 12,\n",
      "  \"pad_token_id\": 0,\n",
      "  \"position_embedding_type\": \"absolute\",\n",
      "  \"problem_type\": \"regression\",\n",
      "  \"torch_dtype\": \"float32\",\n",
      "  \"transformers_version\": \"4.21.2\",\n",
      "  \"type_vocab_size\": 2,\n",
      "  \"use_cache\": true,\n",
      "  \"vocab_size\": 32768\n",
      "}\n",
      "\n",
      "loading weights file https://huggingface.co/llm-book/bert-base-japanese-v3-jsts/resolve/main/pytorch_model.bin from cache at /root/.cache/huggingface/transformers/927cbc5ff590b4b6b83380eba1d30c6cce8e71765796f51ac00f3e1062a52ea0.98234cc61b1aea0e53c7af887d10076d63df355f055df58b79e63a9a4b9b1569\n",
      "All model checkpoint weights were used when initializing BertForSequenceClassification.\n",
      "\n",
      "All the weights of BertForSequenceClassification were initialized from the model checkpoint at llm-book/bert-base-japanese-v3-jsts.\n",
      "If your task is similar to the task the model of the checkpoint was trained on, you can already use BertForSequenceClassification for predictions without further training.\n",
      "loading file https://huggingface.co/llm-book/bert-base-japanese-v3-jsts/resolve/main/vocab.txt from cache at /root/.cache/huggingface/transformers/de4a46250a0d826c89e3d5eda1a03e53c0e6850da10141bc173c2c6d3590566a.e89607f19c59d268d8bab3289700c482c617a74844664e4996544f3e1a647db4\n",
      "loading file https://huggingface.co/llm-book/bert-base-japanese-v3-jsts/resolve/main/added_tokens.json from cache at None\n",
      "loading file https://huggingface.co/llm-book/bert-base-japanese-v3-jsts/resolve/main/special_tokens_map.json from cache at /root/.cache/huggingface/transformers/fe3b790b70c02d23194feffb0e3b089040e1bb0f2511498fa5c21e9e575cb39e.7da70648c6cb9951e284c9685f9ba7ae083dd59ed1d6d84bdfc0584a4ea94b6d\n",
      "loading file https://huggingface.co/llm-book/bert-base-japanese-v3-jsts/resolve/main/tokenizer_config.json from cache at /root/.cache/huggingface/transformers/72f2ac33a229b02a175fad2957ccd5ba762a607fe88ff62ef86c866279a069aa.1cc1cec2ad65ae09974fc6f0181c388a075483da167ceb97c66962c059132409\n"
     ]
    },
    {
     "name": "stdout",
     "output_type": "stream",
     "text": [
      "3.5703558921813965\n"
     ]
    }
   ],
   "source": [
    "### ファインチューニングしたモデルのpipelineを読み込む\n",
    "from transformers import pipeline\n",
    "\n",
    "text_sim_pipeline = pipeline(\n",
    "    model=\"llm-book/bert-base-japanese-v3-jsts\",\n",
    "    function_to_apply=\"none\"\n",
    ")\n",
    "# pipelineを実行\n",
    "text1 = \"川べりでサーフボードを持った人たちがいます\"\n",
    "text2 = \"サーファーたちが川べりに立っています\"\n",
    "print(text_sim_pipeline({\"text\": text1, \"text_pair\": text2})[\"score\"])"
   ]
  },
  {
   "cell_type": "markdown",
   "metadata": {},
   "source": [
    "### 多肢選択式質問応答"
   ]
  },
  {
   "cell_type": "code",
   "execution_count": 1,
   "metadata": {},
   "outputs": [],
   "source": [
    "from transformers.trainer_utils import set_seed\n",
    "\n",
    "# 乱数シードを42に固定\n",
    "set_seed(42)"
   ]
  },
  {
   "cell_type": "markdown",
   "metadata": {},
   "source": [
    "#### データセットの準備"
   ]
  },
  {
   "cell_type": "code",
   "execution_count": 2,
   "metadata": {},
   "outputs": [
    {
     "name": "stdout",
     "output_type": "stream",
     "text": [
      "Downloading and preparing dataset jglue/JCommonsenseQA to /root/.cache/huggingface/datasets/llm-book___jglue/JCommonsenseQA/1.1.0/b394a8dbefe82fb1dc2724c1eb79bb1ea3062df2037f91a69a27c089f3ff685f...\n"
     ]
    },
    {
     "name": "stderr",
     "output_type": "stream",
     "text": [
      "Downloading data: 1.88MB [00:00, 28.0MB/s]                  ]\n",
      "Downloading data: 236kB [00:00, 15.4MB/s]                    .55it/s]\n",
      "Downloading data files: 100%|██████████| 2/2 [00:01<00:00,  1.80it/s]\n",
      "Extracting data files: 100%|██████████| 2/2 [00:00<00:00, 1973.33it/s]\n",
      "                                                                  \r"
     ]
    },
    {
     "name": "stdout",
     "output_type": "stream",
     "text": [
      "Dataset jglue downloaded and prepared to /root/.cache/huggingface/datasets/llm-book___jglue/JCommonsenseQA/1.1.0/b394a8dbefe82fb1dc2724c1eb79bb1ea3062df2037f91a69a27c089f3ff685f. Subsequent calls will reuse this data.\n"
     ]
    },
    {
     "name": "stderr",
     "output_type": "stream",
     "text": [
      "WARNING: Logging before flag parsing goes to stderr.\n",
      "W1111 08:04:20.396098 140136710688768 builder.py:641] Reusing dataset jglue (/root/.cache/huggingface/datasets/llm-book___jglue/JCommonsenseQA/1.1.0/b394a8dbefe82fb1dc2724c1eb79bb1ea3062df2037f91a69a27c089f3ff685f)\n"
     ]
    },
    {
     "name": "stdout",
     "output_type": "stream",
     "text": [
      "{'choice0': '世界',\n",
      " 'choice1': '写真集',\n",
      " 'choice2': '絵本',\n",
      " 'choice3': '論文',\n",
      " 'choice4': '図鑑',\n",
      " 'label': 2,\n",
      " 'q_id': 0,\n",
      " 'question': '主に子ども向けのもので、イラストのついた物語が書かれているものはどれ？'}\n"
     ]
    }
   ],
   "source": [
    "from pprint import pprint\n",
    "from datasets import load_dataset\n",
    "\n",
    "# Hugging Face Hub上のllm-book/JGLUEのリポジトリから\n",
    "# JCommonsenseQAのデータを読み込む\n",
    "train_dataset = load_dataset(\n",
    "    \"llm-book/JGLUE\", name=\"JCommonsenseQA\", split=\"train\"\n",
    ")\n",
    "valid_dataset = load_dataset(\n",
    "    \"llm-book/JGLUE\", name=\"JCommonsenseQA\", split=\"validation\"\n",
    ")\n",
    "# pprintで見やすく表示する\n",
    "pprint(train_dataset[0])"
   ]
  },
  {
   "cell_type": "code",
   "execution_count": 3,
   "metadata": {},
   "outputs": [
    {
     "name": "stdout",
     "output_type": "stream",
     "text": [
      "{'choice0': Value(dtype='string', id=None),\n",
      " 'choice1': Value(dtype='string', id=None),\n",
      " 'choice2': Value(dtype='string', id=None),\n",
      " 'choice3': Value(dtype='string', id=None),\n",
      " 'choice4': Value(dtype='string', id=None),\n",
      " 'label': ClassLabel(num_classes=5,\n",
      "                     names=['choice0',\n",
      "                            'choice1',\n",
      "                            'choice2',\n",
      "                            'choice3',\n",
      "                            'choice4'],\n",
      "                     id=None),\n",
      " 'q_id': Value(dtype='int64', id=None),\n",
      " 'question': Value(dtype='string', id=None)}\n"
     ]
    }
   ],
   "source": [
    "pprint(train_dataset.features)"
   ]
  },
  {
   "cell_type": "markdown",
   "metadata": {},
   "source": [
    "### トークナイザー"
   ]
  },
  {
   "cell_type": "code",
   "execution_count": 5,
   "metadata": {},
   "outputs": [
    {
     "name": "stderr",
     "output_type": "stream",
     "text": [
      "loading file https://huggingface.co/tohoku-nlp/bert-base-japanese-v3/resolve/main/vocab.txt from cache at /root/.cache/huggingface/transformers/c9bc9ea10e626449e8b1e495b7732b9731759975f019624c92aa6360a07c72d7.e89607f19c59d268d8bab3289700c482c617a74844664e4996544f3e1a647db4\n",
      "loading file https://huggingface.co/tohoku-nlp/bert-base-japanese-v3/resolve/main/added_tokens.json from cache at None\n",
      "loading file https://huggingface.co/tohoku-nlp/bert-base-japanese-v3/resolve/main/special_tokens_map.json from cache at None\n",
      "loading file https://huggingface.co/tohoku-nlp/bert-base-japanese-v3/resolve/main/tokenizer_config.json from cache at /root/.cache/huggingface/transformers/8043b59e7a9639c56214adaed095b3cbf0d5092149be4d1f965b6acb30b8d3e1.4808e98b4c322931918efdb7a04a39d4791c7057a124ebb424f0c33b64ff0b04\n"
     ]
    }
   ],
   "source": [
    "from transformers import AutoTokenizer\n",
    "\n",
    "# Hugging Face Hub上のモデル名を指定\n",
    "model_name = \"tohoku-nlp/bert-base-japanese-v3\"\n",
    "# モデル名からトークナイザーを読み込む\n",
    "tokenizer = AutoTokenizer.from_pretrained(model_name)"
   ]
  },
  {
   "cell_type": "markdown",
   "metadata": {},
   "source": [
    "#### データセット統計の可視化"
   ]
  },
  {
   "cell_type": "code",
   "execution_count": 6,
   "metadata": {},
   "outputs": [],
   "source": [
    "from collections import Counter\n",
    "import japanize_matplotlib\n",
    "import matplotlib.pyplot as plt\n",
    "from datasets import Dataset\n",
    "from tqdm import tqdm\n",
    "\n",
    "plt.rcParams[\"font.size\"] = 18\n",
    "\n",
    "def visualize_question_length(dataset: Dataset):\n",
    "    \"\"\"データセット中の質問のトークン数の分布をグラフとして描画\"\"\"\n",
    "    # データセット中の質問の長さを数える\n",
    "    length_counter = Counter()\n",
    "    for data in tqdm(dataset):\n",
    "        length = len(tokenizer.tokenize(data[\"question\"]))\n",
    "        length_counter[length] += 1\n",
    "        \n",
    "    # length_counterの値から棒グラフを描画する\n",
    "    plt.bar(length_counter.keys(), length_counter.values(), width=1.0)\n",
    "    plt.xlabel(\"トークン数\")\n",
    "    plt.ylabel(\"事例数\")\n",
    "    plt.show()"
   ]
  },
  {
   "cell_type": "code",
   "execution_count": 7,
   "metadata": {},
   "outputs": [
    {
     "name": "stderr",
     "output_type": "stream",
     "text": [
      "100%|██████████| 8939/8939 [00:01<00:00, 4863.59it/s]\n"
     ]
    },
    {
     "data": {
      "image/png": "[encoded data removed]",
      "text/plain": [
       "<Figure size 640x480 with 1 Axes>"
      ]
     },
     "metadata": {},
     "output_type": "display_data"
    },
    {
     "name": "stderr",
     "output_type": "stream",
     "text": [
      "100%|██████████| 1119/1119 [00:00<00:00, 5702.40it/s]\n"
     ]
    },
    {
     "data": {
      "image/png": "[encoded data removed]",
      "text/plain": [
       "<Figure size 640x480 with 1 Axes>"
      ]
     },
     "metadata": {},
     "output_type": "display_data"
    }
   ],
   "source": [
    "visualize_question_length(train_dataset)\n",
    "visualize_question_length(valid_dataset)"
   ]
  },
  {
   "cell_type": "code",
   "execution_count": 9,
   "metadata": {},
   "outputs": [
    {
     "name": "stderr",
     "output_type": "stream",
     "text": [
      "100%|██████████| 8939/8939 [00:02<00:00, 3958.81it/s]\n"
     ]
    },
    {
     "data": {
      "image/png": "[encoded data removed]",
      "text/plain": [
       "<Figure size 640x480 with 1 Axes>"
      ]
     },
     "metadata": {},
     "output_type": "display_data"
    },
    {
     "name": "stderr",
     "output_type": "stream",
     "text": [
      "100%|██████████| 1119/1119 [00:00<00:00, 3931.23it/s]\n"
     ]
    },
    {
     "data": {
      "image/png": "[encoded data removed]",
      "text/plain": [
       "<Figure size 640x480 with 1 Axes>"
      ]
     },
     "metadata": {},
     "output_type": "display_data"
    }
   ],
   "source": [
    "def visualize_choice_length(dataset: Dataset):\n",
    "    \"\"\"データセット中の選択肢のトークン数の分布をグラフとして描画\"\"\"\n",
    "    # データセット中の選択肢の長さを数える\n",
    "    length_counter = Counter()\n",
    "    for data in tqdm(dataset):\n",
    "        for i in range(5):\n",
    "            length = len(tokenizer.tokenize(data[f\"choice{i}\"]))\n",
    "            length_counter[length] += 1\n",
    "            \n",
    "    # length_counterの値から棒グラフを描画する\n",
    "    plt.bar(length_counter.keys(), length_counter.values(), width=1.0)\n",
    "    plt.xlabel(\"トークン数\")\n",
    "    plt.ylabel(\"事例数\")\n",
    "    plt.show()\n",
    "    \n",
    "visualize_choice_length(train_dataset)\n",
    "visualize_choice_length(valid_dataset)"
   ]
  },
  {
   "cell_type": "markdown",
   "metadata": {},
   "source": [
    "#### データセットの前処理"
   ]
  },
  {
   "cell_type": "code",
   "execution_count": 14,
   "metadata": {},
   "outputs": [],
   "source": [
    "from transformers import BatchEncoding\n",
    "\n",
    "def preprocess_multiple_choice(\n",
    "    example: dict[str, str]\n",
    ") -> BatchEncoding:\n",
    "    \"\"\"多肢選択肢質問応答の事例をIDに変換\"\"\"\n",
    "    # 選択肢の数を\"choice\"から始まるキーの数として算出\n",
    "    num_choices = sum(\n",
    "        key.startswith(\"choice\") for key in example.keys()\n",
    "    )\n",
    "    \n",
    "    # 質問と選択肢を連結してトークナイザーに渡す\n",
    "    choice_list = [example[f\"choice{i}\"] for i in range(num_choices)]\n",
    "    repeated_question_list = [example[\"question\"]] * num_choices\n",
    "    encoded_example = tokenizer(\n",
    "        repeated_question_list, choice_list, max_length=64\n",
    "    )\n",
    "    \n",
    "    # ラベルが入力に含まれている場合、出力にも追加\n",
    "    if \"label\" in example:\n",
    "        encoded_example[\"labels\"] = example[\"label\"]\n",
    "    return encoded_example"
   ]
  },
  {
   "cell_type": "code",
   "execution_count": 15,
   "metadata": {},
   "outputs": [
    {
     "name": "stdout",
     "output_type": "stream",
     "text": [
      "[CLS] 主に 子ども 向け の もの で 、 イラスト の つい た 物語 が 書か れ て いる もの は どれ? [SEP] 世界 [SEP]\n",
      "[CLS] 主に 子ども 向け の もの で 、 イラスト の つい た 物語 が 書か れ て いる もの は どれ? [SEP] 写真 集 [SEP]\n",
      "[CLS] 主に 子ども 向け の もの で 、 イラスト の つい た 物語 が 書か れ て いる もの は どれ? [SEP] 絵本 [SEP]\n",
      "[CLS] 主に 子ども 向け の もの で 、 イラスト の つい た 物語 が 書か れ て いる もの は どれ? [SEP] 論文 [SEP]\n",
      "[CLS] 主に 子ども 向け の もの で 、 イラスト の つい た 物語 が 書か れ て いる もの は どれ? [SEP] 図鑑 [SEP]\n"
     ]
    }
   ],
   "source": [
    "from transformers import AutoTokenizer\n",
    "\n",
    "example = train_dataset[0]\n",
    "encoded_example = preprocess_multiple_choice(example) # 事例の前処理\n",
    "for choice in range(5):\n",
    "    # IDから元の文字列を復元\n",
    "    print(tokenizer.decode(encoded_example[\"input_ids\"][choice]))"
   ]
  },
  {
   "cell_type": "code",
   "execution_count": 16,
   "metadata": {},
   "outputs": [
    {
     "name": "stderr",
     "output_type": "stream",
     "text": [
      " 46%|████▌     | 4128/8939 [00:03<00:03, 1237.45ex/s]Be aware, overflowing tokens are not returned for the setting you have chosen, i.e. sequence pairs with the 'longest_first' truncation strategy. So the returned list will always be empty even if some tokens have been removed.\n",
      "Be aware, overflowing tokens are not returned for the setting you have chosen, i.e. sequence pairs with the 'longest_first' truncation strategy. So the returned list will always be empty even if some tokens have been removed.\n",
      "100%|██████████| 8939/8939 [00:06<00:00, 1284.73ex/s]\n",
      " 38%|███▊      | 426/1119 [00:00<00:00, 1399.36ex/s]Be aware, overflowing tokens are not returned for the setting you have chosen, i.e. sequence pairs with the 'longest_first' truncation strategy. So the returned list will always be empty even if some tokens have been removed.\n",
      "100%|██████████| 1119/1119 [00:00<00:00, 1323.37ex/s]\n"
     ]
    }
   ],
   "source": [
    "encoded_train_dataset = train_dataset.map(\n",
    "    preprocess_multiple_choice,\n",
    "    remove_columns=train_dataset.column_names,\n",
    ")\n",
    "encoded_valid_dataset = valid_dataset.map(\n",
    "    preprocess_multiple_choice,\n",
    "    remove_columns=valid_dataset.column_names,\n",
    ")"
   ]
  },
  {
   "cell_type": "code",
   "execution_count": 17,
   "metadata": {},
   "outputs": [
    {
     "name": "stdout",
     "output_type": "stream",
     "text": [
      "{'input_ids': [[2, 13182, 16044, 12994, 464, 12518, 457, 384, 14930, 464, 12584, 449, 13360, 430, 14220, 494, 456, 12483, 12518, 465, 19382, 46, 3, 12575, 3], [2, 13182, 16044, 12994, 464, 12518, 457, 384, 14930, 464, 12584, 449, 13360, 430, 14220, 494, 456, 12483, 12518, 465, 19382, 46, 3, 13409, 6460, 3], [2, 13182, 16044, 12994, 464, 12518, 457, 384, 14930, 464, 12584, 449, 13360, 430, 14220, 494, 456, 12483, 12518, 465, 19382, 46, 3, 20647, 3], [2, 13182, 16044, 12994, 464, 12518, 457, 384, 14930, 464, 12584, 449, 13360, 430, 14220, 494, 456, 12483, 12518, 465, 19382, 46, 3, 15252, 3], [2, 13182, 16044, 12994, 464, 12518, 457, 384, 14930, 464, 12584, 449, 13360, 430, 14220, 494, 456, 12483, 12518, 465, 19382, 46, 3, 22929, 3]], 'token_type_ids': [[0, 0, 0, 0, 0, 0, 0, 0, 0, 0, 0, 0, 0, 0, 0, 0, 0, 0, 0, 0, 0, 0, 0, 1, 1], [0, 0, 0, 0, 0, 0, 0, 0, 0, 0, 0, 0, 0, 0, 0, 0, 0, 0, 0, 0, 0, 0, 0, 1, 1, 1], [0, 0, 0, 0, 0, 0, 0, 0, 0, 0, 0, 0, 0, 0, 0, 0, 0, 0, 0, 0, 0, 0, 0, 1, 1], [0, 0, 0, 0, 0, 0, 0, 0, 0, 0, 0, 0, 0, 0, 0, 0, 0, 0, 0, 0, 0, 0, 0, 1, 1], [0, 0, 0, 0, 0, 0, 0, 0, 0, 0, 0, 0, 0, 0, 0, 0, 0, 0, 0, 0, 0, 0, 0, 1, 1]], 'attention_mask': [[1, 1, 1, 1, 1, 1, 1, 1, 1, 1, 1, 1, 1, 1, 1, 1, 1, 1, 1, 1, 1, 1, 1, 1, 1], [1, 1, 1, 1, 1, 1, 1, 1, 1, 1, 1, 1, 1, 1, 1, 1, 1, 1, 1, 1, 1, 1, 1, 1, 1, 1], [1, 1, 1, 1, 1, 1, 1, 1, 1, 1, 1, 1, 1, 1, 1, 1, 1, 1, 1, 1, 1, 1, 1, 1, 1], [1, 1, 1, 1, 1, 1, 1, 1, 1, 1, 1, 1, 1, 1, 1, 1, 1, 1, 1, 1, 1, 1, 1, 1, 1], [1, 1, 1, 1, 1, 1, 1, 1, 1, 1, 1, 1, 1, 1, 1, 1, 1, 1, 1, 1, 1, 1, 1, 1, 1]], 'labels': 2}\n"
     ]
    }
   ],
   "source": [
    "print(encoded_train_dataset[0])"
   ]
  },
  {
   "cell_type": "markdown",
   "metadata": {},
   "source": [
    "### ミニバッチ構築"
   ]
  },
  {
   "cell_type": "code",
   "execution_count": 19,
   "metadata": {},
   "outputs": [],
   "source": [
    "import torch\n",
    "from transformers import BatchEncoding\n",
    "\n",
    "def collate_fn_multiple_choice(\n",
    "    features: list[BatchEncoding],\n",
    ") -> dict[str, torch.Tensor]:\n",
    "    \"\"\"選択肢式質問応答の入力からミニバッチを構築\"\"\"\n",
    "    # preprocess_multiple_choice関数に合わせてラベル名を\"labels\"にする\n",
    "    label_name = \"labels\"\n",
    "    \n",
    "    batch_size = len(features)\n",
    "    num_choices = len(features[0][\"input_ids\"])\n",
    "    \n",
    "    # 選択肢ごとの入力を一つのlistにまとめる\n",
    "    flat_features = []\n",
    "    for feature in features:\n",
    "        flat_features += [\n",
    "            {k: v[i] for k, v in feature.items() if k != label_name}\n",
    "            for i in range(num_choices)\n",
    "        ]\n",
    "        \n",
    "    # 選択肢ごとの入力についてもパディングを行う\n",
    "    flat_batch = tokenizer.pad(flat_features, return_tensors=\"pt\")\n",
    "    \n",
    "    # 元のバッチごとに選択肢ごとの入力をまとめる\n",
    "    # (バッチサイズ * 選択肢数, 最大系列長)の形をしたTensorを、\n",
    "    # (バッチサイズ, 選択肢数, 最大系列長)に変換\n",
    "    batch = {\n",
    "        k: v.view(batch_size, num_choices, -1)\n",
    "        for k, v in flat_batch.items()\n",
    "    }\n",
    "    \n",
    "    # ラベルが入力に含まれている場合、バッチにまとめてTensorに変換\n",
    "    if label_name in features[0]:\n",
    "        labels = [feature[label_name] for feature in features]\n",
    "        batch[\"labels\"] = torch.tensor(labels, dtype=torch.int64)\n",
    "    return batch"
   ]
  },
  {
   "cell_type": "code",
   "execution_count": 20,
   "metadata": {},
   "outputs": [
    {
     "name": "stdout",
     "output_type": "stream",
     "text": [
      "{'attention_mask': torch.Size([4, 5, 40]),\n",
      " 'input_ids': torch.Size([4, 5, 40]),\n",
      " 'labels': torch.Size([4]),\n",
      " 'token_type_ids': torch.Size([4, 5, 40])}\n"
     ]
    }
   ],
   "source": [
    "batch_size = 4\n",
    "encoded_examples = [\n",
    "    preprocess_multiple_choice(train_dataset[i])\n",
    "    for i in range(batch_size)\n",
    "]\n",
    "\n",
    "batch = collate_fn_multiple_choice(encoded_examples)\n",
    "pprint({name: tensor.size() for name, tensor in batch.items()})"
   ]
  },
  {
   "cell_type": "markdown",
   "metadata": {},
   "source": [
    "#### モデルの準備"
   ]
  },
  {
   "cell_type": "code",
   "execution_count": 22,
   "metadata": {},
   "outputs": [
    {
     "name": "stderr",
     "output_type": "stream",
     "text": [
      "loading configuration file https://huggingface.co/tohoku-nlp/bert-base-japanese-v3/resolve/main/config.json from cache at /root/.cache/huggingface/transformers/2c9ec44dde23b6b02ec9f34997dd1595677490da33cc6f7f5931a82fea500ef1.fa452780f4f534fd5a9a500fd6dc0ab2b41b7f3a87fde31e4e439dacbbe6eea3\n",
      "Model config BertConfig {\n",
      "  \"_name_or_path\": \"tohoku-nlp/bert-base-japanese-v3\",\n",
      "  \"architectures\": [\n",
      "    \"BertForPreTraining\"\n",
      "  ],\n",
      "  \"attention_probs_dropout_prob\": 0.1,\n",
      "  \"classifier_dropout\": null,\n",
      "  \"hidden_act\": \"gelu\",\n",
      "  \"hidden_dropout_prob\": 0.1,\n",
      "  \"hidden_size\": 768,\n",
      "  \"id2label\": {\n",
      "    \"0\": \"LABEL_0\",\n",
      "    \"1\": \"LABEL_1\",\n",
      "    \"2\": \"LABEL_2\",\n",
      "    \"3\": \"LABEL_3\",\n",
      "    \"4\": \"LABEL_4\"\n",
      "  },\n",
      "  \"initializer_range\": 0.02,\n",
      "  \"intermediate_size\": 3072,\n",
      "  \"label2id\": {\n",
      "    \"LABEL_0\": 0,\n",
      "    \"LABEL_1\": 1,\n",
      "    \"LABEL_2\": 2,\n",
      "    \"LABEL_3\": 3,\n",
      "    \"LABEL_4\": 4\n",
      "  },\n",
      "  \"layer_norm_eps\": 1e-12,\n",
      "  \"max_position_embeddings\": 512,\n",
      "  \"model_type\": \"bert\",\n",
      "  \"num_attention_heads\": 12,\n",
      "  \"num_hidden_layers\": 12,\n",
      "  \"pad_token_id\": 0,\n",
      "  \"position_embedding_type\": \"absolute\",\n",
      "  \"transformers_version\": \"4.21.2\",\n",
      "  \"type_vocab_size\": 2,\n",
      "  \"use_cache\": true,\n",
      "  \"vocab_size\": 32768\n",
      "}\n",
      "\n",
      "loading weights file https://huggingface.co/tohoku-nlp/bert-base-japanese-v3/resolve/main/pytorch_model.bin from cache at /root/.cache/huggingface/transformers/201a1f23c0452ac363a0cdb3cc22b8c35e0e0919dff8808adf6fc9074a02518a.b69711e2b1dad158d9a7b14bc7bacc1155d9c924a3bcd47d0ba6db6d23ddc0f9\n",
      "Some weights of the model checkpoint at tohoku-nlp/bert-base-japanese-v3 were not used when initializing BertForMultipleChoice: ['cls.predictions.decoder.weight', 'cls.predictions.transform.dense.weight', 'cls.predictions.transform.LayerNorm.bias', 'cls.predictions.transform.dense.bias', 'cls.seq_relationship.bias', 'cls.predictions.bias', 'cls.seq_relationship.weight', 'cls.predictions.transform.LayerNorm.weight', 'cls.predictions.decoder.bias']\n",
      "- This IS expected if you are initializing BertForMultipleChoice from the checkpoint of a model trained on another task or with another architecture (e.g. initializing a BertForSequenceClassification model from a BertForPreTraining model).\n",
      "- This IS NOT expected if you are initializing BertForMultipleChoice from the checkpoint of a model that you expect to be exactly identical (initializing a BertForSequenceClassification model from a BertForSequenceClassification model).\n",
      "Some weights of BertForMultipleChoice were not initialized from the model checkpoint at tohoku-nlp/bert-base-japanese-v3 and are newly initialized: ['classifier.bias', 'classifier.weight']\n",
      "You should probably TRAIN this model on a down-stream task to be able to use it for predictions and inference.\n"
     ]
    }
   ],
   "source": [
    "from transformers import AutoModelForMultipleChoice\n",
    "\n",
    "model = AutoModelForMultipleChoice.from_pretrained(\n",
    "    model_name,\n",
    "    num_labels=train_dataset.features[\"label\"].num_classes,\n",
    ")\n",
    "\n",
    "# パラメータをメモリ上に隣接した形で配置\n",
    "for param in model.parameters():\n",
    "    param.data = param.data.contiguous()"
   ]
  },
  {
   "cell_type": "code",
   "execution_count": 23,
   "metadata": {},
   "outputs": [
    {
     "data": {
      "text/plain": [
       "MultipleChoiceModelOutput(loss=tensor(1.4848, grad_fn=<NllLossBackward0>), logits=tensor([[-0.3795, -0.3648, -0.1021, -0.4802, -0.2815],\n",
       "        [-0.0629,  0.0435, -0.4554, -0.1143, -0.2337],\n",
       "        [-0.5503, -0.5156, -0.6268, -0.5746, -0.5088],\n",
       "        [-0.4857, -0.4155, -0.5902, -0.2060, -0.2705]],\n",
       "       grad_fn=<ViewBackward0>), hidden_states=None, attentions=None)"
      ]
     },
     "execution_count": 23,
     "metadata": {},
     "output_type": "execute_result"
    }
   ],
   "source": [
    "model(**batch)"
   ]
  },
  {
   "cell_type": "markdown",
   "metadata": {},
   "source": [
    "#### 訓練の実行"
   ]
  },
  {
   "cell_type": "code",
   "execution_count": 27,
   "metadata": {},
   "outputs": [
    {
     "name": "stderr",
     "output_type": "stream",
     "text": [
      "PyTorch: setting up devices\n"
     ]
    }
   ],
   "source": [
    "from transformers import TrainingArguments\n",
    "\n",
    "training_args = TrainingArguments(\n",
    "    output_dir=\"../model/output_jcommonsenseqa\",\n",
    "    per_device_train_batch_size=32,\n",
    "    per_device_eval_batch_size=32,\n",
    "    learning_rate=2e-5,\n",
    "    lr_scheduler_type=\"linear\",\n",
    "    warmup_ratio=0.1,\n",
    "    num_train_epochs=3,\n",
    "    save_strategy=\"epoch\",\n",
    "    logging_strategy=\"epoch\",\n",
    "    evaluation_strategy=\"epoch\",\n",
    "    load_best_model_at_end=True,\n",
    "    metric_for_best_model=\"accuracy\",\n",
    "    fp16=True,\n",
    "    report_to=\"none\",\n",
    ")"
   ]
  },
  {
   "cell_type": "code",
   "execution_count": 28,
   "metadata": {},
   "outputs": [],
   "source": [
    "import numpy as np\n",
    "def compute_accuracy(\n",
    "    eval_pred: tuple[np.ndarray, np.ndarray]\n",
    ") -> dict[str, float]:\n",
    "    \"\"\"予測ラベルと正解ラベルから正解率を計算\"\"\"\n",
    "    predictions, labels = eval_pred\n",
    "    # predictionsは各ラベルについてのスコア\n",
    "    # 最もスコアの高いインデックスを予測ラベルとする\n",
    "    predictions = np.argmax(predictions, axis=1)\n",
    "    return {\"accuracy\": (predictions==labels).mean()}"
   ]
  },
  {
   "cell_type": "code",
   "execution_count": 29,
   "metadata": {},
   "outputs": [
    {
     "name": "stderr",
     "output_type": "stream",
     "text": [
      "Using cuda_amp half precision backend\n",
      "/usr/local/lib/python3.10/dist-packages/transformers/optimization.py:306: FutureWarning: This implementation of AdamW is deprecated and will be removed in a future version. Use the PyTorch implementation torch.optim.AdamW instead, or set `no_deprecation_warning=True` to disable this warning\n",
      "  warnings.warn(\n",
      "***** Running training *****\n",
      "  Num examples = 8939\n",
      "  Num Epochs = 3\n",
      "  Instantaneous batch size per device = 32\n",
      "  Total train batch size (w. parallel, distributed & accumulation) = 32\n",
      "  Gradient Accumulation steps = 1\n",
      "  Total optimization steps = 840\n"
     ]
    },
    {
     "data": {
      "text/html": [
       "\n",
       "    <div>\n",
       "      \n",
       "      <progress value='840' max='840' style='width:300px; height:20px; vertical-align: middle;'></progress>\n",
       "      [840/840 02:13, Epoch 3/3]\n",
       "    </div>\n",
       "    <table border=\"1\" class=\"dataframe\">\n",
       "  <thead>\n",
       " <tr style=\"text-align: left;\">\n",
       "      <th>Epoch</th>\n",
       "      <th>Training Loss</th>\n",
       "      <th>Validation Loss</th>\n",
       "      <th>Accuracy</th>\n",
       "    </tr>\n",
       "  </thead>\n",
       "  <tbody>\n",
       "    <tr>\n",
       "      <td>1</td>\n",
       "      <td>0.207300</td>\n",
       "      <td>0.593048</td>\n",
       "      <td>0.835567</td>\n",
       "    </tr>\n",
       "    <tr>\n",
       "      <td>2</td>\n",
       "      <td>0.340900</td>\n",
       "      <td>0.465616</td>\n",
       "      <td>0.835567</td>\n",
       "    </tr>\n",
       "    <tr>\n",
       "      <td>3</td>\n",
       "      <td>0.218400</td>\n",
       "      <td>0.528967</td>\n",
       "      <td>0.833780</td>\n",
       "    </tr>\n",
       "  </tbody>\n",
       "</table><p>"
      ],
      "text/plain": [
       "<IPython.core.display.HTML object>"
      ]
     },
     "metadata": {},
     "output_type": "display_data"
    },
    {
     "name": "stderr",
     "output_type": "stream",
     "text": [
      "***** Running Evaluation *****\n",
      "  Num examples = 1119\n",
      "  Batch size = 32\n",
      "Saving model checkpoint to ../model/output_jcommonsenseqa/checkpoint-280\n",
      "Configuration saved in ../model/output_jcommonsenseqa/checkpoint-280/config.json\n",
      "Model weights saved in ../model/output_jcommonsenseqa/checkpoint-280/pytorch_model.bin\n",
      "***** Running Evaluation *****\n",
      "  Num examples = 1119\n",
      "  Batch size = 32\n",
      "Saving model checkpoint to ../model/output_jcommonsenseqa/checkpoint-560\n",
      "Configuration saved in ../model/output_jcommonsenseqa/checkpoint-560/config.json\n",
      "Model weights saved in ../model/output_jcommonsenseqa/checkpoint-560/pytorch_model.bin\n",
      "***** Running Evaluation *****\n",
      "  Num examples = 1119\n",
      "  Batch size = 32\n",
      "Saving model checkpoint to ../model/output_jcommonsenseqa/checkpoint-840\n",
      "Configuration saved in ../model/output_jcommonsenseqa/checkpoint-840/config.json\n",
      "Model weights saved in ../model/output_jcommonsenseqa/checkpoint-840/pytorch_model.bin\n",
      "\n",
      "\n",
      "Training completed. Do not forget to share your model on huggingface.co/models =)\n",
      "\n",
      "\n",
      "Loading best model from ../model/output_jcommonsenseqa/checkpoint-280 (score: 0.8355674709562109).\n"
     ]
    },
    {
     "data": {
      "text/plain": [
       "TrainOutput(global_step=840, training_loss=0.2555528822399321, metrics={'train_runtime': 134.3812, 'train_samples_per_second': 199.559, 'train_steps_per_second': 6.251, 'total_flos': 2305556727283980.0, 'train_loss': 0.2555528822399321, 'epoch': 3.0})"
      ]
     },
     "execution_count": 29,
     "metadata": {},
     "output_type": "execute_result"
    }
   ],
   "source": [
    "from transformers import Trainer\n",
    "\n",
    "trainer = Trainer(\n",
    "    model=model,\n",
    "     train_dataset=encoded_train_dataset,\n",
    "     eval_dataset=encoded_valid_dataset,\n",
    "     data_collator=collate_fn_multiple_choice,\n",
    "     args=training_args,\n",
    "     compute_metrics=compute_accuracy,\n",
    ")\n",
    "trainer.train()"
   ]
  },
  {
   "cell_type": "code",
   "execution_count": 30,
   "metadata": {},
   "outputs": [
    {
     "name": "stderr",
     "output_type": "stream",
     "text": [
      "***** Running Evaluation *****\n",
      "  Num examples = 1119\n",
      "  Batch size = 32\n"
     ]
    },
    {
     "data": {
      "text/html": [
       "\n",
       "    <div>\n",
       "      \n",
       "      <progress value='35' max='35' style='width:300px; height:20px; vertical-align: middle;'></progress>\n",
       "      [35/35 00:01]\n",
       "    </div>\n",
       "    "
      ],
      "text/plain": [
       "<IPython.core.display.HTML object>"
      ]
     },
     "metadata": {},
     "output_type": "display_data"
    },
    {
     "name": "stdout",
     "output_type": "stream",
     "text": [
      "{'epoch': 3.0,\n",
      " 'eval_accuracy': 0.8355674709562109,\n",
      " 'eval_loss': 0.593048095703125,\n",
      " 'eval_runtime': 1.6528,\n",
      " 'eval_samples_per_second': 677.041,\n",
      " 'eval_steps_per_second': 21.176}\n"
     ]
    }
   ],
   "source": [
    "#### 訓練後のモデル評価\n",
    "eval_metrics = trainer.evaluate(encoded_valid_dataset)\n",
    "pprint(eval_metrics)"
   ]
  },
  {
   "cell_type": "markdown",
   "metadata": {},
   "source": [
    "#### 学習済みモデルの予測結果の取得"
   ]
  },
  {
   "cell_type": "code",
   "execution_count": 31,
   "metadata": {},
   "outputs": [
    {
     "name": "stderr",
     "output_type": "stream",
     "text": [
      "https://huggingface.co/llm-book/bert-base-japanese-v3-jcommonsenseqa/resolve/main/tokenizer_config.json not found in cache or force_download set to True, downloading to /root/.cache/huggingface/transformers/tmpkn93ft68\n",
      "Downloading tokenizer_config.json: 100%|██████████| 617/617 [00:00<00:00, 4.54MB/s]\n",
      "storing https://huggingface.co/llm-book/bert-base-japanese-v3-jcommonsenseqa/resolve/main/tokenizer_config.json in cache at /root/.cache/huggingface/transformers/d5c4c9cae5c426bb714d883fb0f3f4896da9673fa81d8bd02dcb52b0c5dfc2d8.a5f7ab9af9f6a84e4c5714eff652410283ececd3ce47ca1228ea7ee36b2089a2\n",
      "creating metadata file for /root/.cache/huggingface/transformers/d5c4c9cae5c426bb714d883fb0f3f4896da9673fa81d8bd02dcb52b0c5dfc2d8.a5f7ab9af9f6a84e4c5714eff652410283ececd3ce47ca1228ea7ee36b2089a2\n",
      "https://huggingface.co/llm-book/bert-base-japanese-v3-jcommonsenseqa/resolve/main/vocab.txt not found in cache or force_download set to True, downloading to /root/.cache/huggingface/transformers/tmpvfxam4eg\n",
      "Downloading vocab.txt: 100%|██████████| 226k/226k [00:00<00:00, 760kB/s] \n",
      "storing https://huggingface.co/llm-book/bert-base-japanese-v3-jcommonsenseqa/resolve/main/vocab.txt in cache at /root/.cache/huggingface/transformers/b0c3d2f52dae8b9cf4fe9caad7525fe69df024cc3ad0b5ef017b60ed06bdadab.e89607f19c59d268d8bab3289700c482c617a74844664e4996544f3e1a647db4\n",
      "creating metadata file for /root/.cache/huggingface/transformers/b0c3d2f52dae8b9cf4fe9caad7525fe69df024cc3ad0b5ef017b60ed06bdadab.e89607f19c59d268d8bab3289700c482c617a74844664e4996544f3e1a647db4\n",
      "https://huggingface.co/llm-book/bert-base-japanese-v3-jcommonsenseqa/resolve/main/special_tokens_map.json not found in cache or force_download set to True, downloading to /root/.cache/huggingface/transformers/tmpitniij9o\n",
      "Downloading special_tokens_map.json: 100%|██████████| 125/125 [00:00<00:00, 976kB/s]\n",
      "storing https://huggingface.co/llm-book/bert-base-japanese-v3-jcommonsenseqa/resolve/main/special_tokens_map.json in cache at /root/.cache/huggingface/transformers/fd4a975da20aa3cb41df9f95da96c913300ad2715500582fe9ce4f229edecf77.7da70648c6cb9951e284c9685f9ba7ae083dd59ed1d6d84bdfc0584a4ea94b6d\n",
      "creating metadata file for /root/.cache/huggingface/transformers/fd4a975da20aa3cb41df9f95da96c913300ad2715500582fe9ce4f229edecf77.7da70648c6cb9951e284c9685f9ba7ae083dd59ed1d6d84bdfc0584a4ea94b6d\n",
      "loading file https://huggingface.co/llm-book/bert-base-japanese-v3-jcommonsenseqa/resolve/main/vocab.txt from cache at /root/.cache/huggingface/transformers/b0c3d2f52dae8b9cf4fe9caad7525fe69df024cc3ad0b5ef017b60ed06bdadab.e89607f19c59d268d8bab3289700c482c617a74844664e4996544f3e1a647db4\n",
      "loading file https://huggingface.co/llm-book/bert-base-japanese-v3-jcommonsenseqa/resolve/main/added_tokens.json from cache at None\n",
      "loading file https://huggingface.co/llm-book/bert-base-japanese-v3-jcommonsenseqa/resolve/main/special_tokens_map.json from cache at /root/.cache/huggingface/transformers/fd4a975da20aa3cb41df9f95da96c913300ad2715500582fe9ce4f229edecf77.7da70648c6cb9951e284c9685f9ba7ae083dd59ed1d6d84bdfc0584a4ea94b6d\n",
      "loading file https://huggingface.co/llm-book/bert-base-japanese-v3-jcommonsenseqa/resolve/main/tokenizer_config.json from cache at /root/.cache/huggingface/transformers/d5c4c9cae5c426bb714d883fb0f3f4896da9673fa81d8bd02dcb52b0c5dfc2d8.a5f7ab9af9f6a84e4c5714eff652410283ececd3ce47ca1228ea7ee36b2089a2\n",
      "https://huggingface.co/llm-book/bert-base-japanese-v3-jcommonsenseqa/resolve/main/config.json not found in cache or force_download set to True, downloading to /root/.cache/huggingface/transformers/tmpwv2b4ne7\n",
      "Downloading config.json: 100%|██████████| 689/689 [00:00<00:00, 4.33MB/s]\n",
      "storing https://huggingface.co/llm-book/bert-base-japanese-v3-jcommonsenseqa/resolve/main/config.json in cache at /root/.cache/huggingface/transformers/03973372bf31b6d3872b03c470e1da14447c90feca0b100dc302454d3447a4af.5f630d55f0d0f34c8520996a3b1b402eaa1dd610d7ff5c83940ae78d3a885731\n",
      "creating metadata file for /root/.cache/huggingface/transformers/03973372bf31b6d3872b03c470e1da14447c90feca0b100dc302454d3447a4af.5f630d55f0d0f34c8520996a3b1b402eaa1dd610d7ff5c83940ae78d3a885731\n",
      "loading configuration file https://huggingface.co/llm-book/bert-base-japanese-v3-jcommonsenseqa/resolve/main/config.json from cache at /root/.cache/huggingface/transformers/03973372bf31b6d3872b03c470e1da14447c90feca0b100dc302454d3447a4af.5f630d55f0d0f34c8520996a3b1b402eaa1dd610d7ff5c83940ae78d3a885731\n",
      "Model config BertConfig {\n",
      "  \"_name_or_path\": \"llm-book/bert-base-japanese-v3-jcommonsenseqa\",\n",
      "  \"architectures\": [\n",
      "    \"BertForMultipleChoice\"\n",
      "  ],\n",
      "  \"attention_probs_dropout_prob\": 0.1,\n",
      "  \"classifier_dropout\": null,\n",
      "  \"hidden_act\": \"gelu\",\n",
      "  \"hidden_dropout_prob\": 0.1,\n",
      "  \"hidden_size\": 768,\n",
      "  \"initializer_range\": 0.02,\n",
      "  \"intermediate_size\": 3072,\n",
      "  \"layer_norm_eps\": 1e-12,\n",
      "  \"max_position_embeddings\": 512,\n",
      "  \"model_type\": \"bert\",\n",
      "  \"num_attention_heads\": 12,\n",
      "  \"num_hidden_layers\": 12,\n",
      "  \"pad_token_id\": 0,\n",
      "  \"position_embedding_type\": \"absolute\",\n",
      "  \"torch_dtype\": \"float32\",\n",
      "  \"transformers_version\": \"4.21.2\",\n",
      "  \"type_vocab_size\": 2,\n",
      "  \"use_cache\": true,\n",
      "  \"vocab_size\": 32768\n",
      "}\n",
      "\n",
      "https://huggingface.co/llm-book/bert-base-japanese-v3-jcommonsenseqa/resolve/main/pytorch_model.bin not found in cache or force_download set to True, downloading to /root/.cache/huggingface/transformers/tmp_u5jp48v\n",
      "Downloading pytorch_model.bin: 100%|██████████| 424M/424M [00:10<00:00, 44.3MB/s] \n",
      "storing https://huggingface.co/llm-book/bert-base-japanese-v3-jcommonsenseqa/resolve/main/pytorch_model.bin in cache at /root/.cache/huggingface/transformers/53474adbe872013feeb53e6edca9a52f740e10eea1c765d299273504b2ef433d.006e7d51c803e91aeb66788aa567fbc9971aae81726ad37aaaac876009c3d228\n",
      "creating metadata file for /root/.cache/huggingface/transformers/53474adbe872013feeb53e6edca9a52f740e10eea1c765d299273504b2ef433d.006e7d51c803e91aeb66788aa567fbc9971aae81726ad37aaaac876009c3d228\n",
      "loading weights file https://huggingface.co/llm-book/bert-base-japanese-v3-jcommonsenseqa/resolve/main/pytorch_model.bin from cache at /root/.cache/huggingface/transformers/53474adbe872013feeb53e6edca9a52f740e10eea1c765d299273504b2ef433d.006e7d51c803e91aeb66788aa567fbc9971aae81726ad37aaaac876009c3d228\n",
      "All model checkpoint weights were used when initializing BertForMultipleChoice.\n",
      "\n",
      "All the weights of BertForMultipleChoice were initialized from the model checkpoint at llm-book/bert-base-japanese-v3-jcommonsenseqa.\n",
      "If your task is similar to the task the model of the checkpoint was trained on, you can already use BertForMultipleChoice for predictions without further training.\n"
     ]
    }
   ],
   "source": [
    "from transformers import AutoModelForMultipleChoice, AutoTokenizer\n",
    "\n",
    "model_name = \"llm-book/bert-base-japanese-v3-jcommonsenseqa\"\n",
    "tokeniser = AutoTokenizer.from_pretrained(model_name)\n",
    "model = AutoModelForMultipleChoice.from_pretrained(model_name)"
   ]
  },
  {
   "cell_type": "code",
   "execution_count": 32,
   "metadata": {},
   "outputs": [],
   "source": [
    "# 文章分類できるpipelineの定義\n",
    "\n",
    "def pipeline_multiple_choice(\n",
    "    examples: dict[str, str] | list[dict[str, str]]\n",
    ") -> list[dict[str, str]]:\n",
    "    \"\"\"多肢選択式質問応答の事例について予測\"\"\"\n",
    "    # 単一のdict入力が与えられたときに、listに格納する\n",
    "    if isinstance(examples, dict):\n",
    "        examples = [examples]\n",
    "        \n",
    "    # 事例をモデルの入力形式に変換\n",
    "    encoded_examples = [\n",
    "        preprocess_multiple_choice(e) for e in examples\n",
    "    ]\n",
    "    batch = collate_fn_multiple_choice(encoded_examples)\n",
    "    \n",
    "    # モデルが使用するデバイス上（CPU/GPU）にデータを移動\n",
    "    batch = {k: v.to(model.device) for k, v in batch.items()}\n",
    "    \n",
    "    # モデルのforward計算処理\n",
    "    model_output = model.forward(**batch)\n",
    "    \n",
    "    # モデルの出力から、選択肢の文字列と予測確率を得る\n",
    "    predicted_ids = model_output.logits.argmax(dim=-1).tolist()\n",
    "    probs = torch.softmax(model_output.logits, dim=-1)\n",
    "    predictes_probs = [ps[i].item() for ps, i in zip(probs, predicted_ids)]\n",
    "    predictions = [\n",
    "        {\"prediction\": e[f\"choice{i}\"], \"pred_prob\": p}\n",
    "        for e, i, p in zip(examples, predicted_ids, predictes_probs)\n",
    "    ]\n",
    "    \n",
    "    return predictions"
   ]
  },
  {
   "cell_type": "code",
   "execution_count": 33,
   "metadata": {},
   "outputs": [
    {
     "name": "stderr",
     "output_type": "stream",
     "text": [
      "W1111 09:10:36.031617 140136710688768 builder.py:641] Reusing dataset jglue (/root/.cache/huggingface/datasets/llm-book___jglue/JCommonsenseQA/1.1.0/b394a8dbefe82fb1dc2724c1eb79bb1ea3062df2037f91a69a27c089f3ff685f)\n"
     ]
    }
   ],
   "source": [
    "from datasets import load_dataset\n",
    "\n",
    "valid_dataset = load_dataset(\n",
    "    \"llm-book/JGLUE\", name=\"JCommonsenseQA\", split=\"validation\"\n",
    ")"
   ]
  },
  {
   "cell_type": "code",
   "execution_count": 34,
   "metadata": {},
   "outputs": [],
   "source": [
    "model = model.to(\"cuda:0\")"
   ]
  },
  {
   "cell_type": "code",
   "execution_count": 36,
   "metadata": {},
   "outputs": [
    {
     "name": "stderr",
     "output_type": "stream",
     "text": [
      "472it [00:06, 73.16it/s]Be aware, overflowing tokens are not returned for the setting you have chosen, i.e. sequence pairs with the 'longest_first' truncation strategy. So the returned list will always be empty even if some tokens have been removed.\n",
      "1119it [00:15, 72.78it/s]\n"
     ]
    }
   ],
   "source": [
    "from tqdm import tqdm\n",
    "\n",
    "# ラベル名の情報を取得するためのClassLabelインスタンス\n",
    "class_label = valid_dataset.features[\"label\"]\n",
    "\n",
    "results: list[dict[str, float]] = []\n",
    "for i, example in tqdm(enumerate(valid_dataset)):\n",
    "    # モデルの予測結果を格納\n",
    "    model_prediction = pipeline_multiple_choice(example)[0]\n",
    "    # 正解の文字列を取得\n",
    "    true_label = example[\"label\"]\n",
    "    correct_answer = example[f\"choice{true_label}\"]\n",
    "    # resultsに分析に必要な情報を格納\n",
    "    results.append(\n",
    "        {\n",
    "            \"example_id\": i,\n",
    "            \"pred_prob\": model_prediction[\"pred_prob\"],\n",
    "            \"prediction\": model_prediction[\"prediction\"],\n",
    "            \"correct_answer\": correct_answer,\n",
    "        }\n",
    "    )"
   ]
  },
  {
   "cell_type": "markdown",
   "metadata": {},
   "source": [
    "#### エラー分析"
   ]
  },
  {
   "cell_type": "code",
   "execution_count": 37,
   "metadata": {},
   "outputs": [
    {
     "name": "stdout",
     "output_type": "stream",
     "text": [
      "問題: 何かに通るためにチャレンジする事とは？\n",
      "予測: 合格する\n",
      "正解: 受験\n",
      "予測確率: 0.9998\n",
      "---------------\n",
      "問題: 朝に飲む汁物を何と呼ぶ？\n",
      "予測: おかゆ\n",
      "正解: スープ\n",
      "予測確率: 0.9997\n",
      "---------------\n",
      "問題: 夜空に見える一番大きいものは？\n",
      "予測: 星\n",
      "正解: お月様\n",
      "予測確率: 0.9989\n",
      "---------------\n",
      "問題: 芝居を行う建物を何という？\n",
      "予測: スタジオ\n",
      "正解: 演芸場\n",
      "予測確率: 0.9984\n",
      "---------------\n",
      "問題: 場所取りする宴会とは？\n",
      "予測: パーティ\n",
      "正解: 花見\n",
      "予測確率: 0.9971\n",
      "---------------\n",
      "問題: 船舶を安定させる物と同じ発音なのは、どれでしょう？\n",
      "予測: 碇\n",
      "正解: 怒り\n",
      "予測確率: 0.9967\n",
      "---------------\n",
      "問題: そもそも・初めからなどを言い換えると？\n",
      "予測: 終に\n",
      "正解: 元は\n",
      "予測確率: 0.9966\n",
      "---------------\n",
      "問題: 書き物をしたり本を読んだりするための場所はどこ？\n",
      "予測: 書架\n",
      "正解: 机\n",
      "予測確率: 0.9959\n",
      "---------------\n",
      "問題: 脳はどこにある？\n",
      "予測: 頭脳\n",
      "正解: 頭\n",
      "予測確率: 0.9959\n",
      "---------------\n",
      "問題: 今のご時世、感染予防には欠かせない店舗入り口にあるものは？\n",
      "予測: 自動ドア\n",
      "正解: 消毒する\n",
      "予測確率: 0.9942\n",
      "---------------\n"
     ]
    }
   ],
   "source": [
    "# 予測が誤った事例を収集\n",
    "failed_results = [\n",
    "    res for res in results if res[\"prediction\"] != res[\"correct_answer\"]\n",
    "]\n",
    "# モデルの予測確率が高い順にソート\n",
    "sorted_failed_results = sorted(\n",
    "    failed_results, key=lambda x: -x[\"pred_prob\"]\n",
    ")\n",
    "# 高い確率で予測しながら誤った事例の上位を表示\n",
    "for top_result in sorted_failed_results[:10]:\n",
    "    question = valid_dataset[top_result[\"example_id\"]][\"question\"]\n",
    "    \n",
    "    print(f\"問題: {question}\")\n",
    "    \n",
    "    print(f\"予測: {top_result['prediction']}\")\n",
    "    print(f\"正解: {top_result['correct_answer']}\")\n",
    "    print(f\"予測確率: {top_result['pred_prob']:.4f}\")\n",
    "    print(\"---------------\")"
   ]
  },
  {
   "cell_type": "markdown",
   "metadata": {},
   "source": [
    "### 大規模言語モデルのファインチューニング"
   ]
  },
  {
   "cell_type": "markdown",
   "metadata": {},
   "source": [
    "#### メモリ効率の良いファインチューニング"
   ]
  },
  {
   "cell_type": "markdown",
   "metadata": {},
   "source": [
    "#### LoRAチューニング"
   ]
  },
  {
   "cell_type": "code",
   "execution_count": null,
   "metadata": {},
   "outputs": [
    {
     "name": "stdout",
     "output_type": "stream",
     "text": [
      "Looking in indexes: https://pypi.org/simple, https://pypi.ngc.nvidia.com\n",
      "Collecting peft\n",
      "  Downloading peft-0.13.2-py3-none-any.whl (320 kB)\n",
      "\u001b[2K     \u001b[90m━━━━━━━━━━━━━━━━━━━━━━━━━━━━━━━━━━━━━━━\u001b[0m \u001b[32m320.7/320.7 kB\u001b[0m \u001b[31m6.5 MB/s\u001b[0m eta \u001b[36m0:00:00\u001b[0ma \u001b[36m0:00:01\u001b[0m\n",
      "\u001b[?25hRequirement already satisfied: numpy>=1.17 in /usr/local/lib/python3.10/dist-packages (from peft) (1.22.2)\n",
      "Requirement already satisfied: psutil in /usr/local/lib/python3.10/dist-packages (from peft) (5.9.4)\n",
      "Requirement already satisfied: pyyaml in /usr/local/lib/python3.10/dist-packages (from peft) (6.0)\n",
      "Requirement already satisfied: transformers in /usr/local/lib/python3.10/dist-packages (from peft) (4.21.2)\n",
      "Requirement already satisfied: huggingface-hub>=0.17.0 in /usr/local/lib/python3.10/dist-packages (from peft) (0.23.3)\n",
      "Collecting safetensors\n",
      "  Downloading safetensors-0.4.5-cp310-cp310-manylinux_2_17_x86_64.manylinux2014_x86_64.whl (435 kB)\n",
      "\u001b[2K     \u001b[90m━━━━━━━━━━━━━━━━━━━━━━━━━━━━━━━━━━━━━━\u001b[0m \u001b[32m435.0/435.0 kB\u001b[0m \u001b[31m12.0 MB/s\u001b[0m eta \u001b[36m0:00:00\u001b[0ma \u001b[36m0:00:01\u001b[0m\n",
      "\u001b[?25hRequirement already satisfied: tqdm in /usr/local/lib/python3.10/dist-packages (from peft) (4.65.0)\n",
      "Collecting accelerate>=0.21.0\n",
      "  Downloading accelerate-1.1.1-py3-none-any.whl (333 kB)\n",
      "\u001b[2K     \u001b[90m━━━━━━━━━━━━━━━━━━━━━━━━━━━━━━━━━━━━━━\u001b[0m \u001b[32m333.2/333.2 kB\u001b[0m \u001b[31m15.2 MB/s\u001b[0m eta \u001b[36m0:00:00\u001b[0m\n",
      "\u001b[?25hRequirement already satisfied: torch>=1.13.0 in /usr/local/lib/python3.10/dist-packages (from peft) (2.1.0a0+b5021ba)\n",
      "Requirement already satisfied: packaging>=20.0 in /usr/local/lib/python3.10/dist-packages (from peft) (21.3)\n",
      "Requirement already satisfied: requests in /usr/local/lib/python3.10/dist-packages (from huggingface-hub>=0.17.0->peft) (2.31.0)\n",
      "Requirement already satisfied: filelock in /usr/local/lib/python3.10/dist-packages (from huggingface-hub>=0.17.0->peft) (3.12.2)\n",
      "Requirement already satisfied: typing-extensions>=3.7.4.3 in /usr/local/lib/python3.10/dist-packages (from huggingface-hub>=0.17.0->peft) (4.7.0)\n",
      "Requirement already satisfied: fsspec>=2023.5.0 in /usr/local/lib/python3.10/dist-packages (from huggingface-hub>=0.17.0->peft) (2023.6.0)\n",
      "Requirement already satisfied: pyparsing!=3.0.5,>=2.0.2 in /usr/local/lib/python3.10/dist-packages (from packaging>=20.0->peft) (3.0.9)\n",
      "Requirement already satisfied: sympy in /usr/local/lib/python3.10/dist-packages (from torch>=1.13.0->peft) (1.12)\n",
      "Requirement already satisfied: networkx in /usr/local/lib/python3.10/dist-packages (from torch>=1.13.0->peft) (2.6.3)\n",
      "Requirement already satisfied: jinja2 in /usr/local/lib/python3.10/dist-packages (from torch>=1.13.0->peft) (3.1.2)\n",
      "Requirement already satisfied: regex!=2019.12.17 in /usr/local/lib/python3.10/dist-packages (from transformers->peft) (2023.6.3)\n",
      "Requirement already satisfied: tokenizers!=0.11.3,<0.13,>=0.11.1 in /usr/local/lib/python3.10/dist-packages (from transformers->peft) (0.12.1)\n",
      "Requirement already satisfied: MarkupSafe>=2.0 in /usr/local/lib/python3.10/dist-packages (from jinja2->torch>=1.13.0->peft) (2.1.3)\n",
      "Requirement already satisfied: urllib3<3,>=1.21.1 in /usr/local/lib/python3.10/dist-packages (from requests->huggingface-hub>=0.17.0->peft) (1.26.16)\n",
      "Requirement already satisfied: charset-normalizer<4,>=2 in /usr/local/lib/python3.10/dist-packages (from requests->huggingface-hub>=0.17.0->peft) (3.1.0)\n",
      "Requirement already satisfied: idna<4,>=2.5 in /usr/local/lib/python3.10/dist-packages (from requests->huggingface-hub>=0.17.0->peft) (3.4)\n",
      "Requirement already satisfied: certifi>=2017.4.17 in /usr/local/lib/python3.10/dist-packages (from requests->huggingface-hub>=0.17.0->peft) (2023.5.7)\n",
      "Requirement already satisfied: mpmath>=0.19 in /usr/local/lib/python3.10/dist-packages (from sympy->torch>=1.13.0->peft) (1.3.0)\n",
      "Installing collected packages: safetensors, accelerate, peft\n",
      "  Attempting uninstall: accelerate\n",
      "    Found existing installation: accelerate 0.12.0\n",
      "    Uninstalling accelerate-0.12.0:\n",
      "      Successfully uninstalled accelerate-0.12.0\n",
      "Successfully installed accelerate-1.1.1 peft-0.13.2 safetensors-0.4.5\n",
      "\u001b[33mWARNING: Running pip as the 'root' user can result in broken permissions and conflicting behaviour with the system package manager. It is recommended to use a virtual environment instead: https://pip.pypa.io/warnings/venv\u001b[0m\u001b[33m\n",
      "\u001b[0m--- Logging error ---\n",
      "Traceback (most recent call last):\n",
      "  File \"/usr/local/lib/python3.10/dist-packages/pip/_internal/utils/logging.py\", line 177, in emit\n",
      "    self.console.print(renderable, overflow=\"ignore\", crop=False, style=style)\n",
      "  File \"/usr/local/lib/python3.10/dist-packages/pip/_vendor/rich/console.py\", line 1673, in print\n",
      "    extend(render(renderable, render_options))\n",
      "  File \"/usr/local/lib/python3.10/dist-packages/pip/_vendor/rich/console.py\", line 1305, in render\n",
      "    for render_output in iter_render:\n",
      "  File \"/usr/local/lib/python3.10/dist-packages/pip/_internal/utils/logging.py\", line 134, in __rich_console__\n",
      "    for line in lines:\n",
      "  File \"/usr/local/lib/python3.10/dist-packages/pip/_vendor/rich/segment.py\", line 249, in split_lines\n",
      "    for segment in segments:\n",
      "  File \"/usr/local/lib/python3.10/dist-packages/pip/_vendor/rich/console.py\", line 1283, in render\n",
      "    renderable = rich_cast(renderable)\n",
      "  File \"/usr/local/lib/python3.10/dist-packages/pip/_vendor/rich/protocol.py\", line 36, in rich_cast\n",
      "    renderable = cast_method()\n",
      "  File \"/usr/local/lib/python3.10/dist-packages/pip/_internal/self_outdated_check.py\", line 130, in __rich__\n",
      "    pip_cmd = get_best_invocation_for_this_pip()\n",
      "  File \"/usr/local/lib/python3.10/dist-packages/pip/_internal/utils/entrypoints.py\", line 58, in get_best_invocation_for_this_pip\n",
      "    if found_executable and os.path.samefile(\n",
      "  File \"/usr/lib/python3.10/genericpath.py\", line 101, in samefile\n",
      "    s2 = os.stat(f2)\n",
      "FileNotFoundError: [Errno 2] No such file or directory: '/usr/bin/pip'\n",
      "Call stack:\n",
      "  File \"/usr/local/bin/pip\", line 8, in <module>\n",
      "    sys.exit(main())\n",
      "  File \"/usr/local/lib/python3.10/dist-packages/pip/_internal/cli/main.py\", line 70, in main\n",
      "    return command.main(cmd_args)\n",
      "  File \"/usr/local/lib/python3.10/dist-packages/pip/_internal/cli/base_command.py\", line 101, in main\n",
      "    return self._main(args)\n",
      "  File \"/usr/local/lib/python3.10/dist-packages/pip/_internal/cli/base_command.py\", line 223, in _main\n",
      "    self.handle_pip_version_check(options)\n",
      "  File \"/usr/local/lib/python3.10/dist-packages/pip/_internal/cli/req_command.py\", line 190, in handle_pip_version_check\n",
      "    pip_self_version_check(session, options)\n",
      "  File \"/usr/local/lib/python3.10/dist-packages/pip/_internal/self_outdated_check.py\", line 236, in pip_self_version_check\n",
      "    logger.warning(\"[present-rich] %s\", upgrade_prompt)\n",
      "  File \"/usr/lib/python3.10/logging/__init__.py\", line 1489, in warning\n",
      "    self._log(WARNING, msg, args, **kwargs)\n",
      "  File \"/usr/lib/python3.10/logging/__init__.py\", line 1624, in _log\n",
      "    self.handle(record)\n",
      "  File \"/usr/lib/python3.10/logging/__init__.py\", line 1634, in handle\n",
      "    self.callHandlers(record)\n",
      "  File \"/usr/lib/python3.10/logging/__init__.py\", line 1696, in callHandlers\n",
      "    hdlr.handle(record)\n",
      "  File \"/usr/lib/python3.10/logging/__init__.py\", line 968, in handle\n",
      "    self.emit(record)\n",
      "  File \"/usr/local/lib/python3.10/dist-packages/pip/_internal/utils/logging.py\", line 179, in emit\n",
      "    self.handleError(record)\n",
      "Message: '[present-rich] %s'\n",
      "Arguments: (UpgradePrompt(old='22.2.2', new='24.3.1'),)\n"
     ]
    }
   ],
   "source": [
    "# !pip install peft"
   ]
  },
  {
   "cell_type": "code",
   "execution_count": 1,
   "metadata": {},
   "outputs": [
    {
     "name": "stderr",
     "output_type": "stream",
     "text": [
      "/usr/local/lib/python3.10/dist-packages/tqdm/auto.py:21: TqdmWarning: IProgress not found. Please update jupyter and ipywidgets. See https://ipywidgets.readthedocs.io/en/stable/user_install.html\n",
      "  from .autonotebook import tqdm as notebook_tqdm\n"
     ]
    }
   ],
   "source": [
    "# 乱数シードの固定\n",
    "from transformers.trainer_utils import set_seed\n",
    "set_seed(42)"
   ]
  },
  {
   "cell_type": "code",
   "execution_count": 2,
   "metadata": {},
   "outputs": [
    {
     "name": "stderr",
     "output_type": "stream",
     "text": [
      "Using custom data configuration default\n",
      "Reusing dataset wrime-sentiment (/root/.cache/huggingface/datasets/llm-book___wrime-sentiment/default/0.0.0/c49a65171c421f2ae4dd3db82595f499cf0d289ca6780a2aeddf710f22dd8a37)\n",
      "Using custom data configuration default\n",
      "Reusing dataset wrime-sentiment (/root/.cache/huggingface/datasets/llm-book___wrime-sentiment/default/0.0.0/c49a65171c421f2ae4dd3db82595f499cf0d289ca6780a2aeddf710f22dd8a37)\n"
     ]
    },
    {
     "name": "stdout",
     "output_type": "stream",
     "text": [
      "{'datetime': '2012/7/31 23:48',\n",
      " 'label': 1,\n",
      " 'sentence': 'ぼけっとしてたらこんな時間。チャリあるから食べにでたいのに…',\n",
      " 'user_id': 1}\n"
     ]
    }
   ],
   "source": [
    "### データセットの準備\n",
    "from pprint import pprint\n",
    "from datasets import load_dataset\n",
    "\n",
    "# Hugging Face Hub上のリポジトリからデータ読み込み\n",
    "# データを読み込む\n",
    "train_dataset = load_dataset(\"llm-book/wrime-sentiment\", split=\"train\")\n",
    "valid_dataset = load_dataset(\"llm-book/wrime-sentiment\", split=\"validation\")\n",
    "pprint(train_dataset[0])"
   ]
  },
  {
   "cell_type": "code",
   "execution_count": 3,
   "metadata": {},
   "outputs": [
    {
     "name": "stdout",
     "output_type": "stream",
     "text": [
      "{'datetime': Value(dtype='string', id=None),\n",
      " 'label': ClassLabel(num_classes=2, names=['positive', 'negative'], id=None),\n",
      " 'sentence': Value(dtype='string', id=None),\n",
      " 'user_id': Value(dtype='int64', id=None)}\n"
     ]
    }
   ],
   "source": [
    "pprint(train_dataset.features)"
   ]
  },
  {
   "cell_type": "markdown",
   "metadata": {},
   "source": [
    "#### トークナイザ"
   ]
  },
  {
   "cell_type": "code",
   "execution_count": 4,
   "metadata": {},
   "outputs": [
    {
     "name": "stdout",
     "output_type": "stream",
     "text": [
      "BertJapaneseTokenizer\n"
     ]
    }
   ],
   "source": [
    "from transformers import AutoTokenizer\n",
    "\n",
    "# Hugging Face Hub上のモデル名を指定\n",
    "model_name = \"tohoku-nlp/bert-base-japanese-v3\"\n",
    "# モデル名からトークナイザを読み込む\n",
    "tokenizer = AutoTokenizer.from_pretrained(model_name)\n",
    "# トークナイザのクラス名を確認\n",
    "print(type(tokenizer).__name__)"
   ]
  },
  {
   "cell_type": "code",
   "execution_count": 5,
   "metadata": {},
   "outputs": [
    {
     "data": {
      "text/plain": [
       "['これ', 'は', 'テスト', 'です', '。']"
      ]
     },
     "execution_count": 5,
     "metadata": {},
     "output_type": "execute_result"
    }
   ],
   "source": [
    "tokenizer.tokenize(\"これはテストです。\")"
   ]
  },
  {
   "cell_type": "code",
   "execution_count": 6,
   "metadata": {},
   "outputs": [
    {
     "name": "stdout",
     "output_type": "stream",
     "text": [
      "BatchEncoding\n"
     ]
    }
   ],
   "source": [
    "encoded_input = tokenizer(\"これはテストです。\")\n",
    "# 出力されたオブジェクトのクラスを表示\n",
    "print(type(encoded_input).__name__)"
   ]
  },
  {
   "cell_type": "code",
   "execution_count": 7,
   "metadata": {},
   "outputs": [
    {
     "name": "stdout",
     "output_type": "stream",
     "text": [
      "{'attention_mask': [1, 1, 1, 1, 1, 1, 1],\n",
      " 'input_ids': [2, 12538, 465, 14985, 13037, 385, 3],\n",
      " 'token_type_ids': [0, 0, 0, 0, 0, 0, 0]}\n"
     ]
    }
   ],
   "source": [
    "pprint(encoded_input)"
   ]
  },
  {
   "cell_type": "code",
   "execution_count": 8,
   "metadata": {},
   "outputs": [
    {
     "data": {
      "text/plain": [
       "['[CLS]', 'これ', 'は', 'テスト', 'です', '。', '[SEP]']"
      ]
     },
     "execution_count": 8,
     "metadata": {},
     "output_type": "execute_result"
    }
   ],
   "source": [
    "tokenizer.convert_ids_to_tokens(encoded_input[\"input_ids\"])"
   ]
  },
  {
   "cell_type": "markdown",
   "metadata": {},
   "source": [
    "#### データセットの統計可視化"
   ]
  },
  {
   "cell_type": "code",
   "execution_count": 9,
   "metadata": {},
   "outputs": [
    {
     "name": "stderr",
     "output_type": "stream",
     "text": [
      "100%|██████████| 20149/20149 [00:04<00:00, 4968.70it/s]\n"
     ]
    },
    {
     "data": {
      "image/png": "[encoded data removed]",
      "text/plain": [
       "<Figure size 640x480 with 1 Axes>"
      ]
     },
     "metadata": {},
     "output_type": "display_data"
    },
    {
     "name": "stderr",
     "output_type": "stream",
     "text": [
      "100%|██████████| 1608/1608 [00:00<00:00, 4160.41it/s]\n"
     ]
    },
    {
     "data": {
      "image/png": "[encoded data removed]",
      "text/plain": [
       "<Figure size 640x480 with 1 Axes>"
      ]
     },
     "metadata": {},
     "output_type": "display_data"
    }
   ],
   "source": [
    "from collections import Counter\n",
    "import japanize_matplotlib\n",
    "import matplotlib.pyplot as plt\n",
    "from datasets import Dataset\n",
    "from tqdm import tqdm\n",
    "\n",
    "plt.rcParams[\"font.size\"] = 18\n",
    "\n",
    "def visualize_text_length(dataset: Dataset):\n",
    "    \"\"\"データセット中のテキストのトークン数の分布をグラフとして描画\"\"\"\n",
    "    # データセット中のテキストの長さを数える\n",
    "    length_counter = Counter()\n",
    "    for data in tqdm(dataset):\n",
    "        length = len(tokenizer.tokenize(data[\"sentence\"]))\n",
    "        length_counter[length] += 1\n",
    "    # length_counterの値から棒グラフを描画する\n",
    "    plt.bar(length_counter.keys(), length_counter.values(), width=1.0)\n",
    "    plt.xlabel(\"トークン数\")\n",
    "    plt.ylabel(\"事例数\")\n",
    "    plt.show()\n",
    "    \n",
    "visualize_text_length(train_dataset)\n",
    "visualize_text_length(valid_dataset)"
   ]
  },
  {
   "cell_type": "code",
   "execution_count": 10,
   "metadata": {},
   "outputs": [
    {
     "data": {
      "image/png": "[encoded data removed]",
      "text/plain": [
       "<Figure size 640x480 with 1 Axes>"
      ]
     },
     "metadata": {},
     "output_type": "display_data"
    },
    {
     "data": {
      "image/png": "[encoded data removed]",
      "text/plain": [
       "<Figure size 640x480 with 1 Axes>"
      ]
     },
     "metadata": {},
     "output_type": "display_data"
    }
   ],
   "source": [
    "def visualize_labels(dataset: Dataset):\n",
    "    \"\"\"データセット中のラベル分布をグラフとして描画\"\"\"\n",
    "    # データセット中にラベルの数を数える\n",
    "    label_counter = Counter()\n",
    "    for data in dataset:\n",
    "        label_id = data[\"label\"]\n",
    "        label_name = dataset.features[\"label\"].names[label_id]\n",
    "        label_counter[label_name] += 1\n",
    "    # label_counterを棒グラフとして描画する\n",
    "    plt.bar(label_counter.keys(), label_counter.values(), width=1.0)\n",
    "    plt.xlabel(\"ラベル\")\n",
    "    plt.ylabel(\"事例数\")\n",
    "    plt.show()\n",
    "    \n",
    "visualize_labels(train_dataset)\n",
    "visualize_labels(valid_dataset)"
   ]
  },
  {
   "cell_type": "markdown",
   "metadata": {},
   "source": [
    "#### データセットの前処理"
   ]
  },
  {
   "cell_type": "code",
   "execution_count": 11,
   "metadata": {},
   "outputs": [],
   "source": [
    "from transformers import BatchEncoding\n",
    "\n",
    "def preprocess_text_classification(\n",
    "    example: dict[str, str | int]\n",
    ") -> BatchEncoding:\n",
    "    \"\"\"文章分類の事例のテキストをトークナイズし、ID変換\"\"\"\n",
    "    encoded_example = tokenizer(example[\"sentence\"], max_length=512)\n",
    "    # モデルの入力引数である\"labels\"をキーとして格納する\n",
    "    encoded_example[\"labels\"] = example[\"label\"]\n",
    "    return encoded_example"
   ]
  },
  {
   "cell_type": "code",
   "execution_count": 12,
   "metadata": {},
   "outputs": [
    {
     "name": "stderr",
     "output_type": "stream",
     "text": [
      "  0%|          | 0/20149 [00:00<?, ?ex/s]Truncation was not explicitly activated but `max_length` is provided a specific value, please use `truncation=True` to explicitly truncate examples to max length. Defaulting to 'longest_first' truncation strategy. If you encode pairs of sequences (GLUE-style) with the tokenizer you can select this strategy more precisely by providing a specific strategy to `truncation`.\n",
      "100%|██████████| 20149/20149 [00:06<00:00, 3316.25ex/s]\n",
      "100%|██████████| 1608/1608 [00:00<00:00, 2908.25ex/s]\n"
     ]
    }
   ],
   "source": [
    "encoded_train_dataset = train_dataset.map(\n",
    "    preprocess_text_classification,\n",
    "    remove_columns=train_dataset.column_names,\n",
    ")\n",
    "encoded_valid_dataset = valid_dataset.map(\n",
    "    preprocess_text_classification,\n",
    "    remove_columns=valid_dataset.column_names,\n",
    ")"
   ]
  },
  {
   "cell_type": "code",
   "execution_count": 13,
   "metadata": {},
   "outputs": [
    {
     "name": "stdout",
     "output_type": "stream",
     "text": [
      "{'input_ids': [2, 478, 7139, 15269, 441, 456, 13123, 21311, 12671, 385, 12651, 7065, 12485, 12488, 13781, 461, 457, 13030, 464, 461, 29, 29, 29, 3], 'token_type_ids': [0, 0, 0, 0, 0, 0, 0, 0, 0, 0, 0, 0, 0, 0, 0, 0, 0, 0, 0, 0, 0, 0, 0, 0], 'attention_mask': [1, 1, 1, 1, 1, 1, 1, 1, 1, 1, 1, 1, 1, 1, 1, 1, 1, 1, 1, 1, 1, 1, 1, 1], 'labels': 1}\n"
     ]
    }
   ],
   "source": [
    "print(encoded_train_dataset[0])"
   ]
  },
  {
   "cell_type": "markdown",
   "metadata": {},
   "source": [
    "#### ミニバッチ構築"
   ]
  },
  {
   "cell_type": "code",
   "execution_count": 14,
   "metadata": {},
   "outputs": [],
   "source": [
    "from transformers import DataCollatorWithPadding\n",
    "\n",
    "data_collaor = DataCollatorWithPadding(tokenizer=tokenizer)"
   ]
  },
  {
   "cell_type": "code",
   "execution_count": 15,
   "metadata": {},
   "outputs": [
    {
     "name": "stdout",
     "output_type": "stream",
     "text": [
      "{'attention_mask': torch.Size([4, 36]),\n",
      " 'input_ids': torch.Size([4, 36]),\n",
      " 'labels': torch.Size([4]),\n",
      " 'token_type_ids': torch.Size([4, 36])}\n"
     ]
    }
   ],
   "source": [
    "batch_inputs = data_collaor(encoded_train_dataset[0:4])\n",
    "pprint({name: tensor.size() for name, tensor in batch_inputs.items()})"
   ]
  },
  {
   "cell_type": "code",
   "execution_count": 16,
   "metadata": {},
   "outputs": [
    {
     "data": {
      "text/plain": [
       "{'input_ids': tensor([[    2,   478,  7139, 15269,   441,   456, 13123, 21311, 12671,   385,\n",
       "         12651,  7065, 12485, 12488, 13781,   461,   457, 13030,   464,   461,\n",
       "            29,    29,    29,     3,     0,     0,     0,     0,     0,     0,\n",
       "             0,     0,     0,     0,     0,     0],\n",
       "        [    2, 15028,   464,  2806,   484, 30908,   456, 19730,   385,  2724,\n",
       "          7998, 12505,  6483,   430, 14165,   456, 31265,  7106,   460,  7373,\n",
       "           458, 13513,  7241, 13320, 20831,  7951,   385, 12651,  7065, 14176,\n",
       "         13053,   484, 17941, 12494,   385,     3],\n",
       "        [    2,  4097,  7228,   384,  4097,  7203, 12494,   385,     3,     0,\n",
       "             0,     0,     0,     0,     0,     0,     0,     0,     0,     0,\n",
       "             0,     0,     0,     0,     0,     0,     0,     0,     0,     0,\n",
       "             0,     0,     0,     0,     0,     0],\n",
       "        [    2, 19890,  4391,   430, 26297,   456,   431, 16328,   385, 15206,\n",
       "          7228,   460,    29,    29,    29,     3,     0,     0,     0,     0,\n",
       "             0,     0,     0,     0,     0,     0,     0,     0,     0,     0,\n",
       "             0,     0,     0,     0,     0,     0]]), 'token_type_ids': tensor([[0, 0, 0, 0, 0, 0, 0, 0, 0, 0, 0, 0, 0, 0, 0, 0, 0, 0, 0, 0, 0, 0, 0, 0,\n",
       "         0, 0, 0, 0, 0, 0, 0, 0, 0, 0, 0, 0],\n",
       "        [0, 0, 0, 0, 0, 0, 0, 0, 0, 0, 0, 0, 0, 0, 0, 0, 0, 0, 0, 0, 0, 0, 0, 0,\n",
       "         0, 0, 0, 0, 0, 0, 0, 0, 0, 0, 0, 0],\n",
       "        [0, 0, 0, 0, 0, 0, 0, 0, 0, 0, 0, 0, 0, 0, 0, 0, 0, 0, 0, 0, 0, 0, 0, 0,\n",
       "         0, 0, 0, 0, 0, 0, 0, 0, 0, 0, 0, 0],\n",
       "        [0, 0, 0, 0, 0, 0, 0, 0, 0, 0, 0, 0, 0, 0, 0, 0, 0, 0, 0, 0, 0, 0, 0, 0,\n",
       "         0, 0, 0, 0, 0, 0, 0, 0, 0, 0, 0, 0]]), 'attention_mask': tensor([[1, 1, 1, 1, 1, 1, 1, 1, 1, 1, 1, 1, 1, 1, 1, 1, 1, 1, 1, 1, 1, 1, 1, 1,\n",
       "         0, 0, 0, 0, 0, 0, 0, 0, 0, 0, 0, 0],\n",
       "        [1, 1, 1, 1, 1, 1, 1, 1, 1, 1, 1, 1, 1, 1, 1, 1, 1, 1, 1, 1, 1, 1, 1, 1,\n",
       "         1, 1, 1, 1, 1, 1, 1, 1, 1, 1, 1, 1],\n",
       "        [1, 1, 1, 1, 1, 1, 1, 1, 1, 0, 0, 0, 0, 0, 0, 0, 0, 0, 0, 0, 0, 0, 0, 0,\n",
       "         0, 0, 0, 0, 0, 0, 0, 0, 0, 0, 0, 0],\n",
       "        [1, 1, 1, 1, 1, 1, 1, 1, 1, 1, 1, 1, 1, 1, 1, 1, 0, 0, 0, 0, 0, 0, 0, 0,\n",
       "         0, 0, 0, 0, 0, 0, 0, 0, 0, 0, 0, 0]]), 'labels': tensor([1, 0, 1, 1])}"
      ]
     },
     "execution_count": 16,
     "metadata": {},
     "output_type": "execute_result"
    }
   ],
   "source": [
    "batch_inputs"
   ]
  },
  {
   "cell_type": "markdown",
   "metadata": {},
   "source": [
    "#### モデル準備"
   ]
  },
  {
   "cell_type": "code",
   "execution_count": 17,
   "metadata": {},
   "outputs": [
    {
     "name": "stderr",
     "output_type": "stream",
     "text": [
      "/usr/local/lib/python3.10/dist-packages/torchvision/datapoints/__init__.py:12: UserWarning: The torchvision.datapoints and torchvision.transforms.v2 namespaces are still Beta. While we do not expect major breaking changes, some APIs may still change according to user feedback. Please submit any feedback you may have in this issue: https://github.com/pytorch/vision/issues/6753, and you can also check out https://github.com/pytorch/vision/issues/7319 to learn more about the APIs that we suspect might involve future changes. You can silence this warning by calling torchvision.disable_beta_transforms_warning().\n",
      "  warnings.warn(_BETA_TRANSFORMS_WARNING)\n",
      "/usr/local/lib/python3.10/dist-packages/torchvision/transforms/v2/__init__.py:54: UserWarning: The torchvision.datapoints and torchvision.transforms.v2 namespaces are still Beta. While we do not expect major breaking changes, some APIs may still change according to user feedback. Please submit any feedback you may have in this issue: https://github.com/pytorch/vision/issues/6753, and you can also check out https://github.com/pytorch/vision/issues/7319 to learn more about the APIs that we suspect might involve future changes. You can silence this warning by calling torchvision.disable_beta_transforms_warning().\n",
      "  warnings.warn(_BETA_TRANSFORMS_WARNING)\n",
      "/usr/local/lib/python3.10/dist-packages/torch/_utils.py:803: UserWarning: TypedStorage is deprecated. It will be removed in the future and UntypedStorage will be the only storage class. This should only matter to you if you are using storages directly.  To access UntypedStorage directly, use tensor.untyped_storage() instead of tensor.storage()\n",
      "  return self.fget.__get__(instance, owner)()\n",
      "Some weights of BertForSequenceClassification were not initialized from the model checkpoint at tohoku-nlp/bert-base-japanese-v3 and are newly initialized: ['classifier.bias', 'classifier.weight']\n",
      "You should probably TRAIN this model on a down-stream task to be able to use it for predictions and inference.\n"
     ]
    },
    {
     "name": "stdout",
     "output_type": "stream",
     "text": [
      "BertForSequenceClassification\n"
     ]
    }
   ],
   "source": [
    "from transformers import AutoModelForSequenceClassification\n",
    "\n",
    "class_label = train_dataset.features[\"label\"]\n",
    "label2id = {label: id for id, label in enumerate(class_label.names)}\n",
    "id2label = {id: label for id, label in enumerate(class_label.names)}\n",
    "base_model = AutoModelForSequenceClassification.from_pretrained(\n",
    "    model_name,\n",
    "    num_labels=class_label.num_classes,\n",
    "    label2id=label2id, # ラベル名からIDへの対応を指定\n",
    "    id2label=id2label, # IDからラベル名への対応を指定\n",
    ")\n",
    "print(type(base_model).__name__)"
   ]
  },
  {
   "cell_type": "markdown",
   "metadata": {},
   "source": [
    "#### peftを使用したファインチューニング"
   ]
  },
  {
   "cell_type": "code",
   "execution_count": 18,
   "metadata": {},
   "outputs": [
    {
     "name": "stdout",
     "output_type": "stream",
     "text": [
      "PeftModelForSequenceClassification\n"
     ]
    }
   ],
   "source": [
    "import peft \n",
    "\n",
    "petf_config = peft.LoraConfig(\n",
    "    task_type=peft.TaskType.SEQ_CLS, # モデルが解くタスクタイプを指定\n",
    "    r=8, # 差分行列のランク\n",
    "    lora_alpha=32, # LoRA層の出力のスケールを調節するハイパーパラメータ\n",
    "    lora_dropout=0.1, # LoRA層に適用するドロップアウト率\n",
    "    inference_mode=False, # 推論モードの設定（今回は学習時なのでFalse）\n",
    ")\n",
    "model = peft.get_peft_model(base_model, petf_config)\n",
    "print(type(model).__name__)"
   ]
  },
  {
   "cell_type": "code",
   "execution_count": 19,
   "metadata": {},
   "outputs": [],
   "source": [
    "# !pip install --upgrade transformers peft"
   ]
  },
  {
   "cell_type": "code",
   "execution_count": 20,
   "metadata": {},
   "outputs": [
    {
     "name": "stdout",
     "output_type": "stream",
     "text": [
      "trainable params: 296,450 || all params: 111,505,156 || trainable%: 0.2659\n"
     ]
    }
   ],
   "source": [
    "model.print_trainable_parameters()"
   ]
  },
  {
   "cell_type": "code",
   "execution_count": 21,
   "metadata": {},
   "outputs": [
    {
     "name": "stdout",
     "output_type": "stream",
     "text": [
      "SequenceClassifierOutput(loss=tensor(0.8075, grad_fn=<NllLossBackward0>), logits=tensor([[ 0.2869, -0.2644],\n",
      "        [ 0.1715,  0.0095],\n",
      "        [ 0.0040,  0.1524],\n",
      "        [ 0.2233, -0.2968]], grad_fn=<AddmmBackward0>), hidden_states=None, attentions=None)\n"
     ]
    }
   ],
   "source": [
    "print(model.forward(**data_collaor(encoded_train_dataset[0:4])))"
   ]
  },
  {
   "cell_type": "markdown",
   "metadata": {},
   "source": [
    "#### 訓練の実行"
   ]
  },
  {
   "cell_type": "code",
   "execution_count": 24,
   "metadata": {},
   "outputs": [
    {
     "name": "stderr",
     "output_type": "stream",
     "text": [
      "/usr/local/lib/python3.10/dist-packages/transformers/training_args.py:1568: FutureWarning: `evaluation_strategy` is deprecated and will be removed in version 4.46 of 🤗 Transformers. Use `eval_strategy` instead\n",
      "  warnings.warn(\n"
     ]
    }
   ],
   "source": [
    "from transformers import TrainingArguments\n",
    "\n",
    "training_args = TrainingArguments(\n",
    "    output_dir=\"../model/ourput_wrime_lora\",\n",
    "    per_device_train_batch_size=32,\n",
    "    per_device_eval_batch_size=32,\n",
    "    learning_rate=2e-4,\n",
    "    lr_scheduler_type=\"linear\",\n",
    "    warmup_ratio=0.1,\n",
    "    num_train_epochs=3,\n",
    "    save_strategy=\"epoch\",\n",
    "    logging_strategy=\"epoch\",\n",
    "    evaluation_strategy=\"epoch\",\n",
    "    load_best_model_at_end=True,\n",
    "    metric_for_best_model=\"accuracy\",\n",
    "    fp16=True,\n",
    "    report_to=\"none\",\n",
    ")"
   ]
  },
  {
   "cell_type": "code",
   "execution_count": 25,
   "metadata": {},
   "outputs": [],
   "source": [
    "import numpy as np\n",
    "\n",
    "def compute_accuracy(\n",
    "    eval_pred: tuple[np.ndarray, np.ndarray]\n",
    ") -> dict[str, float]:\n",
    "    \"\"\"予測ラベルと正解ラベルから正解率を計算\"\"\"\n",
    "    predictions, labels = eval_pred\n",
    "    # predictionsは各ラベルについてのスコア\n",
    "    # 最もスコアの高いインデックスを予測ラベルとする\n",
    "    predictions = np.argmax(predictions, axis=1)\n",
    "    return {\"accuracy\": (predictions==labels).mean()}"
   ]
  },
  {
   "cell_type": "code",
   "execution_count": 26,
   "metadata": {},
   "outputs": [
    {
     "data": {
      "text/html": [
       "\n",
       "    <div>\n",
       "      \n",
       "      <progress value='1890' max='1890' style='width:300px; height:20px; vertical-align: middle;'></progress>\n",
       "      [1890/1890 02:03, Epoch 3/3]\n",
       "    </div>\n",
       "    <table border=\"1\" class=\"dataframe\">\n",
       "  <thead>\n",
       " <tr style=\"text-align: left;\">\n",
       "      <th>Epoch</th>\n",
       "      <th>Training Loss</th>\n",
       "      <th>Validation Loss</th>\n",
       "      <th>Accuracy</th>\n",
       "    </tr>\n",
       "  </thead>\n",
       "  <tbody>\n",
       "    <tr>\n",
       "      <td>1</td>\n",
       "      <td>0.358600</td>\n",
       "      <td>0.193075</td>\n",
       "      <td>0.930348</td>\n",
       "    </tr>\n",
       "    <tr>\n",
       "      <td>2</td>\n",
       "      <td>0.217800</td>\n",
       "      <td>0.174625</td>\n",
       "      <td>0.936567</td>\n",
       "    </tr>\n",
       "    <tr>\n",
       "      <td>3</td>\n",
       "      <td>0.193000</td>\n",
       "      <td>0.167500</td>\n",
       "      <td>0.933458</td>\n",
       "    </tr>\n",
       "  </tbody>\n",
       "</table><p>"
      ],
      "text/plain": [
       "<IPython.core.display.HTML object>"
      ]
     },
     "metadata": {},
     "output_type": "display_data"
    },
    {
     "data": {
      "text/plain": [
       "TrainOutput(global_step=1890, training_loss=0.25649028152385084, metrics={'train_runtime': 124.1454, 'train_samples_per_second': 486.905, 'train_steps_per_second': 15.224, 'total_flos': 2746353725336040.0, 'train_loss': 0.25649028152385084, 'epoch': 3.0})"
      ]
     },
     "execution_count": 26,
     "metadata": {},
     "output_type": "execute_result"
    }
   ],
   "source": [
    "from transformers import Trainer\n",
    "\n",
    "trainer = Trainer(\n",
    "    model=model,\n",
    "    train_dataset=encoded_train_dataset,\n",
    "    eval_dataset=encoded_valid_dataset,\n",
    "    data_collator=data_collaor,\n",
    "    args=training_args,\n",
    "    compute_metrics=compute_accuracy,\n",
    ")\n",
    "trainer.train()"
   ]
  },
  {
   "cell_type": "markdown",
   "metadata": {},
   "source": [
    "#### 訓練後のモデル評価"
   ]
  },
  {
   "cell_type": "code",
   "execution_count": 27,
   "metadata": {},
   "outputs": [
    {
     "data": {
      "text/html": [
       "\n",
       "    <div>\n",
       "      \n",
       "      <progress value='51' max='51' style='width:300px; height:20px; vertical-align: middle;'></progress>\n",
       "      [51/51 00:01]\n",
       "    </div>\n",
       "    "
      ],
      "text/plain": [
       "<IPython.core.display.HTML object>"
      ]
     },
     "metadata": {},
     "output_type": "display_data"
    },
    {
     "name": "stdout",
     "output_type": "stream",
     "text": [
      "{'epoch': 3.0,\n",
      " 'eval_accuracy': 0.9365671641791045,\n",
      " 'eval_loss': 0.17462477087974548,\n",
      " 'eval_runtime': 1.5665,\n",
      " 'eval_samples_per_second': 1026.507,\n",
      " 'eval_steps_per_second': 32.557}\n"
     ]
    }
   ],
   "source": [
    "# 検証セットでモデルを評価\n",
    "eval_metrics = trainer.evaluate(encoded_valid_dataset)\n",
    "pprint(eval_metrics)"
   ]
  },
  {
   "cell_type": "code",
   "execution_count": null,
   "metadata": {},
   "outputs": [],
   "source": []
  }
 ],
 "metadata": {
  "kernelspec": {
   "display_name": "Python 3",
   "language": "python",
   "name": "python3"
  },
  "language_info": {
   "codemirror_mode": {
    "name": "ipython",
    "version": 3
   },
   "file_extension": ".py",
   "mimetype": "text/x-python",
   "name": "python",
   "nbconvert_exporter": "python",
   "pygments_lexer": "ipython3",
   "version": "3.10.12"
  }
 },
 "nbformat": 4,
 "nbformat_minor": 2
}
