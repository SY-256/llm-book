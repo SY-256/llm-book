{
 "cells": [
  {
   "cell_type": "markdown",
   "metadata": {},
   "source": [
    "## 要約生成"
   ]
  },
  {
   "cell_type": "markdown",
   "metadata": {},
   "source": [
    "### データセット"
   ]
  },
  {
   "cell_type": "markdown",
   "metadata": {},
   "source": [
    "#### データセットのダウンロード"
   ]
  },
  {
   "cell_type": "code",
   "execution_count": 1,
   "metadata": {},
   "outputs": [
    {
     "name": "stderr",
     "output_type": "stream",
     "text": [
      "/usr/local/lib/python3.10/dist-packages/tqdm/auto.py:21: TqdmWarning: IProgress not found. Please update jupyter and ipywidgets. See https://ipywidgets.readthedocs.io/en/stable/user_install.html\n",
      "  from .autonotebook import tqdm as notebook_tqdm\n",
      "Using custom data configuration default\n",
      "Reusing dataset livedoor-news-corpus (/root/.cache/huggingface/datasets/llm-book___livedoor-news-corpus/default/0.0.0/0e68df407299550ef5ff2e77547963ebf3cb31cdf6cb53be6ab1aac47965d5dd)\n",
      "100%|██████████| 3/3 [00:00<00:00, 235.45it/s]\n"
     ]
    }
   ],
   "source": [
    "from datasets import load_dataset\n",
    "\n",
    "# データセットを読み込む\n",
    "dataset = load_dataset(\"llm-book/livedoor-news-corpus\")"
   ]
  },
  {
   "cell_type": "code",
   "execution_count": 2,
   "metadata": {},
   "outputs": [
    {
     "name": "stdout",
     "output_type": "stream",
     "text": [
      "DatasetDict({\n",
      "    train: Dataset({\n",
      "        features: ['url', 'date', 'title', 'content', 'category'],\n",
      "        num_rows: 5893\n",
      "    })\n",
      "    validation: Dataset({\n",
      "        features: ['url', 'date', 'title', 'content', 'category'],\n",
      "        num_rows: 736\n",
      "    })\n",
      "    test: Dataset({\n",
      "        features: ['url', 'date', 'title', 'content', 'category'],\n",
      "        num_rows: 738\n",
      "    })\n",
      "})\n"
     ]
    }
   ],
   "source": [
    "# データセットの形式と事例数を表示する\n",
    "print(dataset)"
   ]
  },
  {
   "cell_type": "code",
   "execution_count": 3,
   "metadata": {},
   "outputs": [
    {
     "name": "stdout",
     "output_type": "stream",
     "text": [
      "[{'category': 'livedoor-homme',\n",
      "  'content': '日常の何気ない気持ちをTwitterにつぶやいたり、実名登録のFacebookで懐かしい友人と再会したり、SNSはもはや我々の生活において欠かせない存在となりつつある。先日、国内の月間利用者数が1,000万人を突破し、mixi（1,520万人、2011年12月現在）を追い抜くのも時間の問題と思われるFacebookでは、診断やゲームなど様々なアプリが生まれ、ユーザーのタイムラインを今日も賑わしている。しかし、その一方で、Facebookを悪用するケースもまた徐々に増え始めている。  '\n",
      "             'Facebookでは、2008年1月にAPIが公開されて以来、様々なアプリが誕生しているが、同年8月にはボット型の不正プログラム「KOOBFACE」が確認され、感染を広げた。その手口とは、「あなたがビデオに出ていますよ！」というメッセージが届き、YouTubeに偽装したURLにアクセスすると、動画再生のためにプログラムのインストールを求められ、不正プログラムをダウンロードさせるというもの。  '\n",
      "             '不正プログラムには、画面に偽の感染警告を表示し、駆除のための偽セキュリティソフトを購入させ、クレジットカード情報などの個人情報を盗むものや、ブラウザでログイン時のアカウント情報を盗むものなどが存在。更に、そのユーザーのFacebookフレンド宛にも不正なメッセージを自動送信することによって、感染規模を拡大していくのだ。  '\n",
      "             '2010年12月にはFacebookの公式アカウントを騙り、不正プログラムをインストールさせようとするスパムメールや、2011年1月にはアカウントの更新に必要として、個人情報を盗むフィッシングサイトを確認。その他にも、可愛らしい女性のプロフィール画像を載せた人物から好意的なメッセージが届き、携帯アドレスへの連絡を求めるスパムメッセージなど、その手口は年々多様化している。  '\n",
      "             'Facebookのみならず、今年1月にはTwitter公式アカウントを騙るフィッシング詐欺サイトも確認され、昨年12月の警察庁による発表では、SNS以外にもフィッシング詐欺で約2,000万円、不正プログラムで約2億8,000万円もの被害が発生している実態が明らかに。そして、3月30日には“なりすまし”等の不正な手段によるID／パスワードなどの取得を禁止し、フィッシング詐欺を取り締まるための不正アクセス禁止法の改正案が成立したばかりだ。  '\n",
      "             'フィッシング詐欺の他にも、アダルトサイト等で「入場」や「年齢確認」などをクリックしただけで“登録”したと一方的に通知し、IPアドレスなどを表示して個人を特定したかのように脅迫、費用を請求するワンクリック詐欺も急増。1月18日には、京都府警サイバー犯罪対策課により、ワンクリック詐欺サイトに関連する不正指令電磁的記録供用事件、通称“ウイルス作成罪”の供用容疑で被疑者6人が逮捕された。  '\n",
      "             '怪しいリンクはクリックしないのが鉄則だが、万が一、ウイルスに感染してしまった場合、立場は被害者から加害者へと一変。ウイルスは、友人や会社にまで感染してしまう可能性があり、“転ばぬ先”のセキュリティソフトは、もはやインターネットを利用する上で最低限のマナーといえるだろう。  '\n",
      "             '各社から発売されているセキュリティソフトの中でも、4年連続で販売本数1位(※1)を記録しているのが、トレンドマイクロの「ウイルスバスター」だ。最新版「ウイルスバスター2012 '\n",
      "             'クラウド」は、商品名にもあるように、パソコン使用中に体感する“重さ”の主な原因(※2)の約80%をクラウドに移行し、圧倒的な軽さを実現。驚異的なスピードで作成される不正プログラムにも、クラウド上で常に更新される最新の脅威情報をリアルタイムで参照して、すばやく対応するから安心だ。  '\n",
      "             '左：ウイルスバスター2012 クラウド ダウンロード3年版（中〜上級者向け） 中：ウイルスバスター2012 クラウド '\n",
      "             '+保険＆PCサポート ダウンロード3年版（初心者向け） 右：ウイルスバスター モバイル for Android '\n",
      "             'ダウンロード1年版（Android端末向け）  '\n",
      "             '新機能として、Facebook、Twitter、mixi利用時にWebサイトを評価し、URLの安全性を色別に表示してくれるので、危険なサイトからユーザーを守ってくれる。パソコン初心者の方には、1日あたりわずか約3.8円(※3)をプラスするだけで、クレジットカード不正使用の保険と、365日深夜24時まで対応のPCサポートが付いてくる。また、ワンクリック詐欺などによる不正請求画面が何度も表示されてお困りの方には、パソコン1台につき7,980円（税込）で不正請求画面を削除するクリーンナップツールを提供してくれるので、被害を未然に防ぐだけでなく、被害に遭ってしまった人にも心強い味方になってくれる。  '\n",
      "             'まずは、30日無料体験版を今すぐインストールして、その“軽快さ”と“安心”を体験して欲しい。4月30日まで、ダウンロード3年版・パッケージ版3年版を購入すると2ヵ月無料延長されるキャンペーンも実施中なので、購入はお早めに。  '\n",
      "             '・livedoor HOMME「ウイルスバスター2012 クラウド」特集ページ  ・おまかせ！不正請求クリーンナップサービス '\n",
      "             '・「ウイルスバスター2012 クラウド」30日無料体験版  '\n",
      "             '※1：全国主要家電量販店等のPOS実売統計で年間（1月〜12月）販売本数第1位のベンダーを表彰するBCN '\n",
      "             'AWARDのセキュリティソフトウェア部門において、トレンドマイクロが2008〜2011年の4年連続で最優秀賞を受賞 '\n",
      "             '※2：ウイルス対策機能の重さの原因＝シグネチャのこと ※3：トレンドマイクロ・オンラインショップのウイルスバスター2012 '\n",
      "             'クラウド＋保険＆PCサポート ダウンロード3年版の金額とウイルスバスター2012 クラウド '\n",
      "             'スタンダード3年版の通常価格を日割換算した場合',\n",
      "  'date': '2012-04-18T09:45:00+0900',\n",
      "  'title': '急成長を遂げるFacebookに忍び寄る影',\n",
      "  'url': 'http://news.livedoor.com/article/detail/6475684/'},\n",
      " {'category': 'it-life-hack',\n",
      "  'content': 'Linuxの人気ディストリビューションであるUbuntu（ウブントゥ）は、使えば使うほど、便利さを実感するものだ。今回は、Ubuntuを起動するUSBメモリーの作成方法について解説しよう。これを持ち歩いていれば、いつでもUSB起動ができるPCから自分のオリジナル環境でUbuntuが起動できる。Windows/Macユーザー問わず、知っておいて損はないだろう。   '\n",
      "             '■CDからの起動ではデータ保存に難点 前回、Ubuntuはどこが便利なのか '\n",
      "             'Windowsトラブル時にデータを救出で、CD/DVDメディアから起動することで、Windowsパーティションのデータを救出する方法について述べた。  '\n",
      "             'Ubuntuは、CD/DVDから起動した状態でも相当のアプリケーションを使うことができる（これについては別の機会に譲りたい）。だが、起動が遅いことと、起動用メディアにはデータを書き込めないため、データの保存には別途、USBメモリなどを利用しなければならないことが難点だ。  '\n",
      "             '■Ubuntuが起動可能なUSBメモリーを作成する '\n",
      "             '実は、Ubuntuには起動用のUSBメモリーを作成する機能がある。起動用のUSBメモリーを作成するには、「スタートアップ・ディスクの作成」というアプリケーションを使う。このアプリを使うには、Ubuntuのデスクトップで左側に並んだランチャーのいちばん上にある［Dashホーム］をクリックする。  '\n",
      "             '「スタートアップ・ディスクの作成」は、CD/DVDから起動した状態でも使えるのだ。  ■保存領域はFAT32などでフォーマット '\n",
      "             'USBメモリーは16GB程度あれば十分。「スタートアップ・ディスクの作成」で、起動用の領域とデータ保存用の領域を分けることができるので、データ保存用に4GB程度を確保しよう。Windows環境からでも読み込めるように、データ保存用の領域はFAT32などでフォーマットしておくこと。これで、起動用のUSBメモリーを作成できる。  '\n",
      "             'このメモリーを用意しておくことで、イザというときにデータを救出できるのはもちろん、外出先で他人のパソコンを借りなければならなくなった場合でも、USBメモリーから起動することで、自分用の環境で使い、データも持ち運びできるわけだ。   '\n",
      "             '■Ubuntu Japanese Team  大島克彦＠katsuosh［digi2（デジ通）］  '\n",
      "             'digi2は「デジタル通」の略です。現在のデジタル機器は使いこなしが難しくなっています。 '\n",
      "             '皆さんがデジタル機器の「通」に近づくための情報を、皆さんよりすこし通な執筆陣が提供します。   '\n",
      "             '■ITライフハックTwitter  ■デジ通の記事をもっと見る ・「Dropbox」のUbuntu版を試す '\n",
      "             'Linuxでも同じ使いこなし！ ・「Ubuntu One」はLinux対応 楽曲ストリーミング対応のクラウド '\n",
      "             '・なぜこんなに面倒なの？\\u3000ネット時代のサービス解約手続き ・デジタルガジェット新製品は？\\u3000'\n",
      "             '6月の大規模展示会複数開催で発表あるか？ ・メモ型クラウドサービス「Droplr」 備忘録やブックマークに使える',\n",
      "  'date': '2012-06-12T13:00:00+0900',\n",
      "  'title': 'いつでもどこでも自分専用環境！\\u3000Ubuntu起動ができるUSBメモリーを作成！【デジ通】',\n",
      "  'url': 'http://news.livedoor.com/article/detail/6649789/'}]\n"
     ]
    }
   ],
   "source": [
    "from pprint import pprint\n",
    "\n",
    "# 訓練セットの最初の2つの事例を表示する\n",
    "pprint(list(dataset[\"train\"])[:2])"
   ]
  },
  {
   "cell_type": "markdown",
   "metadata": {},
   "source": [
    "#### データセットの分析"
   ]
  },
  {
   "cell_type": "code",
   "execution_count": 4,
   "metadata": {},
   "outputs": [
    {
     "name": "stdout",
     "output_type": "stream",
     "text": [
      "[('sports-watch', 731),\n",
      " ('it-life-hack', 718),\n",
      " ('dokujo-tsushin', 695),\n",
      " ('smax', 690),\n",
      " ('movie-enter', 689),\n",
      " ('peachy', 677),\n",
      " ('kaden-channel', 656),\n",
      " ('topic-news', 616),\n",
      " ('livedoor-homme', 421)]\n"
     ]
    }
   ],
   "source": [
    "from collections import Counter\n",
    "\n",
    "# 各カテゴリの事例数を確認する\n",
    "pprint(Counter(dataset[\"train\"][\"category\"]).most_common())"
   ]
  },
  {
   "cell_type": "code",
   "execution_count": 5,
   "metadata": {},
   "outputs": [
    {
     "name": "stdout",
     "output_type": "stream",
     "text": [
      "livedoor-homme: 急成長を遂げるFacebookに忍び寄る影\n",
      "it-life-hack: いつでもどこでも自分専用環境！　Ubuntu起動ができるUSBメモリーを作成！【デジ通】\n",
      "kaden-channel: 「PS Vita」がついに発売　—　初日は待ちわびたファンが行列を作る大盛況【話題】\n",
      "smax: ソニーモバイル、Xperia ionのLTE非対応版「Xperia ion HSPA」を発表\n",
      "peachy: 【終了しました】リムジンでお買い物の後はスイートルームで“うっとろりん”、お姫さまのような1日をプレゼント\n",
      "movie-enter: 有言実行の男、ジュード・ロウが自信作を引っ提げ来日決定\n",
      "dokujo-tsushin: 言いにくい「芸能人の○○みたいにして」の一言\n",
      "sports-watch: 日本代表敗戦、セルジオ越後氏は「ベストメンバーでなければこの程度」\n",
      "topic-news: 「柏木はブタ鼻」嫉妬ややっかみからAKB48で流行るイジメごっこ\n"
     ]
    }
   ],
   "source": [
    "categories = set() # カテゴリの集合\n",
    "for data in dataset[\"train\"]: # 訓練セットの各事例を処理する\n",
    "    category, title = data[\"category\"], data[\"title\"]\n",
    "    # すでに出現しているカテゴリはスキップ\n",
    "    if category not in categories:\n",
    "        categories.add(category)\n",
    "        print(f\"{category}: {title}\")"
   ]
  },
  {
   "cell_type": "code",
   "execution_count": 6,
   "metadata": {},
   "outputs": [],
   "source": [
    "# !pip install japanize-matplotlib"
   ]
  },
  {
   "cell_type": "code",
   "execution_count": 7,
   "metadata": {},
   "outputs": [
    {
     "name": "stderr",
     "output_type": "stream",
     "text": [
      "100%|██████████| 5893/5893 [00:08<00:00, 734.32it/s]\n"
     ]
    },
    {
     "data": {
      "image/png": "[encoded data removed]",
      "text/plain": [
       "<Figure size 640x480 with 1 Axes>"
      ]
     },
     "metadata": {},
     "output_type": "display_data"
    },
    {
     "name": "stderr",
     "output_type": "stream",
     "text": [
      "100%|██████████| 5893/5893 [00:01<00:00, 5349.92it/s]\n"
     ]
    },
    {
     "data": {
      "image/png": "[encoded data removed]",
      "text/plain": [
       "<Figure size 640x480 with 1 Axes>"
      ]
     },
     "metadata": {},
     "output_type": "display_data"
    }
   ],
   "source": [
    "from collections import Counter\n",
    "import matplotlib.pyplot as plt\n",
    "from torch.utils.data import Dataset\n",
    "from tqdm import tqdm\n",
    "from transformers import AutoTokenizer, PreTrainedTokenizer\n",
    "import japanize_matplotlib\n",
    "\n",
    "# フォントサイズ変更\n",
    "plt.rcParams[\"font.size\"] = 18\n",
    "\n",
    "def visualize_num_tokens_distribution(\n",
    "    dataset: Dataset,\n",
    "    tokenizer: PreTrainedTokenizer,\n",
    "    column: str\n",
    ") -> None:\n",
    "    \"\"\"トークン数の分布を可視化\"\"\"\n",
    "    # 各事例でトークン数をカウントし、トークン数毎に結果を集約する\n",
    "    counter = Counter()\n",
    "    for data in tqdm(dataset):\n",
    "        num_tokens = len(tokenizer.tokenize(data[column]))\n",
    "        counter[num_tokens] += 1\n",
    "        \n",
    "    # トークン数の分布を可視化\n",
    "    plt.bar(counter.keys(), counter.values(), width=1.0)\n",
    "    plt.xlabel(\"トークン数\")\n",
    "    plt.ylabel(\"出現頻度\")\n",
    "    plt.gca().yaxis.set_major_locator(plt.MaxNLocator(integer=True))\n",
    "    plt.gca().yaxis.set_major_formatter(plt.FormatStrFormatter(\"%d\"))\n",
    "    plt.show()\n",
    "    \n",
    "# トークナイザを読み込む\n",
    "model_name = \"retrieva-jp/t5-base-long\"\n",
    "tokenizer = AutoTokenizer.from_pretrained(model_name)\n",
    "# 記事のトークン数の分布を可視化する\n",
    "visualize_num_tokens_distribution(\n",
    "    dataset[\"train\"], tokenizer, \"content\"\n",
    ")\n",
    "# 見出しのトークン数の分布を可視化する\n",
    "visualize_num_tokens_distribution(\n",
    "    dataset[\"train\"], tokenizer, \"title\"\n",
    ")"
   ]
  },
  {
   "cell_type": "markdown",
   "metadata": {},
   "source": [
    "### 評価指標"
   ]
  },
  {
   "cell_type": "code",
   "execution_count": 8,
   "metadata": {},
   "outputs": [],
   "source": [
    "# !pip install mecab-python3 rouge-score sacrebleu bert_score"
   ]
  },
  {
   "cell_type": "markdown",
   "metadata": {},
   "source": [
    "#### ROUGE"
   ]
  },
  {
   "cell_type": "code",
   "execution_count": 9,
   "metadata": {},
   "outputs": [],
   "source": [
    "reference = \"日本語T5モデルの公開\"\n",
    "prediction1 = \"T5モデルの日本語版を公開\"\n",
    "prediction2 = \"日本語T5をリリース\"\n",
    "prediction3 = \"Japanese T5を発表\""
   ]
  },
  {
   "cell_type": "code",
   "execution_count": 10,
   "metadata": {},
   "outputs": [
    {
     "name": "stdout",
     "output_type": "stream",
     "text": [
      "参照文: 日本語 T 5 モデル の 公開\n",
      "生成文1: T 5 モデル の 日本語 版 を 公開\n",
      "生成文2: 日本語 T 5 を リリース\n",
      "生成文3: Japanese T 5 を 発表\n"
     ]
    }
   ],
   "source": [
    "import ipadic\n",
    "import MeCab\n",
    "\n",
    "# IPAdicを用いたMeCabを使用して、単語分割を行う\n",
    "tagger = MeCab.Tagger(f\"-O wakati {ipadic.MECAB_ARGS}\")\n",
    "ref_wakati = tagger.parse(reference).strip()\n",
    "pred_wakati1 = tagger.parse(prediction1).strip()\n",
    "pred_wakati2 = tagger.parse(prediction2).strip()\n",
    "pred_wakati3 = tagger.parse(prediction3).strip()\n",
    "print(f\"参照文: {ref_wakati}\")\n",
    "print(f\"生成文1: {pred_wakati1}\")\n",
    "print(f\"生成文2: {pred_wakati2}\")\n",
    "print(f\"生成文3: {pred_wakati3}\")"
   ]
  },
  {
   "cell_type": "code",
   "execution_count": 11,
   "metadata": {},
   "outputs": [
    {
     "data": {
      "text/html": [
       "<div>\n",
       "<style scoped>\n",
       "    .dataframe tbody tr th:only-of-type {\n",
       "        vertical-align: middle;\n",
       "    }\n",
       "\n",
       "    .dataframe tbody tr th {\n",
       "        vertical-align: top;\n",
       "    }\n",
       "\n",
       "    .dataframe thead th {\n",
       "        text-align: right;\n",
       "    }\n",
       "</style>\n",
       "<table border=\"1\" class=\"dataframe\">\n",
       "  <thead>\n",
       "    <tr style=\"text-align: right;\">\n",
       "      <th></th>\n",
       "      <th></th>\n",
       "      <th>rouge1</th>\n",
       "      <th>rouge2</th>\n",
       "      <th>rougeL</th>\n",
       "    </tr>\n",
       "  </thead>\n",
       "  <tbody>\n",
       "    <tr>\n",
       "      <th rowspan=\"3\" valign=\"top\">生成文1</th>\n",
       "      <th>precision</th>\n",
       "      <td>0.750</td>\n",
       "      <td>0.429</td>\n",
       "      <td>0.625</td>\n",
       "    </tr>\n",
       "    <tr>\n",
       "      <th>recall</th>\n",
       "      <td>1.000</td>\n",
       "      <td>0.600</td>\n",
       "      <td>0.833</td>\n",
       "    </tr>\n",
       "    <tr>\n",
       "      <th>fmeasure</th>\n",
       "      <td>0.857</td>\n",
       "      <td>0.500</td>\n",
       "      <td>0.714</td>\n",
       "    </tr>\n",
       "    <tr>\n",
       "      <th rowspan=\"3\" valign=\"top\">生成文2</th>\n",
       "      <th>precision</th>\n",
       "      <td>0.600</td>\n",
       "      <td>0.500</td>\n",
       "      <td>0.600</td>\n",
       "    </tr>\n",
       "    <tr>\n",
       "      <th>recall</th>\n",
       "      <td>0.500</td>\n",
       "      <td>0.400</td>\n",
       "      <td>0.500</td>\n",
       "    </tr>\n",
       "    <tr>\n",
       "      <th>fmeasure</th>\n",
       "      <td>0.545</td>\n",
       "      <td>0.444</td>\n",
       "      <td>0.545</td>\n",
       "    </tr>\n",
       "    <tr>\n",
       "      <th rowspan=\"3\" valign=\"top\">生成文3</th>\n",
       "      <th>precision</th>\n",
       "      <td>0.400</td>\n",
       "      <td>0.250</td>\n",
       "      <td>0.400</td>\n",
       "    </tr>\n",
       "    <tr>\n",
       "      <th>recall</th>\n",
       "      <td>0.333</td>\n",
       "      <td>0.200</td>\n",
       "      <td>0.333</td>\n",
       "    </tr>\n",
       "    <tr>\n",
       "      <th>fmeasure</th>\n",
       "      <td>0.364</td>\n",
       "      <td>0.222</td>\n",
       "      <td>0.364</td>\n",
       "    </tr>\n",
       "  </tbody>\n",
       "</table>\n",
       "</div>"
      ],
      "text/plain": [
       "                rouge1  rouge2  rougeL\n",
       "生成文1 precision   0.750   0.429   0.625\n",
       "     recall      1.000   0.600   0.833\n",
       "     fmeasure    0.857   0.500   0.714\n",
       "生成文2 precision   0.600   0.500   0.600\n",
       "     recall      0.500   0.400   0.500\n",
       "     fmeasure    0.545   0.444   0.545\n",
       "生成文3 precision   0.400   0.250   0.400\n",
       "     recall      0.333   0.200   0.333\n",
       "     fmeasure    0.364   0.222   0.364"
      ]
     },
     "metadata": {},
     "output_type": "display_data"
    }
   ],
   "source": [
    "### ROUGEを算出\n",
    "from collections import defaultdict\n",
    "import pandas as pd\n",
    "from datasets import load_metric\n",
    "\n",
    "# pandasの小数点以下の桁数を設定\n",
    "pd.options.display.precision = 3\n",
    "\n",
    "def convert_words_to_ids(\n",
    "    predictions: list[str],\n",
    "    references: list[str]\n",
    ") -> tuple[list[str], list[str]]:\n",
    "    \"\"\"単語列をID列に変換\"\"\"\n",
    "    # 単語にユニークなIDを割りあてるためのdefaultdictを作成\n",
    "    word2id = defaultdict(lambda: len(word2id))\n",
    "    \n",
    "    # 単語区切りの文字列をID大文字に変換する\n",
    "    pred_ids = [\n",
    "        \" \".join([str(word2id[w]) for w in p.split()])\n",
    "        for p in predictions\n",
    "    ]\n",
    "    ref_ids = [\n",
    "        \" \".join([str(word2id[w]) for w in r.split()])\n",
    "        for r in references\n",
    "    ]\n",
    "    return pred_ids, ref_ids\n",
    "\n",
    "def compute_rouge(\n",
    "    predictions: list[str],\n",
    "    references: list[str]\n",
    ") -> dict[str, dict[str, float]]:\n",
    "    \"\"\"ROUGEを算出\"\"\"\n",
    "    # ROUGEをロードする\n",
    "    rouge = load_metric(\"rouge\")\n",
    "    # 単語列をID列に変換する\n",
    "    pred_ids, ref_ids = convert_words_to_ids(predictions, references)\n",
    "    # 単語ID列を評価対象に加える\n",
    "    rouge.add_batch(predictions=pred_ids, references=ref_ids,)\n",
    "    # ROUGEスコアを計算する\n",
    "    scores = rouge.compute(rouge_types=[\"rouge1\", \"rouge2\", \"rougeL\"])\n",
    "    return {k: v.mid for k,v in scores.items()}\n",
    "\n",
    "# ROUGEを算出した結果を表示する\n",
    "rouge_results = {\n",
    "    \"生成文1\": compute_rouge([pred_wakati1], [ref_wakati]),\n",
    "    \"生成文2\": compute_rouge([pred_wakati2], [ref_wakati]),\n",
    "    \"生成文3\": compute_rouge([pred_wakati3], [ref_wakati])\n",
    "}\n",
    "df_list = [\n",
    "    pd.DataFrame.from_dict(rouge_results[k], orient=\"index\")\n",
    "    for k in rouge_results.keys()\n",
    "]\n",
    "display(pd.concat(df_list, keys=rouge_results.keys(), axis=1).T)"
   ]
  },
  {
   "cell_type": "markdown",
   "metadata": {},
   "source": [
    "### BLEU"
   ]
  },
  {
   "cell_type": "markdown",
   "metadata": {},
   "source": [
    "#### BLEUを算出するための実装"
   ]
  },
  {
   "cell_type": "code",
   "execution_count": 12,
   "metadata": {},
   "outputs": [
    {
     "data": {
      "text/html": [
       "<div>\n",
       "<style scoped>\n",
       "    .dataframe tbody tr th:only-of-type {\n",
       "        vertical-align: middle;\n",
       "    }\n",
       "\n",
       "    .dataframe tbody tr th {\n",
       "        vertical-align: top;\n",
       "    }\n",
       "\n",
       "    .dataframe thead th {\n",
       "        text-align: right;\n",
       "    }\n",
       "</style>\n",
       "<table border=\"1\" class=\"dataframe\">\n",
       "  <thead>\n",
       "    <tr style=\"text-align: right;\">\n",
       "      <th></th>\n",
       "      <th>score</th>\n",
       "      <th>counts</th>\n",
       "      <th>totals</th>\n",
       "      <th>precisions</th>\n",
       "      <th>bp</th>\n",
       "      <th>sys_len</th>\n",
       "      <th>ref_len</th>\n",
       "    </tr>\n",
       "  </thead>\n",
       "  <tbody>\n",
       "    <tr>\n",
       "      <th>生成文1</th>\n",
       "      <td>38.26</td>\n",
       "      <td>[6, 3, 2, 1]</td>\n",
       "      <td>[8, 7, 6, 5]</td>\n",
       "      <td>[75.0, 42.86, 33.33, 20.0]</td>\n",
       "      <td>1.0</td>\n",
       "      <td>8</td>\n",
       "      <td>6</td>\n",
       "    </tr>\n",
       "    <tr>\n",
       "      <th>生成文2</th>\n",
       "      <td>32.556</td>\n",
       "      <td>[3, 2, 1, 0]</td>\n",
       "      <td>[5, 4, 3, 2]</td>\n",
       "      <td>[60.0, 50.0, 33.33, 25.0]</td>\n",
       "      <td>0.819</td>\n",
       "      <td>5</td>\n",
       "      <td>6</td>\n",
       "    </tr>\n",
       "    <tr>\n",
       "      <th>生成文3</th>\n",
       "      <td>17.492</td>\n",
       "      <td>[2, 1, 0, 0]</td>\n",
       "      <td>[5, 4, 3, 2]</td>\n",
       "      <td>[40.0, 25.0, 16.67, 12.5]</td>\n",
       "      <td>0.819</td>\n",
       "      <td>5</td>\n",
       "      <td>6</td>\n",
       "    </tr>\n",
       "  </tbody>\n",
       "</table>\n",
       "</div>"
      ],
      "text/plain": [
       "       score        counts        totals                  precisions     bp  \\\n",
       "生成文1   38.26  [6, 3, 2, 1]  [8, 7, 6, 5]  [75.0, 42.86, 33.33, 20.0]    1.0   \n",
       "生成文2  32.556  [3, 2, 1, 0]  [5, 4, 3, 2]   [60.0, 50.0, 33.33, 25.0]  0.819   \n",
       "生成文3  17.492  [2, 1, 0, 0]  [5, 4, 3, 2]   [40.0, 25.0, 16.67, 12.5]  0.819   \n",
       "\n",
       "     sys_len ref_len  \n",
       "生成文1       8       6  \n",
       "生成文2       5       6  \n",
       "生成文3       5       6  "
      ]
     },
     "metadata": {},
     "output_type": "display_data"
    }
   ],
   "source": [
    "def compute_bleu(\n",
    "    predictions: list[str],\n",
    "    references: list[str]\n",
    ") -> dict[str, int | float | list[float]]:\n",
    "    \"\"\"BLUEを算出\"\"\"\n",
    "    bleu = load_metric(\"sacrebleu\")\n",
    "    # 単語列を評価対象に追加\n",
    "    bleu.add_batch(predictions=predictions, references=references)\n",
    "    # BLEUを計算する\n",
    "    results = bleu.compute()\n",
    "    results[\"precisions\"] = [\n",
    "        round(p, 2) for p in results[\"precisions\"]\n",
    "    ]\n",
    "    return results\n",
    "\n",
    "# BLEUを算出した結果を表示する\n",
    "bleu_results = {\n",
    "    \"生成文1\": compute_bleu([pred_wakati1], [[ref_wakati]]),\n",
    "    \"生成文2\": compute_bleu([pred_wakati2], [[ref_wakati]]),\n",
    "    \"生成文3\": compute_bleu([pred_wakati3], [[ref_wakati]]),\n",
    "}\n",
    "df_list = [\n",
    "    pd.DataFrame.from_dict(bleu_results[k], orient=\"index\")[0]\n",
    "    for k in bleu_results.keys()\n",
    "]\n",
    "display(pd.concat(df_list, keys=bleu_results.keys(), axis=1).T)"
   ]
  },
  {
   "cell_type": "markdown",
   "metadata": {},
   "source": [
    "#### BERTScore"
   ]
  },
  {
   "cell_type": "code",
   "execution_count": 13,
   "metadata": {},
   "outputs": [
    {
     "name": "stderr",
     "output_type": "stream",
     "text": [
      "Some weights of the model checkpoint at bert-base-multilingual-cased were not used when initializing BertModel: ['cls.predictions.decoder.weight', 'cls.predictions.transform.LayerNorm.weight', 'cls.seq_relationship.weight', 'cls.predictions.transform.dense.bias', 'cls.predictions.transform.LayerNorm.bias', 'cls.predictions.bias', 'cls.predictions.transform.dense.weight', 'cls.seq_relationship.bias']\n",
      "- This IS expected if you are initializing BertModel from the checkpoint of a model trained on another task or with another architecture (e.g. initializing a BertForSequenceClassification model from a BertForPreTraining model).\n",
      "- This IS NOT expected if you are initializing BertModel from the checkpoint of a model that you expect to be exactly identical (initializing a BertForSequenceClassification model from a BertForSequenceClassification model).\n"
     ]
    },
    {
     "data": {
      "image/png": "[encoded data removed]",
      "text/plain": [
       "<Figure size 1000x600 with 2 Axes>"
      ]
     },
     "metadata": {},
     "output_type": "display_data"
    }
   ],
   "source": [
    "from bert_score import plot_example\n",
    "\n",
    "# 生成文3と参照文の類似度行列を作成する\n",
    "plot_example(prediction3, reference, lang=\"ja\")"
   ]
  },
  {
   "cell_type": "markdown",
   "metadata": {},
   "source": [
    "#### BERTScoreを算出するための実装"
   ]
  },
  {
   "cell_type": "code",
   "execution_count": 14,
   "metadata": {},
   "outputs": [
    {
     "data": {
      "text/html": [
       "<div>\n",
       "<style scoped>\n",
       "    .dataframe tbody tr th:only-of-type {\n",
       "        vertical-align: middle;\n",
       "    }\n",
       "\n",
       "    .dataframe tbody tr th {\n",
       "        vertical-align: top;\n",
       "    }\n",
       "\n",
       "    .dataframe thead th {\n",
       "        text-align: right;\n",
       "    }\n",
       "</style>\n",
       "<table border=\"1\" class=\"dataframe\">\n",
       "  <thead>\n",
       "    <tr style=\"text-align: right;\">\n",
       "      <th></th>\n",
       "      <th>precision</th>\n",
       "      <th>recall</th>\n",
       "      <th>f1</th>\n",
       "    </tr>\n",
       "  </thead>\n",
       "  <tbody>\n",
       "    <tr>\n",
       "      <th>生成文1</th>\n",
       "      <td>0.877</td>\n",
       "      <td>0.903</td>\n",
       "      <td>0.890</td>\n",
       "    </tr>\n",
       "    <tr>\n",
       "      <th>生成文2</th>\n",
       "      <td>0.879</td>\n",
       "      <td>0.824</td>\n",
       "      <td>0.850</td>\n",
       "    </tr>\n",
       "    <tr>\n",
       "      <th>生成文3</th>\n",
       "      <td>0.834</td>\n",
       "      <td>0.785</td>\n",
       "      <td>0.809</td>\n",
       "    </tr>\n",
       "  </tbody>\n",
       "</table>\n",
       "</div>"
      ],
      "text/plain": [
       "      precision  recall     f1\n",
       "生成文1      0.877   0.903  0.890\n",
       "生成文2      0.879   0.824  0.850\n",
       "生成文3      0.834   0.785  0.809"
      ]
     },
     "metadata": {},
     "output_type": "display_data"
    }
   ],
   "source": [
    "def compute_bertscore(\n",
    "    predictions: list[str],\n",
    "    references: list[str]\n",
    ") -> dict[str, float]:\n",
    "    \"\"\"BERTScoreを算出\"\"\"\n",
    "    # BERTScoreをロードする\n",
    "    bertscore = load_metric(\"bertscore\")\n",
    "    # 文字列を評価対象に加える\n",
    "    bertscore.add_batch(\n",
    "        predictions=predictions,\n",
    "        references=references\n",
    "    )\n",
    "    # BERTScoreを計算\n",
    "    results = bertscore.compute(lang=\"ja\")\n",
    "    return {\n",
    "        k: sum(v) / len(v)\n",
    "        for k,v in results.items()\n",
    "        if k != \"hashcode\"\n",
    "    }\n",
    "    \n",
    "# BERTScoreを算出した結果を表示する\n",
    "bertscore_results = {\n",
    "    \"生成文1\": compute_bertscore([prediction1], [reference]),\n",
    "    \"生成文2\": compute_bertscore([prediction2], [reference]),\n",
    "    \"生成文3\": compute_bertscore([prediction3], [reference]),\n",
    "}\n",
    "df_list = [\n",
    "    pd.DataFrame.from_dict(bertscore_results[k], orient=\"index\")[0]\n",
    "    for k in bertscore_results.keys()\n",
    "]\n",
    "display(pd.concat(df_list, keys=bertscore_results.keys(), axis=1).T)"
   ]
  },
  {
   "cell_type": "markdown",
   "metadata": {},
   "source": [
    "### 見出し生成モデルの実装"
   ]
  },
  {
   "cell_type": "markdown",
   "metadata": {},
   "source": [
    "#### T5のファインチューニング"
   ]
  },
  {
   "cell_type": "markdown",
   "metadata": {},
   "source": [
    "#### データセットの前処理"
   ]
  },
  {
   "cell_type": "code",
   "execution_count": 15,
   "metadata": {},
   "outputs": [
    {
     "name": "stderr",
     "output_type": "stream",
     "text": [
      "100%|██████████| 5893/5893 [00:09<00:00, 632.00ex/s]\n",
      "100%|██████████| 736/736 [00:01<00:00, 632.36ex/s]\n"
     ]
    }
   ],
   "source": [
    "from typing import Any\n",
    "from transformers import BatchEncoding, PreTrainedTokenizer\n",
    "\n",
    "def preprocess_data(\n",
    "    data: dict[str, Any],\n",
    "    tokenizer: PreTrainedTokenizer\n",
    ") -> BatchEncoding:\n",
    "    \"\"\"データの前処理\"\"\"\n",
    "    # 記事のトークナイゼーションを行う\n",
    "    inputs = tokenizer(\n",
    "        data[\"content\"], max_length=512, truncation=True\n",
    "    )\n",
    "    # 見出しのトークナイゼーションを行う\n",
    "    # 見出しはトークンIDのみ使用する\n",
    "    inputs[\"labels\"] = tokenizer(\n",
    "        data[\"title\"], max_length=128, truncation=True\n",
    "    )[\"input_ids\"]\n",
    "    return inputs\n",
    "\n",
    "# 訓練セットに対して前処理を行う\n",
    "train_dataset = dataset[\"train\"].map(\n",
    "    preprocess_data,\n",
    "    fn_kwargs={\"tokenizer\": tokenizer},\n",
    "    remove_columns=dataset[\"train\"].column_names,\n",
    ")\n",
    "# 検証セットに対して前処理を行う\n",
    "validation_dataset = dataset[\"validation\"].map(\n",
    "    preprocess_data,\n",
    "    fn_kwargs={\"tokenizer\": tokenizer},\n",
    "    remove_columns=dataset[\"validation\"].column_names,\n",
    ")"
   ]
  },
  {
   "cell_type": "markdown",
   "metadata": {},
   "source": [
    "#### モデルのファインチューニング"
   ]
  },
  {
   "cell_type": "code",
   "execution_count": 16,
   "metadata": {},
   "outputs": [
    {
     "name": "stderr",
     "output_type": "stream",
     "text": [
      "Downloading config.json: 100%|██████████| 791/791 [00:00<00:00, 4.48MB/s]\n",
      "Downloading pytorch_model.bin: 100%|██████████| 945M/945M [00:28<00:00, 35.3MB/s] \n"
     ]
    }
   ],
   "source": [
    "from transformers import AutoModelForSeq2SeqLM, DataCollatorForSeq2Seq\n",
    "\n",
    "# モデルを読み込む\n",
    "model = AutoModelForSeq2SeqLM.from_pretrained(model_name)\n",
    "# collate関数にDataCollatorForSeq2Seqを用いる\n",
    "data_collator = DataCollatorForSeq2Seq(tokenizer, model=model)"
   ]
  },
  {
   "cell_type": "code",
   "execution_count": 17,
   "metadata": {},
   "outputs": [
    {
     "name": "stderr",
     "output_type": "stream",
     "text": [
      "PyTorch: setting up devices\n",
      "/usr/local/lib/python3.10/dist-packages/transformers/optimization.py:306: FutureWarning: This implementation of AdamW is deprecated and will be removed in a future version. Use the PyTorch implementation torch.optim.AdamW instead, or set `no_deprecation_warning=True` to disable this warning\n",
      "  warnings.warn(\n",
      "***** Running training *****\n",
      "  Num examples = 5893\n",
      "  Num Epochs = 5\n",
      "  Instantaneous batch size per device = 16\n",
      "  Total train batch size (w. parallel, distributed & accumulation) = 16\n",
      "  Gradient Accumulation steps = 1\n",
      "  Total optimization steps = 1845\n"
     ]
    },
    {
     "data": {
      "text/html": [
       "\n",
       "    <div>\n",
       "      \n",
       "      <progress value='1845' max='1845' style='width:300px; height:20px; vertical-align: middle;'></progress>\n",
       "      [1845/1845 18:03, Epoch 5/5]\n",
       "    </div>\n",
       "    <table border=\"1\" class=\"dataframe\">\n",
       "  <thead>\n",
       " <tr style=\"text-align: left;\">\n",
       "      <th>Epoch</th>\n",
       "      <th>Training Loss</th>\n",
       "      <th>Validation Loss</th>\n",
       "    </tr>\n",
       "  </thead>\n",
       "  <tbody>\n",
       "    <tr>\n",
       "      <td>1</td>\n",
       "      <td>4.278700</td>\n",
       "      <td>2.040095</td>\n",
       "    </tr>\n",
       "    <tr>\n",
       "      <td>2</td>\n",
       "      <td>2.399800</td>\n",
       "      <td>1.925279</td>\n",
       "    </tr>\n",
       "    <tr>\n",
       "      <td>3</td>\n",
       "      <td>2.170300</td>\n",
       "      <td>1.881035</td>\n",
       "    </tr>\n",
       "    <tr>\n",
       "      <td>4</td>\n",
       "      <td>2.042600</td>\n",
       "      <td>1.871904</td>\n",
       "    </tr>\n",
       "    <tr>\n",
       "      <td>5</td>\n",
       "      <td>1.972300</td>\n",
       "      <td>1.872137</td>\n",
       "    </tr>\n",
       "  </tbody>\n",
       "</table><p>"
      ],
      "text/plain": [
       "<IPython.core.display.HTML object>"
      ]
     },
     "metadata": {},
     "output_type": "display_data"
    },
    {
     "name": "stderr",
     "output_type": "stream",
     "text": [
      "***** Running Evaluation *****\n",
      "  Num examples = 736\n",
      "  Batch size = 16\n",
      "Saving model checkpoint to ../model/output_t5_summarization/checkpoint-369\n",
      "Configuration saved in ../model/output_t5_summarization/checkpoint-369/config.json\n",
      "Model weights saved in ../model/output_t5_summarization/checkpoint-369/pytorch_model.bin\n",
      "tokenizer config file saved in ../model/output_t5_summarization/checkpoint-369/tokenizer_config.json\n",
      "Special tokens file saved in ../model/output_t5_summarization/checkpoint-369/special_tokens_map.json\n",
      "Copy vocab file to ../model/output_t5_summarization/checkpoint-369/spiece.model\n",
      "***** Running Evaluation *****\n",
      "  Num examples = 736\n",
      "  Batch size = 16\n",
      "Saving model checkpoint to ../model/output_t5_summarization/checkpoint-738\n",
      "Configuration saved in ../model/output_t5_summarization/checkpoint-738/config.json\n",
      "Model weights saved in ../model/output_t5_summarization/checkpoint-738/pytorch_model.bin\n",
      "tokenizer config file saved in ../model/output_t5_summarization/checkpoint-738/tokenizer_config.json\n",
      "Special tokens file saved in ../model/output_t5_summarization/checkpoint-738/special_tokens_map.json\n",
      "Copy vocab file to ../model/output_t5_summarization/checkpoint-738/spiece.model\n",
      "***** Running Evaluation *****\n",
      "  Num examples = 736\n",
      "  Batch size = 16\n",
      "Saving model checkpoint to ../model/output_t5_summarization/checkpoint-1107\n",
      "Configuration saved in ../model/output_t5_summarization/checkpoint-1107/config.json\n",
      "Model weights saved in ../model/output_t5_summarization/checkpoint-1107/pytorch_model.bin\n",
      "tokenizer config file saved in ../model/output_t5_summarization/checkpoint-1107/tokenizer_config.json\n",
      "Special tokens file saved in ../model/output_t5_summarization/checkpoint-1107/special_tokens_map.json\n",
      "Copy vocab file to ../model/output_t5_summarization/checkpoint-1107/spiece.model\n",
      "***** Running Evaluation *****\n",
      "  Num examples = 736\n",
      "  Batch size = 16\n",
      "Saving model checkpoint to ../model/output_t5_summarization/checkpoint-1476\n",
      "Configuration saved in ../model/output_t5_summarization/checkpoint-1476/config.json\n",
      "Model weights saved in ../model/output_t5_summarization/checkpoint-1476/pytorch_model.bin\n",
      "tokenizer config file saved in ../model/output_t5_summarization/checkpoint-1476/tokenizer_config.json\n",
      "Special tokens file saved in ../model/output_t5_summarization/checkpoint-1476/special_tokens_map.json\n",
      "Copy vocab file to ../model/output_t5_summarization/checkpoint-1476/spiece.model\n",
      "***** Running Evaluation *****\n",
      "  Num examples = 736\n",
      "  Batch size = 16\n",
      "Saving model checkpoint to ../model/output_t5_summarization/checkpoint-1845\n",
      "Configuration saved in ../model/output_t5_summarization/checkpoint-1845/config.json\n",
      "Model weights saved in ../model/output_t5_summarization/checkpoint-1845/pytorch_model.bin\n",
      "tokenizer config file saved in ../model/output_t5_summarization/checkpoint-1845/tokenizer_config.json\n",
      "Special tokens file saved in ../model/output_t5_summarization/checkpoint-1845/special_tokens_map.json\n",
      "Copy vocab file to ../model/output_t5_summarization/checkpoint-1845/spiece.model\n",
      "\n",
      "\n",
      "Training completed. Do not forget to share your model on huggingface.co/models =)\n",
      "\n",
      "\n",
      "Loading best model from ../model/output_t5_summarization/checkpoint-1476 (score: 1.8719040155410767).\n"
     ]
    },
    {
     "data": {
      "text/plain": [
       "TrainOutput(global_step=1845, training_loss=2.5727319071286416, metrics={'train_runtime': 1084.3172, 'train_samples_per_second': 27.174, 'train_steps_per_second': 1.702, 'total_flos': 2.017637538988032e+16, 'train_loss': 2.5727319071286416, 'epoch': 5.0})"
      ]
     },
     "execution_count": 17,
     "metadata": {},
     "output_type": "execute_result"
    }
   ],
   "source": [
    "from transformers import Seq2SeqTrainer, Seq2SeqTrainingArguments\n",
    "from transformers.trainer_utils import set_seed\n",
    "\n",
    "# 乱数シードを42に固定する\n",
    "set_seed(42)\n",
    "\n",
    "# Trainerに渡す引数を初期化\n",
    "training_args = Seq2SeqTrainingArguments(\n",
    "    output_dir=\"../model/output_t5_summarization\",\n",
    "    per_device_train_batch_size=16,\n",
    "    per_device_eval_batch_size=16,\n",
    "    learning_rate=1e-4,\n",
    "    lr_scheduler_type=\"linear\",\n",
    "    warmup_ratio=0.1,\n",
    "    num_train_epochs=5,\n",
    "    evaluation_strategy=\"epoch\",\n",
    "    save_strategy=\"epoch\",\n",
    "    logging_strategy=\"epoch\",\n",
    "    load_best_model_at_end=True,\n",
    "    report_to=\"none\",\n",
    ")\n",
    "\n",
    "# Trainerを初期化する\n",
    "trainer = Seq2SeqTrainer(\n",
    "    model=model,\n",
    "    args=training_args,\n",
    "    data_collator=data_collator,\n",
    "    train_dataset=train_dataset,\n",
    "    eval_dataset=validation_dataset,\n",
    "    tokenizer=tokenizer,\n",
    ")\n",
    "\n",
    "# 訓練する\n",
    "trainer.train()"
   ]
  },
  {
   "cell_type": "markdown",
   "metadata": {},
   "source": [
    "#### 見出しの生成とモデルの評価"
   ]
  },
  {
   "cell_type": "code",
   "execution_count": 18,
   "metadata": {},
   "outputs": [],
   "source": [
    "for param in model.parameters():\n",
    "    param.data = param.data.contiguous()"
   ]
  },
  {
   "cell_type": "markdown",
   "metadata": {},
   "source": [
    "##### 見出しの生成"
   ]
  },
  {
   "cell_type": "code",
   "execution_count": 22,
   "metadata": {},
   "outputs": [
    {
     "name": "stderr",
     "output_type": "stream",
     "text": [
      "WARNING: Logging before flag parsing goes to stderr.\n",
      "W0106 12:35:16.495135 140196162461696 arrow_dataset.py:2608] Loading cached processed dataset at /root/.cache/huggingface/datasets/llm-book___livedoor-news-corpus/default/0.0.0/0e68df407299550ef5ff2e77547963ebf3cb31cdf6cb53be6ab1aac47965d5dd/cache-6c19a3f42aafc2f0.arrow\n"
     ]
    },
    {
     "name": "stderr",
     "output_type": "stream",
     "text": [
      "  0%|          | 0/47 [00:00<?, ?it/s]/usr/local/lib/python3.10/dist-packages/transformers/generation_utils.py:1202: UserWarning: Neither `max_length` nor `max_new_tokens` have been set, `max_length` will default to 20 (`self.config.max_length`). Controlling `max_length` via the config is deprecated and `max_length` will be removed from the config in v5 of Transformers -- we recommend using `max_new_tokens` to control the maximum length of the generation.\n",
      "  warnings.warn(\n",
      "100%|██████████| 47/47 [00:22<00:00,  2.11it/s]\n"
     ]
    }
   ],
   "source": [
    "from torch.utils.data import DataLoader\n",
    "from transformers import PreTrainedModel\n",
    "\n",
    "def convert_list_to_dict_to_dict_list(\n",
    "    list_dict: dict[str, list]\n",
    ") -> list[dict[str, list]]:\n",
    "    \"\"\"ミニバッチのデータを事例単位のlistに変換\"\"\"\n",
    "    dict_list = []\n",
    "    # dictのキーのlistを作成する\n",
    "    keys = list(list_dict.keys())\n",
    "    for idx in range(len(list_dict[keys[0]])): # 各事例で処理する\n",
    "        # dictの各キーからデータを取り出してlistに追加する\n",
    "        dict_list.append({key: list_dict[key][idx] for key in keys})\n",
    "    return dict_list\n",
    "\n",
    "def run_generation(\n",
    "    dataloader: DataLoader,\n",
    "    model: PreTrainedModel\n",
    ") -> list[dict[str, Any]]:\n",
    "    \"\"\"見出しを生成\"\"\"\n",
    "    generations = []\n",
    "    for batch in tqdm(dataloader):\n",
    "        batch = {k: v.to(model.device) for k,v in batch.items() if k != \"labels\"}\n",
    "        # 見出しのトークンIDを生成する\n",
    "        batch[\"generated_title_ids\"] = model.generate(**batch)\n",
    "        batch = {k: v.cpu().tolist() for k, v in batch.items()}\n",
    "        # ミニバッチのデータを事例単位のlistに変換する\n",
    "        generations += convert_list_to_dict_to_dict_list(batch)\n",
    "    return generations\n",
    "\n",
    "# テストセットに対して前処理を行う\n",
    "test_dataset = dataset[\"test\"].map(\n",
    "    preprocess_data,\n",
    "    fn_kwargs={\"tokenizer\": tokenizer},\n",
    "    remove_columns=dataset[\"test\"].column_names,\n",
    ")\n",
    "test_dataset = test_dataset.remove_columns([\"labels\"])\n",
    "# ミニバッチの作成にDataLoaderを用いる\n",
    "test_dataloader = DataLoader(\n",
    "    test_dataset,\n",
    "    batch_size=16,\n",
    "    shuffle=False,\n",
    "    collate_fn=data_collator,\n",
    ")\n",
    "# 見出しを生成する\n",
    "generations = run_generation(test_dataloader, model)"
   ]
  },
  {
   "cell_type": "code",
   "execution_count": 23,
   "metadata": {},
   "outputs": [
    {
     "name": "stdout",
     "output_type": "stream",
     "text": [
      "['<pad>', '▁', '今日は', 'そういう', '日', 'だった', 'のか', '!', 'Google', 'ロゴ', 'が', '変わって', 'いる', '理由', '</s>', '<pad>', '<pad>', '<pad>', '<pad>', '<pad>']\n"
     ]
    }
   ],
   "source": [
    "# 生成した見出しのトークンのIDのlistをトークンのlistに変換する\n",
    "tokens = tokenizer.convert_ids_to_tokens(\n",
    "    generations[0][\"generated_title_ids\"]\n",
    ")\n",
    "print(tokens)"
   ]
  },
  {
   "cell_type": "code",
   "execution_count": 24,
   "metadata": {},
   "outputs": [
    {
     "name": "stdout",
     "output_type": "stream",
     "text": [
      "今日はそういう日だったのか!Googleロゴが変わっている理由\n"
     ]
    }
   ],
   "source": [
    "# 生成結果を見出しテキストに変換する後処理\n",
    "def postprocess_title(\n",
    "    generations: list[dict[str, Any]],\n",
    "    dataset: list[dict[str, Any]],\n",
    "    tokenizer: PreTrainedTokenizer,\n",
    "):\n",
    "    \"\"\"見出しの後処理\"\"\"\n",
    "    results = []\n",
    "    # 各事例を処理する\n",
    "    for generation, data in zip(generations, dataset):\n",
    "        # IDのlistをテキストに変換する\n",
    "        data[\"generated_title\"] = tokenizer.decode(\n",
    "            generation[\"generated_title_ids\"],\n",
    "            skip_special_tokens=True,\n",
    "        )\n",
    "        results.append(data)\n",
    "    return results\n",
    "\n",
    "# 見出しテキストを生成する\n",
    "results = postprocess_title(generations, dataset[\"test\"], tokenizer)\n",
    "print(results[0][\"generated_title\"])"
   ]
  },
  {
   "cell_type": "markdown",
   "metadata": {},
   "source": [
    "#### モデルの評価"
   ]
  },
  {
   "cell_type": "code",
   "execution_count": 25,
   "metadata": {},
   "outputs": [
    {
     "data": {
      "text/html": [
       "<div>\n",
       "<style scoped>\n",
       "    .dataframe tbody tr th:only-of-type {\n",
       "        vertical-align: middle;\n",
       "    }\n",
       "\n",
       "    .dataframe tbody tr th {\n",
       "        vertical-align: top;\n",
       "    }\n",
       "\n",
       "    .dataframe thead th {\n",
       "        text-align: right;\n",
       "    }\n",
       "</style>\n",
       "<table border=\"1\" class=\"dataframe\">\n",
       "  <thead>\n",
       "    <tr style=\"text-align: right;\">\n",
       "      <th></th>\n",
       "      <th>precision</th>\n",
       "      <th>recall</th>\n",
       "      <th>fmeasure</th>\n",
       "    </tr>\n",
       "  </thead>\n",
       "  <tbody>\n",
       "    <tr>\n",
       "      <th>rouge1</th>\n",
       "      <td>0.405</td>\n",
       "      <td>0.305</td>\n",
       "      <td>0.337</td>\n",
       "    </tr>\n",
       "    <tr>\n",
       "      <th>rouge2</th>\n",
       "      <td>0.203</td>\n",
       "      <td>0.145</td>\n",
       "      <td>0.164</td>\n",
       "    </tr>\n",
       "    <tr>\n",
       "      <th>rougeL</th>\n",
       "      <td>0.354</td>\n",
       "      <td>0.264</td>\n",
       "      <td>0.293</td>\n",
       "    </tr>\n",
       "  </tbody>\n",
       "</table>\n",
       "</div>"
      ],
      "text/plain": [
       "        precision  recall  fmeasure\n",
       "rouge1      0.405   0.305     0.337\n",
       "rouge2      0.203   0.145     0.164\n",
       "rougeL      0.354   0.264     0.293"
      ]
     },
     "metadata": {},
     "output_type": "display_data"
    }
   ],
   "source": [
    "# ROUGEを算出して表示する\n",
    "generated_titles = [\n",
    "    tagger.parse(r[\"generated_title\"]).strip() for r in results\n",
    "]\n",
    "ref_title = [tagger.parse(r[\"title\"]).strip() for r in results]\n",
    "rouge_results = compute_rouge(generated_titles, ref_title)\n",
    "display(pd.DataFrame.from_dict(rouge_results, orient=\"index\"))"
   ]
  },
  {
   "cell_type": "code",
   "execution_count": 27,
   "metadata": {},
   "outputs": [
    {
     "data": {
      "text/html": [
       "<div>\n",
       "<style scoped>\n",
       "    .dataframe tbody tr th:only-of-type {\n",
       "        vertical-align: middle;\n",
       "    }\n",
       "\n",
       "    .dataframe tbody tr th {\n",
       "        vertical-align: top;\n",
       "    }\n",
       "\n",
       "    .dataframe thead th {\n",
       "        text-align: right;\n",
       "    }\n",
       "</style>\n",
       "<table border=\"1\" class=\"dataframe\">\n",
       "  <thead>\n",
       "    <tr style=\"text-align: right;\">\n",
       "      <th></th>\n",
       "      <th>BLEU</th>\n",
       "    </tr>\n",
       "  </thead>\n",
       "  <tbody>\n",
       "    <tr>\n",
       "      <th>score</th>\n",
       "      <td>12.186</td>\n",
       "    </tr>\n",
       "    <tr>\n",
       "      <th>counts</th>\n",
       "      <td>[4220, 1978, 1140, 696]</td>\n",
       "    </tr>\n",
       "    <tr>\n",
       "      <th>totals</th>\n",
       "      <td>[10452, 9714, 8976, 8238]</td>\n",
       "    </tr>\n",
       "    <tr>\n",
       "      <th>precisions</th>\n",
       "      <td>[40.38, 20.36, 12.7, 8.45]</td>\n",
       "    </tr>\n",
       "    <tr>\n",
       "      <th>bp</th>\n",
       "      <td>0.707</td>\n",
       "    </tr>\n",
       "    <tr>\n",
       "      <th>sys_len</th>\n",
       "      <td>10452</td>\n",
       "    </tr>\n",
       "    <tr>\n",
       "      <th>ref_len</th>\n",
       "      <td>14075</td>\n",
       "    </tr>\n",
       "  </tbody>\n",
       "</table>\n",
       "</div>"
      ],
      "text/plain": [
       "                                  BLEU\n",
       "score                           12.186\n",
       "counts         [4220, 1978, 1140, 696]\n",
       "totals       [10452, 9714, 8976, 8238]\n",
       "precisions  [40.38, 20.36, 12.7, 8.45]\n",
       "bp                               0.707\n",
       "sys_len                          10452\n",
       "ref_len                          14075"
      ]
     },
     "metadata": {},
     "output_type": "display_data"
    }
   ],
   "source": [
    "# BLEUを算出して表示する\n",
    "generated_titles = [\n",
    "    tagger.parse(r[\"generated_title\"]).strip() for r in results\n",
    "]\n",
    "ref_title = [[tagger.parse(r[\"title\"]).strip()] for r in results]\n",
    "bleu_results = compute_bleu(generated_titles, ref_title)\n",
    "display(pd.DataFrame([bleu_results]).rename(index={0:\"BLEU\"}).T)"
   ]
  },
  {
   "cell_type": "code",
   "execution_count": 28,
   "metadata": {},
   "outputs": [
    {
     "name": "stderr",
     "output_type": "stream",
     "text": [
      "loading configuration file https://huggingface.co/bert-base-multilingual-cased/resolve/main/config.json from cache at /root/.cache/huggingface/transformers/6c4a5d81a58c9791cdf76a09bce1b5abfb9cf958aebada51200f4515403e5d08.0fe59f3f4f1335dadeb4bce8b8146199d9083512b50d07323c1c319f96df450c\n",
      "Model config BertConfig {\n",
      "  \"_name_or_path\": \"bert-base-multilingual-cased\",\n",
      "  \"architectures\": [\n",
      "    \"BertForMaskedLM\"\n",
      "  ],\n",
      "  \"attention_probs_dropout_prob\": 0.1,\n",
      "  \"classifier_dropout\": null,\n",
      "  \"directionality\": \"bidi\",\n",
      "  \"hidden_act\": \"gelu\",\n",
      "  \"hidden_dropout_prob\": 0.1,\n",
      "  \"hidden_size\": 768,\n",
      "  \"initializer_range\": 0.02,\n",
      "  \"intermediate_size\": 3072,\n",
      "  \"layer_norm_eps\": 1e-12,\n",
      "  \"max_position_embeddings\": 512,\n",
      "  \"model_type\": \"bert\",\n",
      "  \"num_attention_heads\": 12,\n",
      "  \"num_hidden_layers\": 12,\n",
      "  \"pad_token_id\": 0,\n",
      "  \"pooler_fc_size\": 768,\n",
      "  \"pooler_num_attention_heads\": 12,\n",
      "  \"pooler_num_fc_layers\": 3,\n",
      "  \"pooler_size_per_head\": 128,\n",
      "  \"pooler_type\": \"first_token_transform\",\n",
      "  \"position_embedding_type\": \"absolute\",\n",
      "  \"transformers_version\": \"4.21.2\",\n",
      "  \"type_vocab_size\": 2,\n",
      "  \"use_cache\": true,\n",
      "  \"vocab_size\": 119547\n",
      "}\n",
      "\n",
      "loading file https://huggingface.co/bert-base-multilingual-cased/resolve/main/vocab.txt from cache at /root/.cache/huggingface/transformers/eff018e45de5364a8368df1f2df3461d506e2a111e9dd50af1fae061cd460ead.6c5b6600e968f4b5e08c86d8891ea99e51537fc2bf251435fb46922e8f7a7b29\n",
      "loading file https://huggingface.co/bert-base-multilingual-cased/resolve/main/added_tokens.json from cache at None\n",
      "loading file https://huggingface.co/bert-base-multilingual-cased/resolve/main/special_tokens_map.json from cache at None\n",
      "loading file https://huggingface.co/bert-base-multilingual-cased/resolve/main/tokenizer_config.json from cache at /root/.cache/huggingface/transformers/f55e7a2ad4f8d0fff2733b3f79777e1e99247f2e4583703e92ce74453af8c235.25d8d06fb0679146a3ed2a3463e3585380bff882fe6e1ebc497196e40dbbd7fa\n",
      "loading configuration file https://huggingface.co/bert-base-multilingual-cased/resolve/main/config.json from cache at /root/.cache/huggingface/transformers/6c4a5d81a58c9791cdf76a09bce1b5abfb9cf958aebada51200f4515403e5d08.0fe59f3f4f1335dadeb4bce8b8146199d9083512b50d07323c1c319f96df450c\n",
      "Model config BertConfig {\n",
      "  \"_name_or_path\": \"bert-base-multilingual-cased\",\n",
      "  \"architectures\": [\n",
      "    \"BertForMaskedLM\"\n",
      "  ],\n",
      "  \"attention_probs_dropout_prob\": 0.1,\n",
      "  \"classifier_dropout\": null,\n",
      "  \"directionality\": \"bidi\",\n",
      "  \"hidden_act\": \"gelu\",\n",
      "  \"hidden_dropout_prob\": 0.1,\n",
      "  \"hidden_size\": 768,\n",
      "  \"initializer_range\": 0.02,\n",
      "  \"intermediate_size\": 3072,\n",
      "  \"layer_norm_eps\": 1e-12,\n",
      "  \"max_position_embeddings\": 512,\n",
      "  \"model_type\": \"bert\",\n",
      "  \"num_attention_heads\": 12,\n",
      "  \"num_hidden_layers\": 12,\n",
      "  \"pad_token_id\": 0,\n",
      "  \"pooler_fc_size\": 768,\n",
      "  \"pooler_num_attention_heads\": 12,\n",
      "  \"pooler_num_fc_layers\": 3,\n",
      "  \"pooler_size_per_head\": 128,\n",
      "  \"pooler_type\": \"first_token_transform\",\n",
      "  \"position_embedding_type\": \"absolute\",\n",
      "  \"transformers_version\": \"4.21.2\",\n",
      "  \"type_vocab_size\": 2,\n",
      "  \"use_cache\": true,\n",
      "  \"vocab_size\": 119547\n",
      "}\n",
      "\n",
      "loading configuration file https://huggingface.co/bert-base-multilingual-cased/resolve/main/config.json from cache at /root/.cache/huggingface/transformers/6c4a5d81a58c9791cdf76a09bce1b5abfb9cf958aebada51200f4515403e5d08.0fe59f3f4f1335dadeb4bce8b8146199d9083512b50d07323c1c319f96df450c\n",
      "Model config BertConfig {\n",
      "  \"_name_or_path\": \"bert-base-multilingual-cased\",\n",
      "  \"architectures\": [\n",
      "    \"BertForMaskedLM\"\n",
      "  ],\n",
      "  \"attention_probs_dropout_prob\": 0.1,\n",
      "  \"classifier_dropout\": null,\n",
      "  \"directionality\": \"bidi\",\n",
      "  \"hidden_act\": \"gelu\",\n",
      "  \"hidden_dropout_prob\": 0.1,\n",
      "  \"hidden_size\": 768,\n",
      "  \"initializer_range\": 0.02,\n",
      "  \"intermediate_size\": 3072,\n",
      "  \"layer_norm_eps\": 1e-12,\n",
      "  \"max_position_embeddings\": 512,\n",
      "  \"model_type\": \"bert\",\n",
      "  \"num_attention_heads\": 12,\n",
      "  \"num_hidden_layers\": 12,\n",
      "  \"pad_token_id\": 0,\n",
      "  \"pooler_fc_size\": 768,\n",
      "  \"pooler_num_attention_heads\": 12,\n",
      "  \"pooler_num_fc_layers\": 3,\n",
      "  \"pooler_size_per_head\": 128,\n",
      "  \"pooler_type\": \"first_token_transform\",\n",
      "  \"position_embedding_type\": \"absolute\",\n",
      "  \"transformers_version\": \"4.21.2\",\n",
      "  \"type_vocab_size\": 2,\n",
      "  \"use_cache\": true,\n",
      "  \"vocab_size\": 119547\n",
      "}\n",
      "\n",
      "loading weights file https://huggingface.co/bert-base-multilingual-cased/resolve/main/pytorch_model.bin from cache at /root/.cache/huggingface/transformers/0a3fd51713dcbb4def175c7f85bddc995d5976ce1dde327f99104e4d33069f17.aa7be4c79d76f4066d9b354496ea477c9ee39c5d889156dd1efb680643c2b052\n",
      "All the weights of BertModel were initialized from the model checkpoint at bert-base-multilingual-cased.\n",
      "If your task is similar to the task the model of the checkpoint was trained on, you can already use BertModel for predictions without further training.\n"
     ]
    },
    {
     "data": {
      "text/html": [
       "<div>\n",
       "<style scoped>\n",
       "    .dataframe tbody tr th:only-of-type {\n",
       "        vertical-align: middle;\n",
       "    }\n",
       "\n",
       "    .dataframe tbody tr th {\n",
       "        vertical-align: top;\n",
       "    }\n",
       "\n",
       "    .dataframe thead th {\n",
       "        text-align: right;\n",
       "    }\n",
       "</style>\n",
       "<table border=\"1\" class=\"dataframe\">\n",
       "  <thead>\n",
       "    <tr style=\"text-align: right;\">\n",
       "      <th></th>\n",
       "      <th>precision</th>\n",
       "      <th>recall</th>\n",
       "      <th>f1</th>\n",
       "    </tr>\n",
       "  </thead>\n",
       "  <tbody>\n",
       "    <tr>\n",
       "      <th>BERTScore</th>\n",
       "      <td>0.752</td>\n",
       "      <td>0.722</td>\n",
       "      <td>0.736</td>\n",
       "    </tr>\n",
       "  </tbody>\n",
       "</table>\n",
       "</div>"
      ],
      "text/plain": [
       "           precision  recall     f1\n",
       "BERTScore      0.752   0.722  0.736"
      ]
     },
     "metadata": {},
     "output_type": "display_data"
    }
   ],
   "source": [
    "# BERTScoreを算出して表示する\n",
    "generated_titles = [r[\"generated_title\"].strip() for r in results]\n",
    "ref_title = [r[\"title\"].strip() for r in results]\n",
    "bertscore_results = compute_bertscore(generated_titles, ref_title)\n",
    "display(\n",
    "    pd.DataFrame([bertscore_results]).rename(index={0:\"BERTScore\"})\n",
    ")"
   ]
  },
  {
   "cell_type": "code",
   "execution_count": 30,
   "metadata": {},
   "outputs": [
    {
     "data": {
      "text/html": [
       "<div>\n",
       "<style scoped>\n",
       "    .dataframe tbody tr th:only-of-type {\n",
       "        vertical-align: middle;\n",
       "    }\n",
       "\n",
       "    .dataframe tbody tr th {\n",
       "        vertical-align: top;\n",
       "    }\n",
       "\n",
       "    .dataframe thead th {\n",
       "        text-align: right;\n",
       "    }\n",
       "</style>\n",
       "<table border=\"1\" class=\"dataframe\">\n",
       "  <thead>\n",
       "    <tr style=\"text-align: right;\">\n",
       "      <th></th>\n",
       "      <th>content</th>\n",
       "      <th>title</th>\n",
       "      <th>generated_title</th>\n",
       "    </tr>\n",
       "  </thead>\n",
       "  <tbody>\n",
       "    <tr>\n",
       "      <th>0</th>\n",
       "      <td>「今日はそういう日だったのか！Googleロゴが変わっている理由」で紹介したように、Googleはたまにトップページのロゴを変える。今、Googleにアクセスすると、トップページのGoogleロゴが変わっているのに気づくだろう。  Googleロゴは、折り紙に見える。クリックすると、「吉澤章」という言葉が検索される。今日（3月14日）は、折り紙作家 吉澤章の誕生日だからだ。  吉澤章は、栃木県出身の折り紙作家だ。日本の創作折り紙の第一人者であるとともに、折り紙の世界的な普及に尽力したことで知られる。  興味を持った人は、インターネットで検索してみては如何だろうか。  ■Google     ■Googleに関連した記事をもっと見る ・今日はそういう日だったのか！Googleロゴが変わっている理由 ・女子のすこやかな成長を祈る日！Googleロゴがひな祭りのひな壇に ・今日はそういう日だったのか！Googleロゴが歌うカエルである理由 周波数の単位に関係あり！Googleロゴが波のアニメの理由  できるポケット Google スマートに使いこなす基本＆活用ワザ 180 ［グーグルの便利ワザ160 改訂新版］ 著者：渥美 祐輔 インプレスジャパン(2011-09-26) 販売元：Amazon.co.jp クチコミを見る</td>\n",
       "      <td>なるほど、そういうことか！Googleロゴが折り紙である理由</td>\n",
       "      <td>今日はそういう日だったのか!Googleロゴが変わっている理由</td>\n",
       "    </tr>\n",
       "    <tr>\n",
       "      <th>1</th>\n",
       "      <td>ビデオサロン12月号の記事連動の動画です。今回のテーマは「音量の合わせ方」です。詳しくは2011年12月号本誌をご覧ください。 関連記事 【ビデオマイスター】養成講座の内田氏がビデオ編集講座   ■ビデオSALON　イベント・製品レポート 最新記事 ・11月号付録 キヤノン iVIS HF G10 Perfect Book 丸かじりダダウンロード ・【Special Report】ミドルレンジのビデオ制作者の有志が集まって結成したHD Usersが選んだATEM 1M/E Switcher ・第9回上映 中平悠里 監督作品『猫と少女の物語』 ・連載●After Effects 天国への階段第9回    ◆ビデオSALON2011年12月号 http://www.genkosha.co.jp/vs/backnumber/866.html  ■関連記事 ・ソニーNXCAMのファームアップ情報【ビデオSALONI】 ・今度の貞子はネットを使って呪いを拡散？　「リング」シリーズ最新作の構想が明らかに【話題】 ・土屋アンナが「今日はかわいく」紹介！　パナソニックが少数世帯向けのプチ家電を発表 ・11月号付録 キヤノン iVIS HF G10 Perfect Book 丸かじりダウンロード【ビデオSALON】 ・iPhoneだけじゃない！！　サムスンの「GALAXY S II」もいきな...</td>\n",
       "      <td>【記事連動】音の編集講座「音量の合わせ方」【ビデオSALON】</td>\n",
       "      <td>音量の合わせ方【ビデオSALON】</td>\n",
       "    </tr>\n",
       "    <tr>\n",
       "      <th>2</th>\n",
       "      <td>みずみずしい理想の肌に欠かせないのが”しっとり感”。しかし、冬が近づいてくると、乾燥によるカサカサ肌に悩む方も多いのではないでしょうか。乾燥に負けない理想のうるおい肌になるためには、自分にあった化粧品を惜しみなく使うことが大切です。  今、ちふれでは”自分にあった化粧品を、たっぷり使ってもらいたい”という想いのもと「なりたいきれい、好きなだけ。」キャンペーンを行なっています。女優の臼田あさみさんとモデルの雅姫さんをダブルで起用し、CMやキャンペーンサイトを展開。キャンペーンサイトでは、ちふれの人気アイテムが詰まった「なりたいきれい実感セット」が合計200名様に当たるプレゼントも12月27日まで実施中です。  この臼田あさみさんが出演するCMでもおなじみの「モイスチャー パウダー ファンデーション」は、3種の「しっとりやわらかパウダー」や、水分をつつみ込むダブルのうるおいオイルを配合。メイク中でも乾燥に負けず、長時間しっとりとしたお肌を保てます。スルスル広がり、溶け込むようにぴたっと密着するので、仕上がりも重くなりません。  さらにうるおい感を持続させるためには、下地として「メーキャップ ベース クリームUV」を使用するのがオススメです。乾燥による化粧くずれを防ぐだけでなく、気になる毛穴をしっかりカバー。明るいピンク色で、肌のくすみを抑えてイキイキとした肌に仕上げます。冬でも...</td>\n",
       "      <td>【終了しました】しっとりなめらかな美肌を作る「ちふれ ベースメイクセット」を3名様にプレゼント</td>\n",
       "      <td>乾燥知らずのうるおい美肌を手に入れる「ちふれ ベースメイクセット」</td>\n",
       "    </tr>\n",
       "  </tbody>\n",
       "</table>\n",
       "</div>"
      ],
      "text/plain": [
       "                                                                                                                                                                                                                                                                                                                                                                                                                                                                                                                                                                                                                   content  \\\n",
       "0                                   「今日はそういう日だったのか！Googleロゴが変わっている理由」で紹介したように、Googleはたまにトップページのロゴを変える。今、Googleにアクセスすると、トップページのGoogleロゴが変わっているのに気づくだろう。  Googleロゴは、折り紙に見える。クリックすると、「吉澤章」という言葉が検索される。今日（3月14日）は、折り紙作家 吉澤章の誕生日だからだ。  吉澤章は、栃木県出身の折り紙作家だ。日本の創作折り紙の第一人者であるとともに、折り紙の世界的な普及に尽力したことで知られる。  興味を持った人は、インターネットで検索してみては如何だろうか。  ■Google     ■Googleに関連した記事をもっと見る ・今日はそういう日だったのか！Googleロゴが変わっている理由 ・女子のすこやかな成長を祈る日！Googleロゴがひな祭りのひな壇に ・今日はそういう日だったのか！Googleロゴが歌うカエルである理由 周波数の単位に関係あり！Googleロゴが波のアニメの理由  できるポケット Google スマートに使いこなす基本＆活用ワザ 180 ［グーグルの便利ワザ160 改訂新版］ 著者：渥美 祐輔 インプレスジャパン(2011-09-26) 販売元：Amazon.co.jp クチコミを見る   \n",
       "1  ビデオサロン12月号の記事連動の動画です。今回のテーマは「音量の合わせ方」です。詳しくは2011年12月号本誌をご覧ください。 関連記事 【ビデオマイスター】養成講座の内田氏がビデオ編集講座   ■ビデオSALON　イベント・製品レポート 最新記事 ・11月号付録 キヤノン iVIS HF G10 Perfect Book 丸かじりダダウンロード ・【Special Report】ミドルレンジのビデオ制作者の有志が集まって結成したHD Usersが選んだATEM 1M/E Switcher ・第9回上映 中平悠里 監督作品『猫と少女の物語』 ・連載●After Effects 天国への階段第9回    ◆ビデオSALON2011年12月号 http://www.genkosha.co.jp/vs/backnumber/866.html  ■関連記事 ・ソニーNXCAMのファームアップ情報【ビデオSALONI】 ・今度の貞子はネットを使って呪いを拡散？　「リング」シリーズ最新作の構想が明らかに【話題】 ・土屋アンナが「今日はかわいく」紹介！　パナソニックが少数世帯向けのプチ家電を発表 ・11月号付録 キヤノン iVIS HF G10 Perfect Book 丸かじりダウンロード【ビデオSALON】 ・iPhoneだけじゃない！！　サムスンの「GALAXY S II」もいきな...   \n",
       "2  みずみずしい理想の肌に欠かせないのが”しっとり感”。しかし、冬が近づいてくると、乾燥によるカサカサ肌に悩む方も多いのではないでしょうか。乾燥に負けない理想のうるおい肌になるためには、自分にあった化粧品を惜しみなく使うことが大切です。  今、ちふれでは”自分にあった化粧品を、たっぷり使ってもらいたい”という想いのもと「なりたいきれい、好きなだけ。」キャンペーンを行なっています。女優の臼田あさみさんとモデルの雅姫さんをダブルで起用し、CMやキャンペーンサイトを展開。キャンペーンサイトでは、ちふれの人気アイテムが詰まった「なりたいきれい実感セット」が合計200名様に当たるプレゼントも12月27日まで実施中です。  この臼田あさみさんが出演するCMでもおなじみの「モイスチャー パウダー ファンデーション」は、3種の「しっとりやわらかパウダー」や、水分をつつみ込むダブルのうるおいオイルを配合。メイク中でも乾燥に負けず、長時間しっとりとしたお肌を保てます。スルスル広がり、溶け込むようにぴたっと密着するので、仕上がりも重くなりません。  さらにうるおい感を持続させるためには、下地として「メーキャップ ベース クリームUV」を使用するのがオススメです。乾燥による化粧くずれを防ぐだけでなく、気になる毛穴をしっかりカバー。明るいピンク色で、肌のくすみを抑えてイキイキとした肌に仕上げます。冬でも...   \n",
       "\n",
       "                                             title  \\\n",
       "0                   なるほど、そういうことか！Googleロゴが折り紙である理由   \n",
       "1                  【記事連動】音の編集講座「音量の合わせ方」【ビデオSALON】   \n",
       "2  【終了しました】しっとりなめらかな美肌を作る「ちふれ ベースメイクセット」を3名様にプレゼント   \n",
       "\n",
       "                     generated_title  \n",
       "0    今日はそういう日だったのか!Googleロゴが変わっている理由  \n",
       "1                  音量の合わせ方【ビデオSALON】  \n",
       "2  乾燥知らずのうるおい美肌を手に入れる「ちふれ ベースメイクセット」  "
      ]
     },
     "metadata": {},
     "output_type": "display_data"
    }
   ],
   "source": [
    "# DataFrameのセル内の最大出力文字数を指定する\n",
    "pd.options.display.max_colwidth = 600\n",
    "# 記事、見出し、生成した見出しを表示する\n",
    "display(\n",
    "    pd.DataFrame(results)[:3][[\"content\", \"title\", \"generated_title\"]]\n",
    ")"
   ]
  },
  {
   "cell_type": "markdown",
   "metadata": {},
   "source": [
    "### 多様な生成方法による見出し生成"
   ]
  },
  {
   "cell_type": "code",
   "execution_count": 2,
   "metadata": {},
   "outputs": [],
   "source": [
    "from transformers import AutoTokenizer\n",
    "model_name = \"llm-book/t5-base-long-livedoor-news-corpus\"\n",
    "tokenizer = AutoTokenizer.from_pretrained(model_name)"
   ]
  },
  {
   "cell_type": "code",
   "execution_count": 3,
   "metadata": {},
   "outputs": [],
   "source": [
    "# モデルを読み込む\n",
    "from transformers import AutoModelForSeq2SeqLM\n",
    "model_name = \"llm-book/t5-base-long-livedoor-news-corpus\"\n",
    "model = AutoModelForSeq2SeqLM.from_pretrained(model_name).to(\"cuda:0\")# パラメータをメモリ上に隣接した形で配置\n",
    "# これを実行しない場合、モデルの保存でエラーになることがある\n",
    "for param in model.parameters():\n",
    "    param.data = param.data.contiguous()"
   ]
  },
  {
   "cell_type": "code",
   "execution_count": 4,
   "metadata": {},
   "outputs": [
    {
     "name": "stdout",
     "output_type": "stream",
     "text": [
      "記事: そろそろ梅雨がやってきます。この時期に多い女子のお悩みといえば、ヘアスタイルに関すること。  湿気で広がった髪がどうしてもまとまらず、とりあえず適当にまとめて家を飛び出したり、帽子を被ってごまかしたり……という経験、ありますよね。でも、じめじめした季節だってかわいく・オシャレに過ごしたいもの。  髪が広がりやすい梅雨の時期は、アレンジヘアで乗り切るのがベスト。「ヘアアレンジというと、難しそうな印象がありますが、ちょっとしたコツさえおさえれば、ぱぱっと簡単にできますよ！」と話してくれたのは、美容室「MADURiCA por DIFINO」のスタイリスト、山口祐亮さん。  ではさっそく、バクハツしがちなヘアをオシャレにごまかすアレンジテクニックを教えてください！  バクハツヘアもすっきり！ 楽ちんヘアアレンジ  元の髪はこんな感じ。ここからアレンジをしていきます。 基本の「まとまる」テクニック おしゃれなアレンジヘアに見せるポイントは、アレンジの前に毛先をアイロンやカーラーで巻いておくこと。このひと手間でまとまり方や仕上がりが変わります！  毛先に動きがあるだけで、ただのポニーテールもぐっとオシャレに見えるし、後れ毛だってアクセントに。コツは髪をいくつもの部分に分けて少しずつ巻くこと。慣れてしまえばそんなに時間はかかりません。  ＜簡単アレンジ1＞ ふんわりルーズ感がかわいい！ 簡単アップスタイル  完成形 蒸し暑い日はアップスタイルにしたいですよね。 このアレンジなら、編み込みがアクセントになって横顔美人！ 後ろから見たときも、ランダムに散らばった毛先がキュートです。下準備として、毛先はアイロンやカーラーで巻いておきましょう。   1.  前髪や顔周りの髪は残し、トップ〜耳上までの髪を前から見て約4：6くらいの割合になるように分け、多い方をざっくりと編み込みにして、ゴムで止めます。  編み込みを作ったら、少しずつ毛を引き出してルーズな感じにするとかわいい印象に。   2.  髪の毛の量が多い人は、後ろ髪を上下に分けて、下側の真ん中あたりの髪の一部を三つ編みにしてねじり、ピンで留めます。  これが土台になり、このあとピンをさしやすくなります。三つ編みにする量は自分の髪の量に合わせて調節してください。   3.  残った髪を何束かに分け、ねじって丸めながらバランスを見てピンで留めていきます。髪の広がりやバラつきが気になるところにどんどんピンをさしていってOK。  留めた髪の毛は毛先を広げたり逆毛を立てたり、ラフな感じに散らします。事前に毛先をアイロンなどで巻いておけば、適当にまとめてもかわいく仕上がります。  これで完成！ ＜ワンポイントアドバイス＞ 髪の量が多い人は、ピンを広げてたくさんの毛を一気に留めてしまいがち。 これではすぐにピンが外れてスタイルが崩れてしまいます。ピンは広げずにさして留めた方が取れにくいそう。今回のアレンジのように、髪をねじって留めるようにすれば、どこかがきちんと留まってさえいれば大丈夫です。  ＜簡単アレンジ2＞ オフィスでも、デートでも！ 万能ハーフアップ  完成形 簡単に作れる上品な印象のハーフアップ。後ろ姿もキレイです。きっちり作るとお堅い感じになってしまいがちですが、このアレンジならカジュアルなシーンにもぴったり。こちらも事前に毛先を巻いておくと、スタイルが決まります。   1.  好きな位置で分け目を作り、左右両方に、トップ〜耳の上の髪でやや細めの三つ編みを作っておきます。毛を引き出したりしてルーズな感じで作りましょう。  分け目を左右どちらかに寄せるとトップがふんわりして大人っぽくなります。    2.  片側に寄せてハーフアップを作り、ねじりながらまとめます。  ねじった髪の１番外側の髪（A）と、地肌の方に残っている髪（B）とをピンで縫うように留めます。ポイントは、Aの上からピンを差し込み、Bの髪をすくって上に向かってさすこと。ピンは2、3本留めておくとよいでしょう。    3.  1.で作った三つ編みを、ハーフアップをまとめたところに集めて、ピンで留めます。長さが届かなければ、先ほどのBの部分にピンで留めてまとめて。  これで完成！  どちらのスタイルも、完成後にあまり固めすぎないスプレーをしておくと、ふんわり感が持続し、崩れにくいですよ。  梅雨時の髪のクセ・広がりをおさえるテクニック  髪のクセや広がりをアレンジでごまかしちゃうのもいいけど、毎日のケアで気を付けることはあるのでしょうか？ 山口さんに聞いてみました。  テク1：髪の広がりを抑えるなら、とことん保湿！ 髪が広がる原因は、乾燥したところに水分が入り込むから。つまり、水分が入るスキマを作らないようにする必要があるのです。そのためにはお風呂上がりの保湿が重要。洗い流さないトリートメントを使って、きちんと保湿するようにしましょう。 テク2：クセを伸ばすには焦らず冷却時間をおく！ ブローしてもクセがなかなか直らない場合、きちんと冷やしていないことが原因かもしれません。ブローの際、クセを伸ばしたい部分を乾かしたら、ブラシで引っ張ったまましばらく待つか、ドライヤーの冷風モードを活用しましょう。「髪は冷えるときに固まるので、きちんと冷やさないとせっかくのスタイルが定着しません。ドライヤーの冷風モードはそのためにあるんですよ」と山口さん。涼むための機能ではなかったんですね〜。 梅雨どきのヘアスタイルにさんざん悩まされてきた女子は多いはず。今年は簡単アレンジやちょっとしたテクニックをマスターして、オシャレなスタイルで梅雨を乗り切りましょう！   MADURiCA por DIFINO お問い合わせ：03-6419-1921 営業時間： 月・木　11：00〜21：00 水・金　12：00〜22：00 土　10：00〜19：00 定休日：火曜日 住所：渋谷区神宮前5-51-8　ポルト青山8F アクセス：東京メトロ表参道駅B2出口より徒歩5分  ビルの8Fにあり、窓から表参道を見おろすことができる気持ちのいいロケーション。店内は隅々までオシャレな内装で、居心地バツグン。ゆったりくつろげる個室も用意されています。  ひとりひとりの髪質やくせに合わせ、毛束をひねりながら切っていく「Rカット」はこの美容室オリジナル。髪の悩みがある人は、一度相談してみては。 （写真：菅井淳子　文：K-Writer’s Club 八木友里恵）\n",
      "見出し: 湿気に負けない！ 梅雨の「楽カワ」ヘアアレンジ\n"
     ]
    }
   ],
   "source": [
    "content = dataset[\"test\"][434][\"content\"]\n",
    "title = dataset[\"test\"][434][\"title\"]\n",
    "print(f\"記事: {content}\")\n",
    "print(f\"見出し: {title}\")"
   ]
  },
  {
   "cell_type": "code",
   "execution_count": 5,
   "metadata": {},
   "outputs": [
    {
     "data": {
      "text/plain": [
       "True"
      ]
     },
     "execution_count": 5,
     "metadata": {},
     "output_type": "execute_result"
    }
   ],
   "source": [
    "import torch\n",
    "torch.cuda.is_available()"
   ]
  },
  {
   "cell_type": "code",
   "execution_count": 6,
   "metadata": {},
   "outputs": [],
   "source": [
    "from functools import partial\n",
    "from transformers import pipeline\n",
    "from transformers.trainer_utils import set_seed\n",
    "\n",
    "# 乱数シードを42に設定\n",
    "set_seed(42)\n",
    "\n",
    "# モデルを固定したpiplineを生成する\n",
    "fixed_model_pipeline = partial(\n",
    "    pipeline,\n",
    "    task=\"summarization\",\n",
    "    model=model,\n",
    "    tokenizer=tokenizer,\n",
    "    device=0,\n",
    ")"
   ]
  },
  {
   "cell_type": "markdown",
   "metadata": {},
   "source": [
    "#### テキスト生成における探索アルゴリズム"
   ]
  },
  {
   "cell_type": "markdown",
   "metadata": {},
   "source": [
    "#### 貪欲法"
   ]
  },
  {
   "cell_type": "code",
   "execution_count": 7,
   "metadata": {},
   "outputs": [
    {
     "name": "stdout",
     "output_type": "stream",
     "text": [
      "梅雨のヘアスタイルは簡単アレンジで! 簡単アレンジで梅雨を乗り切りよう\n"
     ]
    }
   ],
   "source": [
    "print(fixed_model_pipeline()(content)[0][\"summary_text\"])"
   ]
  },
  {
   "cell_type": "code",
   "execution_count": 8,
   "metadata": {},
   "outputs": [
    {
     "name": "stdout",
     "output_type": "stream",
     "text": [
      "梅雨のヘアスタイルは簡単アレンジで! 簡単ヘアアレンジテクニック【ビューティー特集】\n"
     ]
    }
   ],
   "source": [
    "summarization_pipeline = fixed_model_pipeline(no_repeat_ngram_size=2)\n",
    "print(summarization_pipeline(content)[0][\"summary_text\"])"
   ]
  },
  {
   "cell_type": "markdown",
   "metadata": {},
   "source": [
    "#### ビームサーチ"
   ]
  },
  {
   "cell_type": "code",
   "execution_count": 9,
   "metadata": {},
   "outputs": [
    {
     "name": "stdout",
     "output_type": "stream",
     "text": [
      "梅雨のヘアスタイルをオシャレに! 簡単アレンジで梅雨を乗り切ろう!\n"
     ]
    }
   ],
   "source": [
    "summarization_pipeline = fixed_model_pipeline(num_beams=3) # ビーム幅3\n",
    "print(summarization_pipeline(content)[0][\"summary_text\"])"
   ]
  },
  {
   "cell_type": "code",
   "execution_count": 10,
   "metadata": {},
   "outputs": [
    {
     "name": "stdout",
     "output_type": "stream",
     "text": [
      "梅雨時の髪のクセ・広がりをおさえる! 簡単アレンジで梅雨を\n",
      "梅雨時の髪のクセ・広がりをおさえるテクニック\n",
      "梅雨時の髪のクセ・広がりをおさえる! 簡単アレンジ&ちょっとした\n",
      "梅雨のヘアスタイルをオシャレに! 簡単アレンジで梅雨を乗り切ろう!\n",
      "梅雨時の髪のクセ・広がりをごまかす! 簡単アレンジテクニック【\n",
      "梅雨時の髪のクセ・広がりをごまかす! 簡単アレンジで梅雨\n",
      "梅雨時の髪のクセ・広がりをおさえるアレンジテクニック\n",
      "梅雨時の髪のクセ・広がりをおさえる簡単アレンジテクニック\n",
      "梅雨のヘアスタイルをオシャレに! 簡単アレンジで梅雨を乗り切ろう\n",
      "梅雨のヘアスタイルをオシャレに! 簡単アレンジで梅雨を乗り切りよう!\n"
     ]
    }
   ],
   "source": [
    "# 最終候補（10）を表示\n",
    "summarization_pipeline = fixed_model_pipeline(\n",
    "    num_beams=10, num_return_sequences=10\n",
    ")\n",
    "for summary in summarization_pipeline(content):\n",
    "    print(summary[\"summary_text\"])"
   ]
  },
  {
   "cell_type": "markdown",
   "metadata": {},
   "source": [
    "#### サンプリングを用いたテキスト生成"
   ]
  },
  {
   "cell_type": "code",
   "execution_count": 11,
   "metadata": {},
   "outputs": [
    {
     "name": "stdout",
     "output_type": "stream",
     "text": [
      "うっすらパーマで崩れにくい!? 梅雨入りを涼しくパチリ!\n"
     ]
    }
   ],
   "source": [
    "summarization_pipeline = fixed_model_pipeline(do_sample=True, top_k=0)\n",
    "print(summarization_pipeline(content)[0][\"summary_text\"])"
   ]
  },
  {
   "cell_type": "code",
   "execution_count": 13,
   "metadata": {},
   "outputs": [
    {
     "name": "stdout",
     "output_type": "stream",
     "text": [
      "梅雨のヘアをおしゃれにごまかす! 簡単アレンジテクニック【ビューティー特集】\n"
     ]
    }
   ],
   "source": [
    "summarization_pipeline = fixed_model_pipeline(\n",
    "    do_sample=True, top_k=0, temperature=0.5\n",
    ")\n",
    "print(summarization_pipeline(content)[0][\"summary_text\"])"
   ]
  },
  {
   "cell_type": "code",
   "execution_count": 14,
   "metadata": {},
   "outputs": [
    {
     "name": "stdout",
     "output_type": "stream",
     "text": [
      "ホワイトデーは上手にこなせライヴ「MADURiCA por DIFINO\n"
     ]
    }
   ],
   "source": [
    "summarization_pipeline = fixed_model_pipeline(\n",
    "    do_sample=True, top_k=0, temperature=1.3\n",
    ")\n",
    "print(summarization_pipeline(content)[0][\"summary_text\"])"
   ]
  },
  {
   "cell_type": "markdown",
   "metadata": {},
   "source": [
    "#### top-kサンプリング"
   ]
  },
  {
   "cell_type": "code",
   "execution_count": 15,
   "metadata": {},
   "outputs": [
    {
     "name": "stdout",
     "output_type": "stream",
     "text": [
      "梅雨の髪をごまかす簡単アレンジテクニックとは?\n"
     ]
    }
   ],
   "source": [
    "summarization_pipeline = fixed_model_pipeline(\n",
    "    do_sample=True, top_k=10, temperature=1.3\n",
    ")\n",
    "print(summarization_pipeline(content)[0][\"summary_text\"])"
   ]
  },
  {
   "cell_type": "markdown",
   "metadata": {},
   "source": [
    "#### top-pサンプリング"
   ]
  },
  {
   "cell_type": "code",
   "execution_count": 16,
   "metadata": {},
   "outputs": [
    {
     "name": "stdout",
     "output_type": "stream",
     "text": [
      "梅雨時にぴったりなアレンジ術/オシャレ女子に嬉しい“女子力アップ”テクニック\n"
     ]
    }
   ],
   "source": [
    "summarization_pipeline = fixed_model_pipeline(\n",
    "    do_sample=True, top_k=0, top_p=0.5, temperature=1.3\n",
    ")\n",
    "print(summarization_pipeline(content)[0][\"summary_text\"])"
   ]
  },
  {
   "cell_type": "markdown",
   "metadata": {},
   "source": [
    "#### 長さを調節したテキスト生成\n",
    "- トークンの長さで制御（文字数は制御できない）"
   ]
  },
  {
   "cell_type": "code",
   "execution_count": 21,
   "metadata": {},
   "outputs": [
    {
     "name": "stdout",
     "output_type": "stream",
     "text": [
      "梅雨のヘアスタイル\n",
      "梅雨の髪\n",
      "梅雨のヘア\n"
     ]
    }
   ],
   "source": [
    "summarization_pipeline = fixed_model_pipeline(\n",
    "    num_beams=3,\n",
    "    num_return_sequences=3,\n",
    "    min_length=5,\n",
    "    max_length=5,\n",
    ")\n",
    "for summary in summarization_pipeline(content):\n",
    "    print(summary[\"summary_text\"])"
   ]
  },
  {
   "cell_type": "code",
   "execution_count": 23,
   "metadata": {},
   "outputs": [
    {
     "name": "stdout",
     "output_type": "stream",
     "text": [
      "梅雨のヘアスタイルをオシャレに! 簡単アレンジで梅雨を乗り切ろう【オトナ女子のリアルな悩み解決術 vol.7】Present\n",
      "梅雨のヘアスタイルをオシャレに! 簡単アレンジで梅雨を乗り切ろう【オトナ女子のリアルな悩み解決術 vol.7】【ビューティー】\n",
      "梅雨のヘアスタイルをオシャレに! 簡単アレンジで梅雨を乗り切ろう【オトナ女子のリアルな悩み解決術 vol.7】【ビューティー特集\n"
     ]
    }
   ],
   "source": [
    "summarization_pipeline = fixed_model_pipeline(\n",
    "    num_beams=3,\n",
    "    num_return_sequences=3,\n",
    "    min_length=35,\n",
    "    max_length=35,\n",
    ")\n",
    "for summary in summarization_pipeline(content):\n",
    "    print(summary[\"summary_text\"])"
   ]
  },
  {
   "cell_type": "code",
   "execution_count": 24,
   "metadata": {},
   "outputs": [
    {
     "name": "stdout",
     "output_type": "stream",
     "text": [
      "梅雨のヘアスタイルは、アレンジできれいに! 簡単アレンジ&ちょっとしたテクニックをマスターして梅雨を乗り切りましょう【ビューティーアイテム図鑑 vol.7】\n",
      "梅雨のヘアスタイルを簡単アレンジで! 「MADURiCA POR DIFINO」の山口祐亮さんが教える「簡単アレンジ」【\n",
      "梅雨のヘアスタイルは簡単! 簡単アレンジで梅雨を乗り切る【ビューティーサロン】vol.11【ヘアアレンジ】 vol.5【オトナ女子の\n"
     ]
    }
   ],
   "source": [
    "summarization_pipeline = fixed_model_pipeline(\n",
    "    num_beams=3,\n",
    "    num_return_sequences=3,\n",
    "    min_length=35,\n",
    "    max_length=35,\n",
    "    do_sample=True,\n",
    "    temperature=1.3,\n",
    "    no_repeat_ngram_size=3,\n",
    ")\n",
    "for summary in summarization_pipeline(content):\n",
    "    print(summary[\"summary_text\"])"
   ]
  },
  {
   "cell_type": "code",
   "execution_count": null,
   "metadata": {},
   "outputs": [],
   "source": []
  }
 ],
 "metadata": {
  "kernelspec": {
   "display_name": "Python 3",
   "language": "python",
   "name": "python3"
  },
  "language_info": {
   "codemirror_mode": {
    "name": "ipython",
    "version": 3
   },
   "file_extension": ".py",
   "mimetype": "text/x-python",
   "name": "python",
   "nbconvert_exporter": "python",
   "pygments_lexer": "ipython3",
   "version": "3.10.12"
  }
 },
 "nbformat": 4,
 "nbformat_minor": 2
}
