{
 "cells": [
  {
   "cell_type": "markdown",
   "metadata": {},
   "source": [
    "## 要約生成"
   ]
  },
  {
   "cell_type": "markdown",
   "metadata": {},
   "source": [
    "### データセット"
   ]
  },
  {
   "cell_type": "markdown",
   "metadata": {},
   "source": [
    "#### データセットのダウンロード"
   ]
  },
  {
   "cell_type": "code",
   "execution_count": 1,
   "metadata": {},
   "outputs": [
    {
     "name": "stderr",
     "output_type": "stream",
     "text": [
      "Downloading builder script: 100%|██████████| 3.71k/3.71k [00:00<00:00, 22.7MB/s]\n",
      "Using custom data configuration default\n"
     ]
    },
    {
     "name": "stdout",
     "output_type": "stream",
     "text": [
      "Downloading and preparing dataset livedoor-news-corpus/default to /root/.cache/huggingface/datasets/llm-book___livedoor-news-corpus/default/0.0.0/0e68df407299550ef5ff2e77547963ebf3cb31cdf6cb53be6ab1aac47965d5dd...\n"
     ]
    },
    {
     "name": "stderr",
     "output_type": "stream",
     "text": [
      "Downloading data: 31.6MB [00:00, 55.0MB/s]                            \n",
      "                                                                  \r"
     ]
    },
    {
     "name": "stdout",
     "output_type": "stream",
     "text": [
      "Dataset livedoor-news-corpus downloaded and prepared to /root/.cache/huggingface/datasets/llm-book___livedoor-news-corpus/default/0.0.0/0e68df407299550ef5ff2e77547963ebf3cb31cdf6cb53be6ab1aac47965d5dd. Subsequent calls will reuse this data.\n"
     ]
    },
    {
     "name": "stderr",
     "output_type": "stream",
     "text": [
      "100%|██████████| 3/3 [00:00<00:00, 1237.87it/s]\n"
     ]
    }
   ],
   "source": [
    "from datasets import load_dataset\n",
    "\n",
    "# データセットを読み込む\n",
    "dataset = load_dataset(\"llm-book/livedoor-news-corpus\")"
   ]
  },
  {
   "cell_type": "code",
   "execution_count": 2,
   "metadata": {},
   "outputs": [
    {
     "name": "stdout",
     "output_type": "stream",
     "text": [
      "DatasetDict({\n",
      "    train: Dataset({\n",
      "        features: ['url', 'date', 'title', 'content', 'category'],\n",
      "        num_rows: 5893\n",
      "    })\n",
      "    validation: Dataset({\n",
      "        features: ['url', 'date', 'title', 'content', 'category'],\n",
      "        num_rows: 736\n",
      "    })\n",
      "    test: Dataset({\n",
      "        features: ['url', 'date', 'title', 'content', 'category'],\n",
      "        num_rows: 738\n",
      "    })\n",
      "})\n"
     ]
    }
   ],
   "source": [
    "# データセットの形式と事例数を表示する\n",
    "print(dataset)"
   ]
  },
  {
   "cell_type": "code",
   "execution_count": 3,
   "metadata": {},
   "outputs": [
    {
     "name": "stdout",
     "output_type": "stream",
     "text": [
      "[{'category': 'livedoor-homme',\n",
      "  'content': '日常の何気ない気持ちをTwitterにつぶやいたり、実名登録のFacebookで懐かしい友人と再会したり、SNSはもはや我々の生活において欠かせない存在となりつつある。先日、国内の月間利用者数が1,000万人を突破し、mixi（1,520万人、2011年12月現在）を追い抜くのも時間の問題と思われるFacebookでは、診断やゲームなど様々なアプリが生まれ、ユーザーのタイムラインを今日も賑わしている。しかし、その一方で、Facebookを悪用するケースもまた徐々に増え始めている。  '\n",
      "             'Facebookでは、2008年1月にAPIが公開されて以来、様々なアプリが誕生しているが、同年8月にはボット型の不正プログラム「KOOBFACE」が確認され、感染を広げた。その手口とは、「あなたがビデオに出ていますよ！」というメッセージが届き、YouTubeに偽装したURLにアクセスすると、動画再生のためにプログラムのインストールを求められ、不正プログラムをダウンロードさせるというもの。  '\n",
      "             '不正プログラムには、画面に偽の感染警告を表示し、駆除のための偽セキュリティソフトを購入させ、クレジットカード情報などの個人情報を盗むものや、ブラウザでログイン時のアカウント情報を盗むものなどが存在。更に、そのユーザーのFacebookフレンド宛にも不正なメッセージを自動送信することによって、感染規模を拡大していくのだ。  '\n",
      "             '2010年12月にはFacebookの公式アカウントを騙り、不正プログラムをインストールさせようとするスパムメールや、2011年1月にはアカウントの更新に必要として、個人情報を盗むフィッシングサイトを確認。その他にも、可愛らしい女性のプロフィール画像を載せた人物から好意的なメッセージが届き、携帯アドレスへの連絡を求めるスパムメッセージなど、その手口は年々多様化している。  '\n",
      "             'Facebookのみならず、今年1月にはTwitter公式アカウントを騙るフィッシング詐欺サイトも確認され、昨年12月の警察庁による発表では、SNS以外にもフィッシング詐欺で約2,000万円、不正プログラムで約2億8,000万円もの被害が発生している実態が明らかに。そして、3月30日には“なりすまし”等の不正な手段によるID／パスワードなどの取得を禁止し、フィッシング詐欺を取り締まるための不正アクセス禁止法の改正案が成立したばかりだ。  '\n",
      "             'フィッシング詐欺の他にも、アダルトサイト等で「入場」や「年齢確認」などをクリックしただけで“登録”したと一方的に通知し、IPアドレスなどを表示して個人を特定したかのように脅迫、費用を請求するワンクリック詐欺も急増。1月18日には、京都府警サイバー犯罪対策課により、ワンクリック詐欺サイトに関連する不正指令電磁的記録供用事件、通称“ウイルス作成罪”の供用容疑で被疑者6人が逮捕された。  '\n",
      "             '怪しいリンクはクリックしないのが鉄則だが、万が一、ウイルスに感染してしまった場合、立場は被害者から加害者へと一変。ウイルスは、友人や会社にまで感染してしまう可能性があり、“転ばぬ先”のセキュリティソフトは、もはやインターネットを利用する上で最低限のマナーといえるだろう。  '\n",
      "             '各社から発売されているセキュリティソフトの中でも、4年連続で販売本数1位(※1)を記録しているのが、トレンドマイクロの「ウイルスバスター」だ。最新版「ウイルスバスター2012 '\n",
      "             'クラウド」は、商品名にもあるように、パソコン使用中に体感する“重さ”の主な原因(※2)の約80%をクラウドに移行し、圧倒的な軽さを実現。驚異的なスピードで作成される不正プログラムにも、クラウド上で常に更新される最新の脅威情報をリアルタイムで参照して、すばやく対応するから安心だ。  '\n",
      "             '左：ウイルスバスター2012 クラウド ダウンロード3年版（中〜上級者向け） 中：ウイルスバスター2012 クラウド '\n",
      "             '+保険＆PCサポート ダウンロード3年版（初心者向け） 右：ウイルスバスター モバイル for Android '\n",
      "             'ダウンロード1年版（Android端末向け）  '\n",
      "             '新機能として、Facebook、Twitter、mixi利用時にWebサイトを評価し、URLの安全性を色別に表示してくれるので、危険なサイトからユーザーを守ってくれる。パソコン初心者の方には、1日あたりわずか約3.8円(※3)をプラスするだけで、クレジットカード不正使用の保険と、365日深夜24時まで対応のPCサポートが付いてくる。また、ワンクリック詐欺などによる不正請求画面が何度も表示されてお困りの方には、パソコン1台につき7,980円（税込）で不正請求画面を削除するクリーンナップツールを提供してくれるので、被害を未然に防ぐだけでなく、被害に遭ってしまった人にも心強い味方になってくれる。  '\n",
      "             'まずは、30日無料体験版を今すぐインストールして、その“軽快さ”と“安心”を体験して欲しい。4月30日まで、ダウンロード3年版・パッケージ版3年版を購入すると2ヵ月無料延長されるキャンペーンも実施中なので、購入はお早めに。  '\n",
      "             '・livedoor HOMME「ウイルスバスター2012 クラウド」特集ページ  ・おまかせ！不正請求クリーンナップサービス '\n",
      "             '・「ウイルスバスター2012 クラウド」30日無料体験版  '\n",
      "             '※1：全国主要家電量販店等のPOS実売統計で年間（1月〜12月）販売本数第1位のベンダーを表彰するBCN '\n",
      "             'AWARDのセキュリティソフトウェア部門において、トレンドマイクロが2008〜2011年の4年連続で最優秀賞を受賞 '\n",
      "             '※2：ウイルス対策機能の重さの原因＝シグネチャのこと ※3：トレンドマイクロ・オンラインショップのウイルスバスター2012 '\n",
      "             'クラウド＋保険＆PCサポート ダウンロード3年版の金額とウイルスバスター2012 クラウド '\n",
      "             'スタンダード3年版の通常価格を日割換算した場合',\n",
      "  'date': '2012-04-18T09:45:00+0900',\n",
      "  'title': '急成長を遂げるFacebookに忍び寄る影',\n",
      "  'url': 'http://news.livedoor.com/article/detail/6475684/'},\n",
      " {'category': 'it-life-hack',\n",
      "  'content': 'Linuxの人気ディストリビューションであるUbuntu（ウブントゥ）は、使えば使うほど、便利さを実感するものだ。今回は、Ubuntuを起動するUSBメモリーの作成方法について解説しよう。これを持ち歩いていれば、いつでもUSB起動ができるPCから自分のオリジナル環境でUbuntuが起動できる。Windows/Macユーザー問わず、知っておいて損はないだろう。   '\n",
      "             '■CDからの起動ではデータ保存に難点 前回、Ubuntuはどこが便利なのか '\n",
      "             'Windowsトラブル時にデータを救出で、CD/DVDメディアから起動することで、Windowsパーティションのデータを救出する方法について述べた。  '\n",
      "             'Ubuntuは、CD/DVDから起動した状態でも相当のアプリケーションを使うことができる（これについては別の機会に譲りたい）。だが、起動が遅いことと、起動用メディアにはデータを書き込めないため、データの保存には別途、USBメモリなどを利用しなければならないことが難点だ。  '\n",
      "             '■Ubuntuが起動可能なUSBメモリーを作成する '\n",
      "             '実は、Ubuntuには起動用のUSBメモリーを作成する機能がある。起動用のUSBメモリーを作成するには、「スタートアップ・ディスクの作成」というアプリケーションを使う。このアプリを使うには、Ubuntuのデスクトップで左側に並んだランチャーのいちばん上にある［Dashホーム］をクリックする。  '\n",
      "             '「スタートアップ・ディスクの作成」は、CD/DVDから起動した状態でも使えるのだ。  ■保存領域はFAT32などでフォーマット '\n",
      "             'USBメモリーは16GB程度あれば十分。「スタートアップ・ディスクの作成」で、起動用の領域とデータ保存用の領域を分けることができるので、データ保存用に4GB程度を確保しよう。Windows環境からでも読み込めるように、データ保存用の領域はFAT32などでフォーマットしておくこと。これで、起動用のUSBメモリーを作成できる。  '\n",
      "             'このメモリーを用意しておくことで、イザというときにデータを救出できるのはもちろん、外出先で他人のパソコンを借りなければならなくなった場合でも、USBメモリーから起動することで、自分用の環境で使い、データも持ち運びできるわけだ。   '\n",
      "             '■Ubuntu Japanese Team  大島克彦＠katsuosh［digi2（デジ通）］  '\n",
      "             'digi2は「デジタル通」の略です。現在のデジタル機器は使いこなしが難しくなっています。 '\n",
      "             '皆さんがデジタル機器の「通」に近づくための情報を、皆さんよりすこし通な執筆陣が提供します。   '\n",
      "             '■ITライフハックTwitter  ■デジ通の記事をもっと見る ・「Dropbox」のUbuntu版を試す '\n",
      "             'Linuxでも同じ使いこなし！ ・「Ubuntu One」はLinux対応 楽曲ストリーミング対応のクラウド '\n",
      "             '・なぜこんなに面倒なの？\\u3000ネット時代のサービス解約手続き ・デジタルガジェット新製品は？\\u3000'\n",
      "             '6月の大規模展示会複数開催で発表あるか？ ・メモ型クラウドサービス「Droplr」 備忘録やブックマークに使える',\n",
      "  'date': '2012-06-12T13:00:00+0900',\n",
      "  'title': 'いつでもどこでも自分専用環境！\\u3000Ubuntu起動ができるUSBメモリーを作成！【デジ通】',\n",
      "  'url': 'http://news.livedoor.com/article/detail/6649789/'}]\n"
     ]
    }
   ],
   "source": [
    "from pprint import pprint\n",
    "\n",
    "# 訓練セットの最初の2つの事例を表示する\n",
    "pprint(list(dataset[\"train\"])[:2])"
   ]
  },
  {
   "cell_type": "markdown",
   "metadata": {},
   "source": [
    "#### データセットの分析"
   ]
  },
  {
   "cell_type": "code",
   "execution_count": 4,
   "metadata": {},
   "outputs": [
    {
     "name": "stdout",
     "output_type": "stream",
     "text": [
      "[('sports-watch', 731),\n",
      " ('it-life-hack', 718),\n",
      " ('dokujo-tsushin', 695),\n",
      " ('smax', 690),\n",
      " ('movie-enter', 689),\n",
      " ('peachy', 677),\n",
      " ('kaden-channel', 656),\n",
      " ('topic-news', 616),\n",
      " ('livedoor-homme', 421)]\n"
     ]
    }
   ],
   "source": [
    "from collections import Counter\n",
    "\n",
    "# 各カテゴリの事例数を確認する\n",
    "pprint(Counter(dataset[\"train\"][\"category\"]).most_common())"
   ]
  },
  {
   "cell_type": "code",
   "execution_count": 6,
   "metadata": {},
   "outputs": [
    {
     "name": "stdout",
     "output_type": "stream",
     "text": [
      "livedoor-homme: 急成長を遂げるFacebookに忍び寄る影\n",
      "it-life-hack: いつでもどこでも自分専用環境！　Ubuntu起動ができるUSBメモリーを作成！【デジ通】\n",
      "kaden-channel: 「PS Vita」がついに発売　—　初日は待ちわびたファンが行列を作る大盛況【話題】\n",
      "smax: ソニーモバイル、Xperia ionのLTE非対応版「Xperia ion HSPA」を発表\n",
      "peachy: 【終了しました】リムジンでお買い物の後はスイートルームで“うっとろりん”、お姫さまのような1日をプレゼント\n",
      "movie-enter: 有言実行の男、ジュード・ロウが自信作を引っ提げ来日決定\n",
      "dokujo-tsushin: 言いにくい「芸能人の○○みたいにして」の一言\n",
      "sports-watch: 日本代表敗戦、セルジオ越後氏は「ベストメンバーでなければこの程度」\n",
      "topic-news: 「柏木はブタ鼻」嫉妬ややっかみからAKB48で流行るイジメごっこ\n"
     ]
    }
   ],
   "source": [
    "categories = set() # カテゴリの集合\n",
    "for data in dataset[\"train\"]: # 訓練セットの各事例を処理する\n",
    "    category, title = data[\"category\"], data[\"title\"]\n",
    "    # すでに出現しているカテゴリはスキップ\n",
    "    if category not in categories:\n",
    "        categories.add(category)\n",
    "        print(f\"{category}: {title}\")"
   ]
  },
  {
   "cell_type": "code",
   "execution_count": 9,
   "metadata": {},
   "outputs": [],
   "source": [
    "# !pip install japanize-matplotlib"
   ]
  },
  {
   "cell_type": "code",
   "execution_count": 14,
   "metadata": {},
   "outputs": [
    {
     "name": "stderr",
     "output_type": "stream",
     "text": [
      "100%|██████████| 5893/5893 [00:08<00:00, 705.11it/s]\n"
     ]
    },
    {
     "data": {
      "image/png": "[encoded data removed]",
      "text/plain": [
       "<Figure size 640x480 with 1 Axes>"
      ]
     },
     "metadata": {},
     "output_type": "display_data"
    },
    {
     "name": "stderr",
     "output_type": "stream",
     "text": [
      "100%|██████████| 5893/5893 [00:01<00:00, 5200.62it/s]\n"
     ]
    },
    {
     "data": {
      "image/png": "[encoded data removed]",
      "text/plain": [
       "<Figure size 640x480 with 1 Axes>"
      ]
     },
     "metadata": {},
     "output_type": "display_data"
    }
   ],
   "source": [
    "from collections import Counter\n",
    "import matplotlib.pyplot as plt\n",
    "from torch.utils.data import Dataset\n",
    "from tqdm import tqdm\n",
    "from transformers import AutoTokenizer, PreTrainedTokenizer\n",
    "import japanize_matplotlib\n",
    "\n",
    "# フォントサイズ変更\n",
    "plt.rcParams[\"font.size\"] = 18\n",
    "\n",
    "def visualize_num_tokens_distribution(\n",
    "    dataset: Dataset,\n",
    "    tokenizer: PreTrainedTokenizer,\n",
    "    column: str\n",
    ") -> None:\n",
    "    \"\"\"トークン数の分布を可視化\"\"\"\n",
    "    # 各事例でトークン数をカウントし、トークン数毎に結果を集約する\n",
    "    counter = Counter()\n",
    "    for data in tqdm(dataset):\n",
    "        num_tokens = len(tokenizer.tokenize(data[column]))\n",
    "        counter[num_tokens] += 1\n",
    "        \n",
    "    # トークン数の分布を可視化\n",
    "    plt.bar(counter.keys(), counter.values(), width=1.0)\n",
    "    plt.xlabel(\"トークン数\")\n",
    "    plt.ylabel(\"出現頻度\")\n",
    "    plt.gca().yaxis.set_major_locator(plt.MaxNLocator(integer=True))\n",
    "    plt.gca().yaxis.set_major_formatter(plt.FormatStrFormatter(\"%d\"))\n",
    "    plt.show()\n",
    "    \n",
    "# トークナイザを読み込む\n",
    "model_name = \"retrieva-jp/t5-base-long\"\n",
    "tokenizer = AutoTokenizer.from_pretrained(model_name)\n",
    "# 記事のトークン数の分布を可視化する\n",
    "visualize_num_tokens_distribution(\n",
    "    dataset[\"train\"], tokenizer, \"content\"\n",
    ")\n",
    "# 見出しのトークン数の分布を可視化する\n",
    "visualize_num_tokens_distribution(\n",
    "    dataset[\"train\"], tokenizer, \"title\"\n",
    ")"
   ]
  },
  {
   "cell_type": "markdown",
   "metadata": {},
   "source": [
    "### 評価指標"
   ]
  },
  {
   "cell_type": "code",
   "execution_count": 15,
   "metadata": {},
   "outputs": [
    {
     "name": "stdout",
     "output_type": "stream",
     "text": [
      "huggingface/tokenizers: The current process just got forked, after parallelism has already been used. Disabling parallelism to avoid deadlocks...\n",
      "To disable this warning, you can either:\n",
      "\t- Avoid using `tokenizers` before the fork if possible\n",
      "\t- Explicitly set the environment variable TOKENIZERS_PARALLELISM=(true | false)\n",
      "Looking in indexes: https://pypi.org/simple, https://pypi.ngc.nvidia.com\n",
      "Collecting mecab-python3\n",
      "  Downloading mecab_python3-1.0.10-cp310-cp310-manylinux_2_17_x86_64.manylinux2014_x86_64.whl (581 kB)\n",
      "\u001b[2K     \u001b[90m━━━━━━━━━━━━━━━━━━━━━━━━━━━━━━━━━━━━━━━\u001b[0m \u001b[32m581.7/581.7 kB\u001b[0m \u001b[31m7.0 MB/s\u001b[0m eta \u001b[36m0:00:00\u001b[0ma \u001b[36m0:00:01\u001b[0m\n",
      "\u001b[?25hCollecting rouge-score\n",
      "  Downloading rouge_score-0.1.2.tar.gz (17 kB)\n",
      "  Preparing metadata (setup.py) ... \u001b[?25ldone\n",
      "\u001b[?25hCollecting sacrebleu\n",
      "  Downloading sacrebleu-2.5.1-py3-none-any.whl (104 kB)\n",
      "\u001b[2K     \u001b[90m━━━━━━━━━━━━━━━━━━━━━━━━━━━━━━━━━━━━━━\u001b[0m \u001b[32m104.1/104.1 kB\u001b[0m \u001b[31m15.3 MB/s\u001b[0m eta \u001b[36m0:00:00\u001b[0m\n",
      "\u001b[?25hCollecting bert_score\n",
      "  Downloading bert_score-0.3.13-py3-none-any.whl (61 kB)\n",
      "\u001b[2K     \u001b[90m━━━━━━━━━━━━━━━━━━━━━━━━━━━━━━━━━━━━━━━━\u001b[0m \u001b[32m61.1/61.1 kB\u001b[0m \u001b[31m46.1 MB/s\u001b[0m eta \u001b[36m0:00:00\u001b[0m\n",
      "\u001b[?25hRequirement already satisfied: absl-py in /usr/local/lib/python3.10/dist-packages (from rouge-score) (1.4.0)\n",
      "Collecting nltk\n",
      "  Downloading nltk-3.9.1-py3-none-any.whl (1.5 MB)\n",
      "\u001b[2K     \u001b[90m━━━━━━━━━━━━━━━━━━━━━━━━━━━━━━━━━━━━━━━━\u001b[0m \u001b[32m1.5/1.5 MB\u001b[0m \u001b[31m16.0 MB/s\u001b[0m eta \u001b[36m0:00:00\u001b[0ma \u001b[36m0:00:01\u001b[0m\n",
      "\u001b[?25hRequirement already satisfied: numpy in /usr/local/lib/python3.10/dist-packages (from rouge-score) (1.22.2)\n",
      "Requirement already satisfied: six>=1.14.0 in /usr/local/lib/python3.10/dist-packages (from rouge-score) (1.16.0)\n",
      "Requirement already satisfied: tabulate>=0.8.9 in /usr/local/lib/python3.10/dist-packages (from sacrebleu) (0.9.0)\n",
      "Collecting portalocker\n",
      "  Downloading portalocker-3.1.1-py3-none-any.whl (19 kB)\n",
      "Requirement already satisfied: regex in /usr/local/lib/python3.10/dist-packages (from sacrebleu) (2023.6.3)\n",
      "Requirement already satisfied: colorama in /usr/local/lib/python3.10/dist-packages (from sacrebleu) (0.4.6)\n",
      "Collecting lxml\n",
      "  Downloading lxml-5.3.0-cp310-cp310-manylinux_2_28_x86_64.whl (5.0 MB)\n",
      "\u001b[2K     \u001b[90m━━━━━━━━━━━━━━━━━━━━━━━━━━━━━━━━━━━━━━━━\u001b[0m \u001b[32m5.0/5.0 MB\u001b[0m \u001b[31m29.2 MB/s\u001b[0m eta \u001b[36m0:00:00\u001b[0ma \u001b[36m0:00:01\u001b[0m\n",
      "\u001b[?25hRequirement already satisfied: matplotlib in /usr/local/lib/python3.10/dist-packages (from bert_score) (3.7.2)\n",
      "Requirement already satisfied: torch>=1.0.0 in /usr/local/lib/python3.10/dist-packages (from bert_score) (2.1.0a0+b5021ba)\n",
      "Requirement already satisfied: pandas>=1.0.1 in /usr/local/lib/python3.10/dist-packages (from bert_score) (1.5.2)\n",
      "Requirement already satisfied: requests in /usr/local/lib/python3.10/dist-packages (from bert_score) (2.31.0)\n",
      "Requirement already satisfied: tqdm>=4.31.1 in /usr/local/lib/python3.10/dist-packages (from bert_score) (4.65.0)\n",
      "Requirement already satisfied: packaging>=20.9 in /usr/local/lib/python3.10/dist-packages (from bert_score) (21.3)\n",
      "Requirement already satisfied: transformers>=3.0.0 in /usr/local/lib/python3.10/dist-packages (from bert_score) (4.21.2)\n",
      "Requirement already satisfied: pyparsing!=3.0.5,>=2.0.2 in /usr/local/lib/python3.10/dist-packages (from packaging>=20.9->bert_score) (3.0.9)\n",
      "Requirement already satisfied: python-dateutil>=2.8.1 in /usr/local/lib/python3.10/dist-packages (from pandas>=1.0.1->bert_score) (2.8.2)\n",
      "Requirement already satisfied: pytz>=2020.1 in /usr/local/lib/python3.10/dist-packages (from pandas>=1.0.1->bert_score) (2022.7.1)\n",
      "Requirement already satisfied: filelock in /usr/local/lib/python3.10/dist-packages (from torch>=1.0.0->bert_score) (3.12.2)\n",
      "Requirement already satisfied: typing-extensions in /usr/local/lib/python3.10/dist-packages (from torch>=1.0.0->bert_score) (4.12.2)\n",
      "Requirement already satisfied: sympy in /usr/local/lib/python3.10/dist-packages (from torch>=1.0.0->bert_score) (1.12)\n",
      "Requirement already satisfied: networkx in /usr/local/lib/python3.10/dist-packages (from torch>=1.0.0->bert_score) (2.6.3)\n",
      "Requirement already satisfied: jinja2 in /usr/local/lib/python3.10/dist-packages (from torch>=1.0.0->bert_score) (3.1.2)\n",
      "Requirement already satisfied: fsspec in /usr/local/lib/python3.10/dist-packages (from torch>=1.0.0->bert_score) (2023.6.0)\n",
      "Requirement already satisfied: pyyaml>=5.1 in /usr/local/lib/python3.10/dist-packages (from transformers>=3.0.0->bert_score) (6.0)\n",
      "Requirement already satisfied: tokenizers!=0.11.3,<0.13,>=0.11.1 in /usr/local/lib/python3.10/dist-packages (from transformers>=3.0.0->bert_score) (0.12.1)\n",
      "Requirement already satisfied: huggingface-hub<1.0,>=0.1.0 in /usr/local/lib/python3.10/dist-packages (from transformers>=3.0.0->bert_score) (0.26.5)\n",
      "Requirement already satisfied: contourpy>=1.0.1 in /usr/local/lib/python3.10/dist-packages (from matplotlib->bert_score) (1.1.0)\n",
      "Requirement already satisfied: cycler>=0.10 in /usr/local/lib/python3.10/dist-packages (from matplotlib->bert_score) (0.11.0)\n",
      "Requirement already satisfied: fonttools>=4.22.0 in /usr/local/lib/python3.10/dist-packages (from matplotlib->bert_score) (4.40.0)\n",
      "Requirement already satisfied: kiwisolver>=1.0.1 in /usr/local/lib/python3.10/dist-packages (from matplotlib->bert_score) (1.4.4)\n",
      "Requirement already satisfied: pillow>=6.2.0 in /usr/local/lib/python3.10/dist-packages (from matplotlib->bert_score) (9.2.0)\n",
      "Requirement already satisfied: click in /usr/local/lib/python3.10/dist-packages (from nltk->rouge-score) (8.1.3)\n",
      "Requirement already satisfied: joblib in /usr/local/lib/python3.10/dist-packages (from nltk->rouge-score) (1.3.0)\n",
      "Requirement already satisfied: charset-normalizer<4,>=2 in /usr/local/lib/python3.10/dist-packages (from requests->bert_score) (3.1.0)\n",
      "Requirement already satisfied: idna<4,>=2.5 in /usr/local/lib/python3.10/dist-packages (from requests->bert_score) (3.4)\n",
      "Requirement already satisfied: certifi>=2017.4.17 in /usr/local/lib/python3.10/dist-packages (from requests->bert_score) (2023.5.7)\n",
      "Requirement already satisfied: urllib3<3,>=1.21.1 in /usr/local/lib/python3.10/dist-packages (from requests->bert_score) (1.26.16)\n",
      "Requirement already satisfied: MarkupSafe>=2.0 in /usr/local/lib/python3.10/dist-packages (from jinja2->torch>=1.0.0->bert_score) (2.1.3)\n",
      "Requirement already satisfied: mpmath>=0.19 in /usr/local/lib/python3.10/dist-packages (from sympy->torch>=1.0.0->bert_score) (1.3.0)\n",
      "Building wheels for collected packages: rouge-score\n",
      "  Building wheel for rouge-score (setup.py) ... \u001b[?25ldone\n",
      "\u001b[?25h  Created wheel for rouge-score: filename=rouge_score-0.1.2-py3-none-any.whl size=24954 sha256=f1e4ab784ade7ab346a798edb519d562309d0c5f7b8221619313573c5324334e\n",
      "  Stored in directory: /tmp/pip-ephem-wheel-cache-42l8da71/wheels/5f/dd/89/461065a73be61a532ff8599a28e9beef17985c9e9c31e541b4\n",
      "Successfully built rouge-score\n",
      "Installing collected packages: mecab-python3, portalocker, nltk, lxml, sacrebleu, rouge-score, bert_score\n",
      "Successfully installed bert_score-0.3.13 lxml-5.3.0 mecab-python3-1.0.10 nltk-3.9.1 portalocker-3.1.1 rouge-score-0.1.2 sacrebleu-2.5.1\n",
      "\u001b[33mWARNING: Running pip as the 'root' user can result in broken permissions and conflicting behaviour with the system package manager. It is recommended to use a virtual environment instead: https://pip.pypa.io/warnings/venv\u001b[0m\u001b[33m\n",
      "\u001b[0m--- Logging error ---\n",
      "Traceback (most recent call last):\n",
      "  File \"/usr/local/lib/python3.10/dist-packages/pip/_internal/utils/logging.py\", line 177, in emit\n",
      "    self.console.print(renderable, overflow=\"ignore\", crop=False, style=style)\n",
      "  File \"/usr/local/lib/python3.10/dist-packages/pip/_vendor/rich/console.py\", line 1673, in print\n",
      "    extend(render(renderable, render_options))\n",
      "  File \"/usr/local/lib/python3.10/dist-packages/pip/_vendor/rich/console.py\", line 1305, in render\n",
      "    for render_output in iter_render:\n",
      "  File \"/usr/local/lib/python3.10/dist-packages/pip/_internal/utils/logging.py\", line 134, in __rich_console__\n",
      "    for line in lines:\n",
      "  File \"/usr/local/lib/python3.10/dist-packages/pip/_vendor/rich/segment.py\", line 249, in split_lines\n",
      "    for segment in segments:\n",
      "  File \"/usr/local/lib/python3.10/dist-packages/pip/_vendor/rich/console.py\", line 1283, in render\n",
      "    renderable = rich_cast(renderable)\n",
      "  File \"/usr/local/lib/python3.10/dist-packages/pip/_vendor/rich/protocol.py\", line 36, in rich_cast\n",
      "    renderable = cast_method()\n",
      "  File \"/usr/local/lib/python3.10/dist-packages/pip/_internal/self_outdated_check.py\", line 130, in __rich__\n",
      "    pip_cmd = get_best_invocation_for_this_pip()\n",
      "  File \"/usr/local/lib/python3.10/dist-packages/pip/_internal/utils/entrypoints.py\", line 58, in get_best_invocation_for_this_pip\n",
      "    if found_executable and os.path.samefile(\n",
      "  File \"/usr/lib/python3.10/genericpath.py\", line 101, in samefile\n",
      "    s2 = os.stat(f2)\n",
      "FileNotFoundError: [Errno 2] No such file or directory: '/usr/bin/pip'\n",
      "Call stack:\n",
      "  File \"/usr/local/bin/pip\", line 8, in <module>\n",
      "    sys.exit(main())\n",
      "  File \"/usr/local/lib/python3.10/dist-packages/pip/_internal/cli/main.py\", line 70, in main\n",
      "    return command.main(cmd_args)\n",
      "  File \"/usr/local/lib/python3.10/dist-packages/pip/_internal/cli/base_command.py\", line 101, in main\n",
      "    return self._main(args)\n",
      "  File \"/usr/local/lib/python3.10/dist-packages/pip/_internal/cli/base_command.py\", line 223, in _main\n",
      "    self.handle_pip_version_check(options)\n",
      "  File \"/usr/local/lib/python3.10/dist-packages/pip/_internal/cli/req_command.py\", line 190, in handle_pip_version_check\n",
      "    pip_self_version_check(session, options)\n",
      "  File \"/usr/local/lib/python3.10/dist-packages/pip/_internal/self_outdated_check.py\", line 236, in pip_self_version_check\n",
      "    logger.warning(\"[present-rich] %s\", upgrade_prompt)\n",
      "  File \"/usr/lib/python3.10/logging/__init__.py\", line 1489, in warning\n",
      "    self._log(WARNING, msg, args, **kwargs)\n",
      "  File \"/usr/lib/python3.10/logging/__init__.py\", line 1624, in _log\n",
      "    self.handle(record)\n",
      "  File \"/usr/lib/python3.10/logging/__init__.py\", line 1634, in handle\n",
      "    self.callHandlers(record)\n",
      "  File \"/usr/lib/python3.10/logging/__init__.py\", line 1696, in callHandlers\n",
      "    hdlr.handle(record)\n",
      "  File \"/usr/lib/python3.10/logging/__init__.py\", line 968, in handle\n",
      "    self.emit(record)\n",
      "  File \"/usr/local/lib/python3.10/dist-packages/pip/_internal/utils/logging.py\", line 179, in emit\n",
      "    self.handleError(record)\n",
      "Message: '[present-rich] %s'\n",
      "Arguments: (UpgradePrompt(old='22.2.2', new='24.3.1'),)\n"
     ]
    }
   ],
   "source": [
    "!pip install mecab-python3 rouge-score sacrebleu bert_score"
   ]
  },
  {
   "cell_type": "markdown",
   "metadata": {},
   "source": [
    "#### ROUGE"
   ]
  },
  {
   "cell_type": "code",
   "execution_count": 16,
   "metadata": {},
   "outputs": [],
   "source": [
    "reference = \"日本語T5モデルの公開\"\n",
    "prediction1 = \"T5モデルの日本語版を公開\"\n",
    "prediction2 = \"日本語T5をリリース\"\n",
    "prediction3 = \"Japanese T5を発表\""
   ]
  },
  {
   "cell_type": "code",
   "execution_count": 17,
   "metadata": {},
   "outputs": [
    {
     "name": "stdout",
     "output_type": "stream",
     "text": [
      "参照文: 日本語 T 5 モデル の 公開\n",
      "生成文1: T 5 モデル の 日本語 版 を 公開\n",
      "生成文2: 日本語 T 5 を リリース\n",
      "生成文3: Japanese T 5 を 発表\n"
     ]
    }
   ],
   "source": [
    "import ipadic\n",
    "import MeCab\n",
    "\n",
    "# IPAdicを用いたMeCabを使用して、単語分割を行う\n",
    "tagger = MeCab.Tagger(f\"-O wakati {ipadic.MECAB_ARGS}\")\n",
    "ref_wakati = tagger.parse(reference).strip()\n",
    "pred_wakati1 = tagger.parse(prediction1).strip()\n",
    "pred_wakati2 = tagger.parse(prediction2).strip()\n",
    "pred_wakati3 = tagger.parse(prediction3).strip()\n",
    "print(f\"参照文: {ref_wakati}\")\n",
    "print(f\"生成文1: {pred_wakati1}\")\n",
    "print(f\"生成文2: {pred_wakati2}\")\n",
    "print(f\"生成文3: {pred_wakati3}\")"
   ]
  },
  {
   "cell_type": "code",
   "execution_count": 29,
   "metadata": {},
   "outputs": [
    {
     "data": {
      "text/html": [
       "<div>\n",
       "<style scoped>\n",
       "    .dataframe tbody tr th:only-of-type {\n",
       "        vertical-align: middle;\n",
       "    }\n",
       "\n",
       "    .dataframe tbody tr th {\n",
       "        vertical-align: top;\n",
       "    }\n",
       "\n",
       "    .dataframe thead th {\n",
       "        text-align: right;\n",
       "    }\n",
       "</style>\n",
       "<table border=\"1\" class=\"dataframe\">\n",
       "  <thead>\n",
       "    <tr style=\"text-align: right;\">\n",
       "      <th></th>\n",
       "      <th></th>\n",
       "      <th>rouge1</th>\n",
       "      <th>rouge2</th>\n",
       "      <th>rougeL</th>\n",
       "    </tr>\n",
       "  </thead>\n",
       "  <tbody>\n",
       "    <tr>\n",
       "      <th rowspan=\"3\" valign=\"top\">生成文1</th>\n",
       "      <th>precision</th>\n",
       "      <td>0.750</td>\n",
       "      <td>0.429</td>\n",
       "      <td>0.625</td>\n",
       "    </tr>\n",
       "    <tr>\n",
       "      <th>recall</th>\n",
       "      <td>1.000</td>\n",
       "      <td>0.600</td>\n",
       "      <td>0.833</td>\n",
       "    </tr>\n",
       "    <tr>\n",
       "      <th>fmeasure</th>\n",
       "      <td>0.857</td>\n",
       "      <td>0.500</td>\n",
       "      <td>0.714</td>\n",
       "    </tr>\n",
       "    <tr>\n",
       "      <th rowspan=\"3\" valign=\"top\">生成文2</th>\n",
       "      <th>precision</th>\n",
       "      <td>0.600</td>\n",
       "      <td>0.500</td>\n",
       "      <td>0.600</td>\n",
       "    </tr>\n",
       "    <tr>\n",
       "      <th>recall</th>\n",
       "      <td>0.500</td>\n",
       "      <td>0.400</td>\n",
       "      <td>0.500</td>\n",
       "    </tr>\n",
       "    <tr>\n",
       "      <th>fmeasure</th>\n",
       "      <td>0.545</td>\n",
       "      <td>0.444</td>\n",
       "      <td>0.545</td>\n",
       "    </tr>\n",
       "    <tr>\n",
       "      <th rowspan=\"3\" valign=\"top\">生成文3</th>\n",
       "      <th>precision</th>\n",
       "      <td>0.400</td>\n",
       "      <td>0.250</td>\n",
       "      <td>0.400</td>\n",
       "    </tr>\n",
       "    <tr>\n",
       "      <th>recall</th>\n",
       "      <td>0.333</td>\n",
       "      <td>0.200</td>\n",
       "      <td>0.333</td>\n",
       "    </tr>\n",
       "    <tr>\n",
       "      <th>fmeasure</th>\n",
       "      <td>0.364</td>\n",
       "      <td>0.222</td>\n",
       "      <td>0.364</td>\n",
       "    </tr>\n",
       "  </tbody>\n",
       "</table>\n",
       "</div>"
      ],
      "text/plain": [
       "                rouge1  rouge2  rougeL\n",
       "生成文1 precision   0.750   0.429   0.625\n",
       "     recall      1.000   0.600   0.833\n",
       "     fmeasure    0.857   0.500   0.714\n",
       "生成文2 precision   0.600   0.500   0.600\n",
       "     recall      0.500   0.400   0.500\n",
       "     fmeasure    0.545   0.444   0.545\n",
       "生成文3 precision   0.400   0.250   0.400\n",
       "     recall      0.333   0.200   0.333\n",
       "     fmeasure    0.364   0.222   0.364"
      ]
     },
     "metadata": {},
     "output_type": "display_data"
    }
   ],
   "source": [
    "### ROUGEを算出\n",
    "from collections import defaultdict\n",
    "import pandas as pd\n",
    "from datasets import load_metric\n",
    "\n",
    "# pandasの小数点以下の桁数を設定\n",
    "pd.options.display.precision = 3\n",
    "\n",
    "def convert_words_to_ids(\n",
    "    predictions: list[str],\n",
    "    references: list[str]\n",
    ") -> tuple[list[str], list[str]]:\n",
    "    \"\"\"単語列をID列に変換\"\"\"\n",
    "    # 単語にユニークなIDを割りあてるためのdefaultdictを作成\n",
    "    word2id = defaultdict(lambda: len(word2id))\n",
    "    \n",
    "    # 単語区切りの文字列をID大文字に変換する\n",
    "    pred_ids = [\n",
    "        \" \".join([str(word2id[w]) for w in p.split()])\n",
    "        for p in predictions\n",
    "    ]\n",
    "    ref_ids = [\n",
    "        \" \".join([str(word2id[w]) for w in r.split()])\n",
    "        for r in references\n",
    "    ]\n",
    "    return pred_ids, ref_ids\n",
    "\n",
    "def compute_rouge(\n",
    "    predictions: list[str],\n",
    "    references: list[str]\n",
    ") -> dict[str, dict[str, float]]:\n",
    "    \"\"\"ROUGEを算出\"\"\"\n",
    "    # ROUGEをロードする\n",
    "    rouge = load_metric(\"rouge\")\n",
    "    # 単語列をID列に変換する\n",
    "    pred_ids, ref_ids = convert_words_to_ids(predictions, references)\n",
    "    # 単語ID列を評価対象に加える\n",
    "    rouge.add_batch(predictions=pred_ids, references=ref_ids,)\n",
    "    # ROUGEスコアを計算する\n",
    "    scores = rouge.compute(rouge_types=[\"rouge1\", \"rouge2\", \"rougeL\"])\n",
    "    return {k: v.mid for k,v in scores.items()}\n",
    "\n",
    "# ROUGEを算出した結果を表示する\n",
    "rouge_results = {\n",
    "    \"生成文1\": compute_rouge([pred_wakati1], [ref_wakati]),\n",
    "    \"生成文2\": compute_rouge([pred_wakati2], [ref_wakati]),\n",
    "    \"生成文3\": compute_rouge([pred_wakati3], [ref_wakati])\n",
    "}\n",
    "df_list = [\n",
    "    pd.DataFrame.from_dict(rouge_results[k], orient=\"index\")\n",
    "    for k in rouge_results.keys()\n",
    "]\n",
    "display(pd.concat(df_list, keys=rouge_results.keys(), axis=1).T)"
   ]
  },
  {
   "cell_type": "code",
   "execution_count": null,
   "metadata": {},
   "outputs": [],
   "source": []
  }
 ],
 "metadata": {
  "kernelspec": {
   "display_name": "Python 3",
   "language": "python",
   "name": "python3"
  },
  "language_info": {
   "codemirror_mode": {
    "name": "ipython",
    "version": 3
   },
   "file_extension": ".py",
   "mimetype": "text/x-python",
   "name": "python",
   "nbconvert_exporter": "python",
   "pygments_lexer": "ipython3",
   "version": "3.10.12"
  }
 },
 "nbformat": 4,
 "nbformat_minor": 2
}
